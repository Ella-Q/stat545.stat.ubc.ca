{
 "cells": [
  {
   "cell_type": "markdown",
   "metadata": {
    "nbgrader": {
     "grade": false,
     "grade_id": "cell-6cf23f5486d00725",
     "locked": true,
     "schema_version": 3,
     "solution": false,
     "task": false
    }
   },
   "source": [
    "# Worksheet 04a: Tidy Data & The Model-Fitting Paradigm in R\n",
    "_Diana Lin_\n",
    "\n",
    "This is the corresponding worksheet for Class 8 (Oct 6, 2020) & Class 9 (Oct 8, 2020).\n",
    "\n",
    "For marking purposes, we will need the packages below. Remember to pay attention to the variable name to store your answer in, or else it will not be autograded correctly."
   ]
  },
  {
   "cell_type": "code",
   "execution_count": 233,
   "metadata": {
    "collapsed": true,
    "nbgrader": {
     "grade": false,
     "grade_id": "cell-0e57a40968a03e65",
     "locked": true,
     "schema_version": 3,
     "solution": false,
     "task": false
    }
   },
   "outputs": [],
   "source": [
    "library(testthat)\n",
    "library(digest)"
   ]
  },
  {
   "cell_type": "markdown",
   "metadata": {
    "nbgrader": {
     "grade": false,
     "grade_id": "cell-67a56affda78d4f8",
     "locked": true,
     "schema_version": 3,
     "solution": false,
     "task": false
    }
   },
   "source": [
    "## TOPIC 1: Tidy Data\n",
    "\n",
    "To do our pivoting, we will be using the `tidyverse` package and the following datasets. `broom` will be used later for model-fitting."
   ]
  },
  {
   "cell_type": "code",
   "execution_count": 232,
   "metadata": {
    "collapsed": true,
    "nbgrader": {
     "grade": false,
     "grade_id": "cell-d87b78a8d6f2f2cd",
     "locked": true,
     "schema_version": 3,
     "solution": false,
     "task": false
    }
   },
   "outputs": [],
   "source": [
    "library(tidyverse)\n",
    "library(broom)\n",
    "library(gapminder)\n",
    "lotr  <- suppressMessages(read_csv(\"https://raw.githubusercontent.com/jennybc/lotr-tidy/master/data/lotr_tidy.csv\"))\n",
    "guest <- suppressMessages(read_csv(\"https://raw.githubusercontent.com/STAT545-UBC/Classroom/master/data/wedding/attend.csv\"))\n",
    "email <- suppressMessages(read_csv(\"https://raw.githubusercontent.com/STAT545-UBC/Classroom/master/data/wedding/emails.csv\"))"
   ]
  },
  {
   "cell_type": "markdown",
   "metadata": {
    "nbgrader": {
     "grade": false,
     "grade_id": "cell-2bb2c639109b2ade",
     "locked": true,
     "schema_version": 3,
     "solution": false,
     "task": false
    }
   },
   "source": [
    "## Question 1: Univariate Pivoting\n",
    "\n",
    "Consider the Lord of the Rings data:"
   ]
  },
  {
   "cell_type": "code",
   "execution_count": 197,
   "metadata": {
    "collapsed": true,
    "nbgrader": {
     "grade": false,
     "grade_id": "cell-0700841dc6bbc1ab",
     "locked": true,
     "schema_version": 3,
     "solution": false,
     "task": false
    }
   },
   "outputs": [
    {
     "data": {
      "text/html": [
       "<table>\n",
       "<caption>A spec_tbl_df: 18 × 4</caption>\n",
       "<thead>\n",
       "\t<tr><th scope=col>Film</th><th scope=col>Race</th><th scope=col>Gender</th><th scope=col>Words</th></tr>\n",
       "\t<tr><th scope=col>&lt;chr&gt;</th><th scope=col>&lt;chr&gt;</th><th scope=col>&lt;chr&gt;</th><th scope=col>&lt;dbl&gt;</th></tr>\n",
       "</thead>\n",
       "<tbody>\n",
       "\t<tr><td>The Fellowship Of The Ring</td><td>Elf   </td><td>Female</td><td>1229</td></tr>\n",
       "\t<tr><td>The Fellowship Of The Ring</td><td>Hobbit</td><td>Female</td><td>  14</td></tr>\n",
       "\t<tr><td>The Fellowship Of The Ring</td><td>Man   </td><td>Female</td><td>   0</td></tr>\n",
       "\t<tr><td>The Two Towers            </td><td>Elf   </td><td>Female</td><td> 331</td></tr>\n",
       "\t<tr><td>The Two Towers            </td><td>Hobbit</td><td>Female</td><td>   0</td></tr>\n",
       "\t<tr><td>The Two Towers            </td><td>Man   </td><td>Female</td><td> 401</td></tr>\n",
       "\t<tr><td>The Return Of The King    </td><td>Elf   </td><td>Female</td><td> 183</td></tr>\n",
       "\t<tr><td>The Return Of The King    </td><td>Hobbit</td><td>Female</td><td>   2</td></tr>\n",
       "\t<tr><td>The Return Of The King    </td><td>Man   </td><td>Female</td><td> 268</td></tr>\n",
       "\t<tr><td>The Fellowship Of The Ring</td><td>Elf   </td><td>Male  </td><td> 971</td></tr>\n",
       "\t<tr><td>The Fellowship Of The Ring</td><td>Hobbit</td><td>Male  </td><td>3644</td></tr>\n",
       "\t<tr><td>The Fellowship Of The Ring</td><td>Man   </td><td>Male  </td><td>1995</td></tr>\n",
       "\t<tr><td>The Two Towers            </td><td>Elf   </td><td>Male  </td><td> 513</td></tr>\n",
       "\t<tr><td>The Two Towers            </td><td>Hobbit</td><td>Male  </td><td>2463</td></tr>\n",
       "\t<tr><td>The Two Towers            </td><td>Man   </td><td>Male  </td><td>3589</td></tr>\n",
       "\t<tr><td>The Return Of The King    </td><td>Elf   </td><td>Male  </td><td> 510</td></tr>\n",
       "\t<tr><td>The Return Of The King    </td><td>Hobbit</td><td>Male  </td><td>2673</td></tr>\n",
       "\t<tr><td>The Return Of The King    </td><td>Man   </td><td>Male  </td><td>2459</td></tr>\n",
       "</tbody>\n",
       "</table>\n"
      ],
      "text/latex": [
       "A spec\\_tbl\\_df: 18 × 4\n",
       "\\begin{tabular}{llll}\n",
       " Film & Race & Gender & Words\\\\\n",
       " <chr> & <chr> & <chr> & <dbl>\\\\\n",
       "\\hline\n",
       "\t The Fellowship Of The Ring & Elf    & Female & 1229\\\\\n",
       "\t The Fellowship Of The Ring & Hobbit & Female &   14\\\\\n",
       "\t The Fellowship Of The Ring & Man    & Female &    0\\\\\n",
       "\t The Two Towers             & Elf    & Female &  331\\\\\n",
       "\t The Two Towers             & Hobbit & Female &    0\\\\\n",
       "\t The Two Towers             & Man    & Female &  401\\\\\n",
       "\t The Return Of The King     & Elf    & Female &  183\\\\\n",
       "\t The Return Of The King     & Hobbit & Female &    2\\\\\n",
       "\t The Return Of The King     & Man    & Female &  268\\\\\n",
       "\t The Fellowship Of The Ring & Elf    & Male   &  971\\\\\n",
       "\t The Fellowship Of The Ring & Hobbit & Male   & 3644\\\\\n",
       "\t The Fellowship Of The Ring & Man    & Male   & 1995\\\\\n",
       "\t The Two Towers             & Elf    & Male   &  513\\\\\n",
       "\t The Two Towers             & Hobbit & Male   & 2463\\\\\n",
       "\t The Two Towers             & Man    & Male   & 3589\\\\\n",
       "\t The Return Of The King     & Elf    & Male   &  510\\\\\n",
       "\t The Return Of The King     & Hobbit & Male   & 2673\\\\\n",
       "\t The Return Of The King     & Man    & Male   & 2459\\\\\n",
       "\\end{tabular}\n"
      ],
      "text/markdown": [
       "\n",
       "A spec_tbl_df: 18 × 4\n",
       "\n",
       "| Film &lt;chr&gt; | Race &lt;chr&gt; | Gender &lt;chr&gt; | Words &lt;dbl&gt; |\n",
       "|---|---|---|---|\n",
       "| The Fellowship Of The Ring | Elf    | Female | 1229 |\n",
       "| The Fellowship Of The Ring | Hobbit | Female |   14 |\n",
       "| The Fellowship Of The Ring | Man    | Female |    0 |\n",
       "| The Two Towers             | Elf    | Female |  331 |\n",
       "| The Two Towers             | Hobbit | Female |    0 |\n",
       "| The Two Towers             | Man    | Female |  401 |\n",
       "| The Return Of The King     | Elf    | Female |  183 |\n",
       "| The Return Of The King     | Hobbit | Female |    2 |\n",
       "| The Return Of The King     | Man    | Female |  268 |\n",
       "| The Fellowship Of The Ring | Elf    | Male   |  971 |\n",
       "| The Fellowship Of The Ring | Hobbit | Male   | 3644 |\n",
       "| The Fellowship Of The Ring | Man    | Male   | 1995 |\n",
       "| The Two Towers             | Elf    | Male   |  513 |\n",
       "| The Two Towers             | Hobbit | Male   | 2463 |\n",
       "| The Two Towers             | Man    | Male   | 3589 |\n",
       "| The Return Of The King     | Elf    | Male   |  510 |\n",
       "| The Return Of The King     | Hobbit | Male   | 2673 |\n",
       "| The Return Of The King     | Man    | Male   | 2459 |\n",
       "\n"
      ],
      "text/plain": [
       "   Film                       Race   Gender Words\n",
       "1  The Fellowship Of The Ring Elf    Female 1229 \n",
       "2  The Fellowship Of The Ring Hobbit Female   14 \n",
       "3  The Fellowship Of The Ring Man    Female    0 \n",
       "4  The Two Towers             Elf    Female  331 \n",
       "5  The Two Towers             Hobbit Female    0 \n",
       "6  The Two Towers             Man    Female  401 \n",
       "7  The Return Of The King     Elf    Female  183 \n",
       "8  The Return Of The King     Hobbit Female    2 \n",
       "9  The Return Of The King     Man    Female  268 \n",
       "10 The Fellowship Of The Ring Elf    Male    971 \n",
       "11 The Fellowship Of The Ring Hobbit Male   3644 \n",
       "12 The Fellowship Of The Ring Man    Male   1995 \n",
       "13 The Two Towers             Elf    Male    513 \n",
       "14 The Two Towers             Hobbit Male   2463 \n",
       "15 The Two Towers             Man    Male   3589 \n",
       "16 The Return Of The King     Elf    Male    510 \n",
       "17 The Return Of The King     Hobbit Male   2673 \n",
       "18 The Return Of The King     Man    Male   2459 "
      ]
     },
     "metadata": {},
     "output_type": "display_data"
    }
   ],
   "source": [
    "lotr"
   ]
  },
  {
   "cell_type": "markdown",
   "metadata": {
    "nbgrader": {
     "grade": false,
     "grade_id": "cell-31b880187338213a",
     "locked": true,
     "schema_version": 3,
     "solution": false,
     "task": false
    }
   },
   "source": [
    "### Question 1.1\n",
    "Widen the data so that we see the words spoken by each race, by puttting race as its own column. Store this data frame in variable `lotr_wide`."
   ]
  },
  {
   "cell_type": "code",
   "execution_count": 198,
   "metadata": {
    "collapsed": true,
    "nbgrader": {
     "grade": false,
     "grade_id": "cell-69d0326c263cea22",
     "locked": false,
     "schema_version": 3,
     "solution": true,
     "task": false
    }
   },
   "outputs": [
    {
     "data": {
      "text/html": [
       "<table>\n",
       "<caption>A tibble: 6 × 5</caption>\n",
       "<thead>\n",
       "\t<tr><th scope=col>Film</th><th scope=col>Gender</th><th scope=col>Elf</th><th scope=col>Hobbit</th><th scope=col>Man</th></tr>\n",
       "\t<tr><th scope=col>&lt;chr&gt;</th><th scope=col>&lt;chr&gt;</th><th scope=col>&lt;dbl&gt;</th><th scope=col>&lt;dbl&gt;</th><th scope=col>&lt;dbl&gt;</th></tr>\n",
       "</thead>\n",
       "<tbody>\n",
       "\t<tr><td>The Fellowship Of The Ring</td><td>Female</td><td>1229</td><td>  14</td><td>   0</td></tr>\n",
       "\t<tr><td>The Two Towers            </td><td>Female</td><td> 331</td><td>   0</td><td> 401</td></tr>\n",
       "\t<tr><td>The Return Of The King    </td><td>Female</td><td> 183</td><td>   2</td><td> 268</td></tr>\n",
       "\t<tr><td>The Fellowship Of The Ring</td><td>Male  </td><td> 971</td><td>3644</td><td>1995</td></tr>\n",
       "\t<tr><td>The Two Towers            </td><td>Male  </td><td> 513</td><td>2463</td><td>3589</td></tr>\n",
       "\t<tr><td>The Return Of The King    </td><td>Male  </td><td> 510</td><td>2673</td><td>2459</td></tr>\n",
       "</tbody>\n",
       "</table>\n"
      ],
      "text/latex": [
       "A tibble: 6 × 5\n",
       "\\begin{tabular}{lllll}\n",
       " Film & Gender & Elf & Hobbit & Man\\\\\n",
       " <chr> & <chr> & <dbl> & <dbl> & <dbl>\\\\\n",
       "\\hline\n",
       "\t The Fellowship Of The Ring & Female & 1229 &   14 &    0\\\\\n",
       "\t The Two Towers             & Female &  331 &    0 &  401\\\\\n",
       "\t The Return Of The King     & Female &  183 &    2 &  268\\\\\n",
       "\t The Fellowship Of The Ring & Male   &  971 & 3644 & 1995\\\\\n",
       "\t The Two Towers             & Male   &  513 & 2463 & 3589\\\\\n",
       "\t The Return Of The King     & Male   &  510 & 2673 & 2459\\\\\n",
       "\\end{tabular}\n"
      ],
      "text/markdown": [
       "\n",
       "A tibble: 6 × 5\n",
       "\n",
       "| Film &lt;chr&gt; | Gender &lt;chr&gt; | Elf &lt;dbl&gt; | Hobbit &lt;dbl&gt; | Man &lt;dbl&gt; |\n",
       "|---|---|---|---|---|\n",
       "| The Fellowship Of The Ring | Female | 1229 |   14 |    0 |\n",
       "| The Two Towers             | Female |  331 |    0 |  401 |\n",
       "| The Return Of The King     | Female |  183 |    2 |  268 |\n",
       "| The Fellowship Of The Ring | Male   |  971 | 3644 | 1995 |\n",
       "| The Two Towers             | Male   |  513 | 2463 | 3589 |\n",
       "| The Return Of The King     | Male   |  510 | 2673 | 2459 |\n",
       "\n"
      ],
      "text/plain": [
       "  Film                       Gender Elf  Hobbit Man \n",
       "1 The Fellowship Of The Ring Female 1229   14      0\n",
       "2 The Two Towers             Female  331    0    401\n",
       "3 The Return Of The King     Female  183    2    268\n",
       "4 The Fellowship Of The Ring Male    971 3644   1995\n",
       "5 The Two Towers             Male    513 2463   3589\n",
       "6 The Return Of The King     Male    510 2673   2459"
      ]
     },
     "metadata": {},
     "output_type": "display_data"
    }
   ],
   "source": [
    "# YOUR ANSWER HERE\n",
    "### BEGIN SOLUTION\n",
    "(lotr_wide <- lotr %>%\n",
    "    pivot_wider(id_cols = c(-Race, -Words), \n",
    "                names_from = Race,\n",
    "                values_from = Words))\n",
    "### END SOLUTION"
   ]
  },
  {
   "cell_type": "code",
   "execution_count": 199,
   "metadata": {
    "collapsed": true,
    "nbgrader": {
     "grade": true,
     "grade_id": "cell-cdf83fd8542d1a5f",
     "locked": true,
     "points": 1,
     "schema_version": 3,
     "solution": false,
     "task": false
    }
   },
   "outputs": [
    {
     "name": "stdout",
     "output_type": "stream",
     "text": [
      "[1] \"Success!\"\n"
     ]
    }
   ],
   "source": [
    "test_that(\"Question 1.1\", {expect_equal(digest(lotr_wide), \"0ab029817c5e0d9e40be607969f6f006\")})\n",
    "print(\"Correct!\")"
   ]
  },
  {
   "cell_type": "markdown",
   "metadata": {
    "nbgrader": {
     "grade": false,
     "grade_id": "cell-e605b348e5f2d218",
     "locked": true,
     "schema_version": 3,
     "solution": false,
     "task": false
    }
   },
   "source": [
    "### Question 1.2\n",
    "Re-lengthen the wide `lotr` data from Question 1.2 above. Store this data frame in the variable `lotr_long`.\n",
    "\n",
    "**Hint:** the resulting data frame should appear to be the same as the original!"
   ]
  },
  {
   "cell_type": "code",
   "execution_count": 235,
   "metadata": {
    "collapsed": true,
    "nbgrader": {
     "grade": false,
     "grade_id": "cell-dd9ee0af42a31d96",
     "locked": false,
     "schema_version": 3,
     "solution": true,
     "task": false
    }
   },
   "outputs": [
    {
     "data": {
      "text/html": [
       "<table>\n",
       "<caption>A tibble: 18 × 4</caption>\n",
       "<thead>\n",
       "\t<tr><th scope=col>Film</th><th scope=col>Gender</th><th scope=col>Race</th><th scope=col>Words</th></tr>\n",
       "\t<tr><th scope=col>&lt;chr&gt;</th><th scope=col>&lt;chr&gt;</th><th scope=col>&lt;chr&gt;</th><th scope=col>&lt;dbl&gt;</th></tr>\n",
       "</thead>\n",
       "<tbody>\n",
       "\t<tr><td>The Fellowship Of The Ring</td><td>Female</td><td>Elf   </td><td>1229</td></tr>\n",
       "\t<tr><td>The Fellowship Of The Ring</td><td>Female</td><td>Hobbit</td><td>  14</td></tr>\n",
       "\t<tr><td>The Fellowship Of The Ring</td><td>Female</td><td>Man   </td><td>   0</td></tr>\n",
       "\t<tr><td>The Two Towers            </td><td>Female</td><td>Elf   </td><td> 331</td></tr>\n",
       "\t<tr><td>The Two Towers            </td><td>Female</td><td>Hobbit</td><td>   0</td></tr>\n",
       "\t<tr><td>The Two Towers            </td><td>Female</td><td>Man   </td><td> 401</td></tr>\n",
       "\t<tr><td>The Return Of The King    </td><td>Female</td><td>Elf   </td><td> 183</td></tr>\n",
       "\t<tr><td>The Return Of The King    </td><td>Female</td><td>Hobbit</td><td>   2</td></tr>\n",
       "\t<tr><td>The Return Of The King    </td><td>Female</td><td>Man   </td><td> 268</td></tr>\n",
       "\t<tr><td>The Fellowship Of The Ring</td><td>Male  </td><td>Elf   </td><td> 971</td></tr>\n",
       "\t<tr><td>The Fellowship Of The Ring</td><td>Male  </td><td>Hobbit</td><td>3644</td></tr>\n",
       "\t<tr><td>The Fellowship Of The Ring</td><td>Male  </td><td>Man   </td><td>1995</td></tr>\n",
       "\t<tr><td>The Two Towers            </td><td>Male  </td><td>Elf   </td><td> 513</td></tr>\n",
       "\t<tr><td>The Two Towers            </td><td>Male  </td><td>Hobbit</td><td>2463</td></tr>\n",
       "\t<tr><td>The Two Towers            </td><td>Male  </td><td>Man   </td><td>3589</td></tr>\n",
       "\t<tr><td>The Return Of The King    </td><td>Male  </td><td>Elf   </td><td> 510</td></tr>\n",
       "\t<tr><td>The Return Of The King    </td><td>Male  </td><td>Hobbit</td><td>2673</td></tr>\n",
       "\t<tr><td>The Return Of The King    </td><td>Male  </td><td>Man   </td><td>2459</td></tr>\n",
       "</tbody>\n",
       "</table>\n"
      ],
      "text/latex": [
       "A tibble: 18 × 4\n",
       "\\begin{tabular}{llll}\n",
       " Film & Gender & Race & Words\\\\\n",
       " <chr> & <chr> & <chr> & <dbl>\\\\\n",
       "\\hline\n",
       "\t The Fellowship Of The Ring & Female & Elf    & 1229\\\\\n",
       "\t The Fellowship Of The Ring & Female & Hobbit &   14\\\\\n",
       "\t The Fellowship Of The Ring & Female & Man    &    0\\\\\n",
       "\t The Two Towers             & Female & Elf    &  331\\\\\n",
       "\t The Two Towers             & Female & Hobbit &    0\\\\\n",
       "\t The Two Towers             & Female & Man    &  401\\\\\n",
       "\t The Return Of The King     & Female & Elf    &  183\\\\\n",
       "\t The Return Of The King     & Female & Hobbit &    2\\\\\n",
       "\t The Return Of The King     & Female & Man    &  268\\\\\n",
       "\t The Fellowship Of The Ring & Male   & Elf    &  971\\\\\n",
       "\t The Fellowship Of The Ring & Male   & Hobbit & 3644\\\\\n",
       "\t The Fellowship Of The Ring & Male   & Man    & 1995\\\\\n",
       "\t The Two Towers             & Male   & Elf    &  513\\\\\n",
       "\t The Two Towers             & Male   & Hobbit & 2463\\\\\n",
       "\t The Two Towers             & Male   & Man    & 3589\\\\\n",
       "\t The Return Of The King     & Male   & Elf    &  510\\\\\n",
       "\t The Return Of The King     & Male   & Hobbit & 2673\\\\\n",
       "\t The Return Of The King     & Male   & Man    & 2459\\\\\n",
       "\\end{tabular}\n"
      ],
      "text/markdown": [
       "\n",
       "A tibble: 18 × 4\n",
       "\n",
       "| Film &lt;chr&gt; | Gender &lt;chr&gt; | Race &lt;chr&gt; | Words &lt;dbl&gt; |\n",
       "|---|---|---|---|\n",
       "| The Fellowship Of The Ring | Female | Elf    | 1229 |\n",
       "| The Fellowship Of The Ring | Female | Hobbit |   14 |\n",
       "| The Fellowship Of The Ring | Female | Man    |    0 |\n",
       "| The Two Towers             | Female | Elf    |  331 |\n",
       "| The Two Towers             | Female | Hobbit |    0 |\n",
       "| The Two Towers             | Female | Man    |  401 |\n",
       "| The Return Of The King     | Female | Elf    |  183 |\n",
       "| The Return Of The King     | Female | Hobbit |    2 |\n",
       "| The Return Of The King     | Female | Man    |  268 |\n",
       "| The Fellowship Of The Ring | Male   | Elf    |  971 |\n",
       "| The Fellowship Of The Ring | Male   | Hobbit | 3644 |\n",
       "| The Fellowship Of The Ring | Male   | Man    | 1995 |\n",
       "| The Two Towers             | Male   | Elf    |  513 |\n",
       "| The Two Towers             | Male   | Hobbit | 2463 |\n",
       "| The Two Towers             | Male   | Man    | 3589 |\n",
       "| The Return Of The King     | Male   | Elf    |  510 |\n",
       "| The Return Of The King     | Male   | Hobbit | 2673 |\n",
       "| The Return Of The King     | Male   | Man    | 2459 |\n",
       "\n"
      ],
      "text/plain": [
       "   Film                       Gender Race   Words\n",
       "1  The Fellowship Of The Ring Female Elf    1229 \n",
       "2  The Fellowship Of The Ring Female Hobbit   14 \n",
       "3  The Fellowship Of The Ring Female Man       0 \n",
       "4  The Two Towers             Female Elf     331 \n",
       "5  The Two Towers             Female Hobbit    0 \n",
       "6  The Two Towers             Female Man     401 \n",
       "7  The Return Of The King     Female Elf     183 \n",
       "8  The Return Of The King     Female Hobbit    2 \n",
       "9  The Return Of The King     Female Man     268 \n",
       "10 The Fellowship Of The Ring Male   Elf     971 \n",
       "11 The Fellowship Of The Ring Male   Hobbit 3644 \n",
       "12 The Fellowship Of The Ring Male   Man    1995 \n",
       "13 The Two Towers             Male   Elf     513 \n",
       "14 The Two Towers             Male   Hobbit 2463 \n",
       "15 The Two Towers             Male   Man    3589 \n",
       "16 The Return Of The King     Male   Elf     510 \n",
       "17 The Return Of The King     Male   Hobbit 2673 \n",
       "18 The Return Of The King     Male   Man    2459 "
      ]
     },
     "metadata": {},
     "output_type": "display_data"
    }
   ],
   "source": [
    "# YOUR ANSWER HERE\n",
    "### BEGIN SOLUTION\n",
    "(lotr_long <- lotr_wide %>% \n",
    "  pivot_longer(cols = c(-Film, -Gender), \n",
    "               names_to  = \"Race\", \n",
    "               values_to = \"Words\"))\n",
    "### END SOLUTION"
   ]
  },
  {
   "cell_type": "code",
   "execution_count": 234,
   "metadata": {
    "collapsed": true,
    "nbgrader": {
     "grade": true,
     "grade_id": "cell-9ca00a4e9e835c5b",
     "locked": true,
     "points": 1,
     "schema_version": 3,
     "solution": false,
     "task": false
    }
   },
   "outputs": [
    {
     "name": "stdout",
     "output_type": "stream",
     "text": [
      "[1] \"Success!\"\n"
     ]
    }
   ],
   "source": [
    "test_that(\"Question 1.2\", {expect_equal(digest(lotr_long), \"c1449d8350e4ea2c2c4c64f0c083d289\")})\n",
    "print(\"Correct!\")"
   ]
  },
  {
   "cell_type": "markdown",
   "metadata": {
    "nbgrader": {
     "grade": false,
     "grade_id": "cell-74b6ea9dd9cd3970",
     "locked": true,
     "schema_version": 3,
     "solution": false,
     "task": false
    }
   },
   "source": [
    "## Question 2: Multivariate Pivoting\n",
    "Congratulations, you’re getting married! In addition to the wedding, you’ve decided to hold two other events: a day-of brunch and a day-before round of golf. You’ve made a guestlist of attendance so far, along with food preference for the food events (wedding and brunch)."
   ]
  },
  {
   "cell_type": "code",
   "execution_count": 202,
   "metadata": {
    "collapsed": true,
    "nbgrader": {
     "grade": false,
     "grade_id": "cell-f7d65824be40afab",
     "locked": true,
     "schema_version": 3,
     "solution": false,
     "task": false
    }
   },
   "outputs": [
    {
     "data": {
      "text/html": [
       "<table>\n",
       "<caption>A spec_tbl_df: 30 × 7</caption>\n",
       "<thead>\n",
       "\t<tr><th scope=col>party</th><th scope=col>name</th><th scope=col>meal_wedding</th><th scope=col>meal_brunch</th><th scope=col>attendance_wedding</th><th scope=col>attendance_brunch</th><th scope=col>attendance_golf</th></tr>\n",
       "\t<tr><th scope=col>&lt;dbl&gt;</th><th scope=col>&lt;chr&gt;</th><th scope=col>&lt;chr&gt;</th><th scope=col>&lt;chr&gt;</th><th scope=col>&lt;chr&gt;</th><th scope=col>&lt;chr&gt;</th><th scope=col>&lt;chr&gt;</th></tr>\n",
       "</thead>\n",
       "<tbody>\n",
       "\t<tr><td> 1</td><td>Sommer Medrano    </td><td>PENDING   </td><td>PENDING</td><td>PENDING  </td><td>PENDING  </td><td>PENDING  </td></tr>\n",
       "\t<tr><td> 1</td><td>Phillip Medrano   </td><td>vegetarian</td><td>Menu C </td><td>CONFIRMED</td><td>CONFIRMED</td><td>CONFIRMED</td></tr>\n",
       "\t<tr><td> 1</td><td>Blanka Medrano    </td><td>chicken   </td><td>Menu A </td><td>CONFIRMED</td><td>CONFIRMED</td><td>CONFIRMED</td></tr>\n",
       "\t<tr><td> 1</td><td>Emaan Medrano     </td><td>PENDING   </td><td>PENDING</td><td>PENDING  </td><td>PENDING  </td><td>PENDING  </td></tr>\n",
       "\t<tr><td> 2</td><td>Blair Park        </td><td>chicken   </td><td>Menu C </td><td>CONFIRMED</td><td>CONFIRMED</td><td>CONFIRMED</td></tr>\n",
       "\t<tr><td> 2</td><td>Nigel Webb        </td><td>NA        </td><td>NA     </td><td>CANCELLED</td><td>CANCELLED</td><td>CANCELLED</td></tr>\n",
       "\t<tr><td> 3</td><td>Sinead English    </td><td>PENDING   </td><td>PENDING</td><td>PENDING  </td><td>PENDING  </td><td>PENDING  </td></tr>\n",
       "\t<tr><td> 4</td><td>Ayra Marks        </td><td>vegetarian</td><td>Menu B </td><td>PENDING  </td><td>PENDING  </td><td>PENDING  </td></tr>\n",
       "\t<tr><td> 5</td><td>Atlanta Connolly  </td><td>PENDING   </td><td>PENDING</td><td>PENDING  </td><td>PENDING  </td><td>PENDING  </td></tr>\n",
       "\t<tr><td> 5</td><td>Denzel Connolly   </td><td>fish      </td><td>Menu B </td><td>CONFIRMED</td><td>CONFIRMED</td><td>CONFIRMED</td></tr>\n",
       "\t<tr><td> 5</td><td>Chanelle Shah     </td><td>chicken   </td><td>Menu C </td><td>CONFIRMED</td><td>CONFIRMED</td><td>CONFIRMED</td></tr>\n",
       "\t<tr><td> 6</td><td>Jolene Welsh      </td><td>NA        </td><td>NA     </td><td>CANCELLED</td><td>CANCELLED</td><td>CANCELLED</td></tr>\n",
       "\t<tr><td> 6</td><td>Hayley Booker     </td><td>vegetarian</td><td>Menu C </td><td>CONFIRMED</td><td>CONFIRMED</td><td>CONFIRMED</td></tr>\n",
       "\t<tr><td> 7</td><td>Amayah Sanford    </td><td>NA        </td><td>PENDING</td><td>CANCELLED</td><td>PENDING  </td><td>PENDING  </td></tr>\n",
       "\t<tr><td> 7</td><td>Erika Foley       </td><td>PENDING   </td><td>PENDING</td><td>PENDING  </td><td>PENDING  </td><td>PENDING  </td></tr>\n",
       "\t<tr><td> 8</td><td>Ciaron Acosta     </td><td>PENDING   </td><td>Menu A </td><td>PENDING  </td><td>PENDING  </td><td>PENDING  </td></tr>\n",
       "\t<tr><td> 9</td><td>Diana Stuart      </td><td>vegetarian</td><td>Menu C </td><td>CONFIRMED</td><td>CONFIRMED</td><td>CONFIRMED</td></tr>\n",
       "\t<tr><td>10</td><td>Cosmo Dunkley     </td><td>PENDING   </td><td>PENDING</td><td>PENDING  </td><td>PENDING  </td><td>PENDING  </td></tr>\n",
       "\t<tr><td>11</td><td>Cai Mcdaniel      </td><td>fish      </td><td>Menu C </td><td>CONFIRMED</td><td>CONFIRMED</td><td>CONFIRMED</td></tr>\n",
       "\t<tr><td>12</td><td>Daisy-May Caldwell</td><td>chicken   </td><td>Menu B </td><td>CONFIRMED</td><td>CONFIRMED</td><td>CONFIRMED</td></tr>\n",
       "\t<tr><td>12</td><td>Martin Caldwell   </td><td>PENDING   </td><td>PENDING</td><td>PENDING  </td><td>PENDING  </td><td>PENDING  </td></tr>\n",
       "\t<tr><td>12</td><td>Violet Caldwell   </td><td>PENDING   </td><td>PENDING</td><td>PENDING  </td><td>PENDING  </td><td>PENDING  </td></tr>\n",
       "\t<tr><td>12</td><td>Nazifa Caldwell   </td><td>chicken   </td><td>PENDING</td><td>PENDING  </td><td>PENDING  </td><td>PENDING  </td></tr>\n",
       "\t<tr><td>12</td><td>Eric Caldwell     </td><td>chicken   </td><td>Menu B </td><td>CONFIRMED</td><td>CONFIRMED</td><td>CONFIRMED</td></tr>\n",
       "\t<tr><td>13</td><td>Rosanna Bird      </td><td>vegetarian</td><td>Menu C </td><td>CONFIRMED</td><td>CONFIRMED</td><td>CONFIRMED</td></tr>\n",
       "\t<tr><td>13</td><td>Kurtis Frost      </td><td>PENDING   </td><td>PENDING</td><td>PENDING  </td><td>PENDING  </td><td>PENDING  </td></tr>\n",
       "\t<tr><td>14</td><td>Huma Stokes       </td><td>NA        </td><td>NA     </td><td>CANCELLED</td><td>CANCELLED</td><td>CANCELLED</td></tr>\n",
       "\t<tr><td>14</td><td>Samuel Rutledge   </td><td>chicken   </td><td>Menu C </td><td>CONFIRMED</td><td>CONFIRMED</td><td>CONFIRMED</td></tr>\n",
       "\t<tr><td>15</td><td>Eddison Collier   </td><td>PENDING   </td><td>PENDING</td><td>PENDING  </td><td>PENDING  </td><td>PENDING  </td></tr>\n",
       "\t<tr><td>15</td><td>Stewart Nicholls  </td><td>chicken   </td><td>Menu B </td><td>CONFIRMED</td><td>CONFIRMED</td><td>CONFIRMED</td></tr>\n",
       "</tbody>\n",
       "</table>\n"
      ],
      "text/latex": [
       "A spec\\_tbl\\_df: 30 × 7\n",
       "\\begin{tabular}{lllllll}\n",
       " party & name & meal\\_wedding & meal\\_brunch & attendance\\_wedding & attendance\\_brunch & attendance\\_golf\\\\\n",
       " <dbl> & <chr> & <chr> & <chr> & <chr> & <chr> & <chr>\\\\\n",
       "\\hline\n",
       "\t  1 & Sommer Medrano     & PENDING    & PENDING & PENDING   & PENDING   & PENDING  \\\\\n",
       "\t  1 & Phillip Medrano    & vegetarian & Menu C  & CONFIRMED & CONFIRMED & CONFIRMED\\\\\n",
       "\t  1 & Blanka Medrano     & chicken    & Menu A  & CONFIRMED & CONFIRMED & CONFIRMED\\\\\n",
       "\t  1 & Emaan Medrano      & PENDING    & PENDING & PENDING   & PENDING   & PENDING  \\\\\n",
       "\t  2 & Blair Park         & chicken    & Menu C  & CONFIRMED & CONFIRMED & CONFIRMED\\\\\n",
       "\t  2 & Nigel Webb         & NA         & NA      & CANCELLED & CANCELLED & CANCELLED\\\\\n",
       "\t  3 & Sinead English     & PENDING    & PENDING & PENDING   & PENDING   & PENDING  \\\\\n",
       "\t  4 & Ayra Marks         & vegetarian & Menu B  & PENDING   & PENDING   & PENDING  \\\\\n",
       "\t  5 & Atlanta Connolly   & PENDING    & PENDING & PENDING   & PENDING   & PENDING  \\\\\n",
       "\t  5 & Denzel Connolly    & fish       & Menu B  & CONFIRMED & CONFIRMED & CONFIRMED\\\\\n",
       "\t  5 & Chanelle Shah      & chicken    & Menu C  & CONFIRMED & CONFIRMED & CONFIRMED\\\\\n",
       "\t  6 & Jolene Welsh       & NA         & NA      & CANCELLED & CANCELLED & CANCELLED\\\\\n",
       "\t  6 & Hayley Booker      & vegetarian & Menu C  & CONFIRMED & CONFIRMED & CONFIRMED\\\\\n",
       "\t  7 & Amayah Sanford     & NA         & PENDING & CANCELLED & PENDING   & PENDING  \\\\\n",
       "\t  7 & Erika Foley        & PENDING    & PENDING & PENDING   & PENDING   & PENDING  \\\\\n",
       "\t  8 & Ciaron Acosta      & PENDING    & Menu A  & PENDING   & PENDING   & PENDING  \\\\\n",
       "\t  9 & Diana Stuart       & vegetarian & Menu C  & CONFIRMED & CONFIRMED & CONFIRMED\\\\\n",
       "\t 10 & Cosmo Dunkley      & PENDING    & PENDING & PENDING   & PENDING   & PENDING  \\\\\n",
       "\t 11 & Cai Mcdaniel       & fish       & Menu C  & CONFIRMED & CONFIRMED & CONFIRMED\\\\\n",
       "\t 12 & Daisy-May Caldwell & chicken    & Menu B  & CONFIRMED & CONFIRMED & CONFIRMED\\\\\n",
       "\t 12 & Martin Caldwell    & PENDING    & PENDING & PENDING   & PENDING   & PENDING  \\\\\n",
       "\t 12 & Violet Caldwell    & PENDING    & PENDING & PENDING   & PENDING   & PENDING  \\\\\n",
       "\t 12 & Nazifa Caldwell    & chicken    & PENDING & PENDING   & PENDING   & PENDING  \\\\\n",
       "\t 12 & Eric Caldwell      & chicken    & Menu B  & CONFIRMED & CONFIRMED & CONFIRMED\\\\\n",
       "\t 13 & Rosanna Bird       & vegetarian & Menu C  & CONFIRMED & CONFIRMED & CONFIRMED\\\\\n",
       "\t 13 & Kurtis Frost       & PENDING    & PENDING & PENDING   & PENDING   & PENDING  \\\\\n",
       "\t 14 & Huma Stokes        & NA         & NA      & CANCELLED & CANCELLED & CANCELLED\\\\\n",
       "\t 14 & Samuel Rutledge    & chicken    & Menu C  & CONFIRMED & CONFIRMED & CONFIRMED\\\\\n",
       "\t 15 & Eddison Collier    & PENDING    & PENDING & PENDING   & PENDING   & PENDING  \\\\\n",
       "\t 15 & Stewart Nicholls   & chicken    & Menu B  & CONFIRMED & CONFIRMED & CONFIRMED\\\\\n",
       "\\end{tabular}\n"
      ],
      "text/markdown": [
       "\n",
       "A spec_tbl_df: 30 × 7\n",
       "\n",
       "| party &lt;dbl&gt; | name &lt;chr&gt; | meal_wedding &lt;chr&gt; | meal_brunch &lt;chr&gt; | attendance_wedding &lt;chr&gt; | attendance_brunch &lt;chr&gt; | attendance_golf &lt;chr&gt; |\n",
       "|---|---|---|---|---|---|---|\n",
       "|  1 | Sommer Medrano     | PENDING    | PENDING | PENDING   | PENDING   | PENDING   |\n",
       "|  1 | Phillip Medrano    | vegetarian | Menu C  | CONFIRMED | CONFIRMED | CONFIRMED |\n",
       "|  1 | Blanka Medrano     | chicken    | Menu A  | CONFIRMED | CONFIRMED | CONFIRMED |\n",
       "|  1 | Emaan Medrano      | PENDING    | PENDING | PENDING   | PENDING   | PENDING   |\n",
       "|  2 | Blair Park         | chicken    | Menu C  | CONFIRMED | CONFIRMED | CONFIRMED |\n",
       "|  2 | Nigel Webb         | NA         | NA      | CANCELLED | CANCELLED | CANCELLED |\n",
       "|  3 | Sinead English     | PENDING    | PENDING | PENDING   | PENDING   | PENDING   |\n",
       "|  4 | Ayra Marks         | vegetarian | Menu B  | PENDING   | PENDING   | PENDING   |\n",
       "|  5 | Atlanta Connolly   | PENDING    | PENDING | PENDING   | PENDING   | PENDING   |\n",
       "|  5 | Denzel Connolly    | fish       | Menu B  | CONFIRMED | CONFIRMED | CONFIRMED |\n",
       "|  5 | Chanelle Shah      | chicken    | Menu C  | CONFIRMED | CONFIRMED | CONFIRMED |\n",
       "|  6 | Jolene Welsh       | NA         | NA      | CANCELLED | CANCELLED | CANCELLED |\n",
       "|  6 | Hayley Booker      | vegetarian | Menu C  | CONFIRMED | CONFIRMED | CONFIRMED |\n",
       "|  7 | Amayah Sanford     | NA         | PENDING | CANCELLED | PENDING   | PENDING   |\n",
       "|  7 | Erika Foley        | PENDING    | PENDING | PENDING   | PENDING   | PENDING   |\n",
       "|  8 | Ciaron Acosta      | PENDING    | Menu A  | PENDING   | PENDING   | PENDING   |\n",
       "|  9 | Diana Stuart       | vegetarian | Menu C  | CONFIRMED | CONFIRMED | CONFIRMED |\n",
       "| 10 | Cosmo Dunkley      | PENDING    | PENDING | PENDING   | PENDING   | PENDING   |\n",
       "| 11 | Cai Mcdaniel       | fish       | Menu C  | CONFIRMED | CONFIRMED | CONFIRMED |\n",
       "| 12 | Daisy-May Caldwell | chicken    | Menu B  | CONFIRMED | CONFIRMED | CONFIRMED |\n",
       "| 12 | Martin Caldwell    | PENDING    | PENDING | PENDING   | PENDING   | PENDING   |\n",
       "| 12 | Violet Caldwell    | PENDING    | PENDING | PENDING   | PENDING   | PENDING   |\n",
       "| 12 | Nazifa Caldwell    | chicken    | PENDING | PENDING   | PENDING   | PENDING   |\n",
       "| 12 | Eric Caldwell      | chicken    | Menu B  | CONFIRMED | CONFIRMED | CONFIRMED |\n",
       "| 13 | Rosanna Bird       | vegetarian | Menu C  | CONFIRMED | CONFIRMED | CONFIRMED |\n",
       "| 13 | Kurtis Frost       | PENDING    | PENDING | PENDING   | PENDING   | PENDING   |\n",
       "| 14 | Huma Stokes        | NA         | NA      | CANCELLED | CANCELLED | CANCELLED |\n",
       "| 14 | Samuel Rutledge    | chicken    | Menu C  | CONFIRMED | CONFIRMED | CONFIRMED |\n",
       "| 15 | Eddison Collier    | PENDING    | PENDING | PENDING   | PENDING   | PENDING   |\n",
       "| 15 | Stewart Nicholls   | chicken    | Menu B  | CONFIRMED | CONFIRMED | CONFIRMED |\n",
       "\n"
      ],
      "text/plain": [
       "   party name               meal_wedding meal_brunch attendance_wedding\n",
       "1   1    Sommer Medrano     PENDING      PENDING     PENDING           \n",
       "2   1    Phillip Medrano    vegetarian   Menu C      CONFIRMED         \n",
       "3   1    Blanka Medrano     chicken      Menu A      CONFIRMED         \n",
       "4   1    Emaan Medrano      PENDING      PENDING     PENDING           \n",
       "5   2    Blair Park         chicken      Menu C      CONFIRMED         \n",
       "6   2    Nigel Webb         NA           NA          CANCELLED         \n",
       "7   3    Sinead English     PENDING      PENDING     PENDING           \n",
       "8   4    Ayra Marks         vegetarian   Menu B      PENDING           \n",
       "9   5    Atlanta Connolly   PENDING      PENDING     PENDING           \n",
       "10  5    Denzel Connolly    fish         Menu B      CONFIRMED         \n",
       "11  5    Chanelle Shah      chicken      Menu C      CONFIRMED         \n",
       "12  6    Jolene Welsh       NA           NA          CANCELLED         \n",
       "13  6    Hayley Booker      vegetarian   Menu C      CONFIRMED         \n",
       "14  7    Amayah Sanford     NA           PENDING     CANCELLED         \n",
       "15  7    Erika Foley        PENDING      PENDING     PENDING           \n",
       "16  8    Ciaron Acosta      PENDING      Menu A      PENDING           \n",
       "17  9    Diana Stuart       vegetarian   Menu C      CONFIRMED         \n",
       "18 10    Cosmo Dunkley      PENDING      PENDING     PENDING           \n",
       "19 11    Cai Mcdaniel       fish         Menu C      CONFIRMED         \n",
       "20 12    Daisy-May Caldwell chicken      Menu B      CONFIRMED         \n",
       "21 12    Martin Caldwell    PENDING      PENDING     PENDING           \n",
       "22 12    Violet Caldwell    PENDING      PENDING     PENDING           \n",
       "23 12    Nazifa Caldwell    chicken      PENDING     PENDING           \n",
       "24 12    Eric Caldwell      chicken      Menu B      CONFIRMED         \n",
       "25 13    Rosanna Bird       vegetarian   Menu C      CONFIRMED         \n",
       "26 13    Kurtis Frost       PENDING      PENDING     PENDING           \n",
       "27 14    Huma Stokes        NA           NA          CANCELLED         \n",
       "28 14    Samuel Rutledge    chicken      Menu C      CONFIRMED         \n",
       "29 15    Eddison Collier    PENDING      PENDING     PENDING           \n",
       "30 15    Stewart Nicholls   chicken      Menu B      CONFIRMED         \n",
       "   attendance_brunch attendance_golf\n",
       "1  PENDING           PENDING        \n",
       "2  CONFIRMED         CONFIRMED      \n",
       "3  CONFIRMED         CONFIRMED      \n",
       "4  PENDING           PENDING        \n",
       "5  CONFIRMED         CONFIRMED      \n",
       "6  CANCELLED         CANCELLED      \n",
       "7  PENDING           PENDING        \n",
       "8  PENDING           PENDING        \n",
       "9  PENDING           PENDING        \n",
       "10 CONFIRMED         CONFIRMED      \n",
       "11 CONFIRMED         CONFIRMED      \n",
       "12 CANCELLED         CANCELLED      \n",
       "13 CONFIRMED         CONFIRMED      \n",
       "14 PENDING           PENDING        \n",
       "15 PENDING           PENDING        \n",
       "16 PENDING           PENDING        \n",
       "17 CONFIRMED         CONFIRMED      \n",
       "18 PENDING           PENDING        \n",
       "19 CONFIRMED         CONFIRMED      \n",
       "20 CONFIRMED         CONFIRMED      \n",
       "21 PENDING           PENDING        \n",
       "22 PENDING           PENDING        \n",
       "23 PENDING           PENDING        \n",
       "24 CONFIRMED         CONFIRMED      \n",
       "25 CONFIRMED         CONFIRMED      \n",
       "26 PENDING           PENDING        \n",
       "27 CANCELLED         CANCELLED      \n",
       "28 CONFIRMED         CONFIRMED      \n",
       "29 PENDING           PENDING        \n",
       "30 CONFIRMED         CONFIRMED      "
      ]
     },
     "metadata": {},
     "output_type": "display_data"
    }
   ],
   "source": [
    "guest"
   ]
  },
  {
   "cell_type": "markdown",
   "metadata": {
    "nbgrader": {
     "grade": false,
     "grade_id": "cell-a5e314661b36e3ae",
     "locked": true,
     "schema_version": 3,
     "solution": false,
     "task": false
    }
   },
   "source": [
    "### Question 2.1\n",
    "Put `meal` and `attendance` as their own columns, with the events living in a new column. Store the resulting data frame in the variable `guest_long`."
   ]
  },
  {
   "cell_type": "code",
   "execution_count": 203,
   "metadata": {
    "collapsed": true,
    "nbgrader": {
     "grade": false,
     "grade_id": "cell-aa203ff65e28a500",
     "locked": false,
     "schema_version": 3,
     "solution": true,
     "task": false
    }
   },
   "outputs": [
    {
     "data": {
      "text/html": [
       "<table>\n",
       "<caption>A tibble: 90 × 5</caption>\n",
       "<thead>\n",
       "\t<tr><th scope=col>party</th><th scope=col>name</th><th scope=col>event</th><th scope=col>meal</th><th scope=col>attendance</th></tr>\n",
       "\t<tr><th scope=col>&lt;dbl&gt;</th><th scope=col>&lt;chr&gt;</th><th scope=col>&lt;chr&gt;</th><th scope=col>&lt;chr&gt;</th><th scope=col>&lt;chr&gt;</th></tr>\n",
       "</thead>\n",
       "<tbody>\n",
       "\t<tr><td>1</td><td>Sommer Medrano  </td><td>wedding</td><td>PENDING   </td><td>PENDING  </td></tr>\n",
       "\t<tr><td>1</td><td>Sommer Medrano  </td><td>brunch </td><td>PENDING   </td><td>PENDING  </td></tr>\n",
       "\t<tr><td>1</td><td>Sommer Medrano  </td><td>golf   </td><td>NA        </td><td>PENDING  </td></tr>\n",
       "\t<tr><td>1</td><td>Phillip Medrano </td><td>wedding</td><td>vegetarian</td><td>CONFIRMED</td></tr>\n",
       "\t<tr><td>1</td><td>Phillip Medrano </td><td>brunch </td><td>Menu C    </td><td>CONFIRMED</td></tr>\n",
       "\t<tr><td>1</td><td>Phillip Medrano </td><td>golf   </td><td>NA        </td><td>CONFIRMED</td></tr>\n",
       "\t<tr><td>1</td><td>Blanka Medrano  </td><td>wedding</td><td>chicken   </td><td>CONFIRMED</td></tr>\n",
       "\t<tr><td>1</td><td>Blanka Medrano  </td><td>brunch </td><td>Menu A    </td><td>CONFIRMED</td></tr>\n",
       "\t<tr><td>1</td><td>Blanka Medrano  </td><td>golf   </td><td>NA        </td><td>CONFIRMED</td></tr>\n",
       "\t<tr><td>1</td><td>Emaan Medrano   </td><td>wedding</td><td>PENDING   </td><td>PENDING  </td></tr>\n",
       "\t<tr><td>1</td><td>Emaan Medrano   </td><td>brunch </td><td>PENDING   </td><td>PENDING  </td></tr>\n",
       "\t<tr><td>1</td><td>Emaan Medrano   </td><td>golf   </td><td>NA        </td><td>PENDING  </td></tr>\n",
       "\t<tr><td>2</td><td>Blair Park      </td><td>wedding</td><td>chicken   </td><td>CONFIRMED</td></tr>\n",
       "\t<tr><td>2</td><td>Blair Park      </td><td>brunch </td><td>Menu C    </td><td>CONFIRMED</td></tr>\n",
       "\t<tr><td>2</td><td>Blair Park      </td><td>golf   </td><td>NA        </td><td>CONFIRMED</td></tr>\n",
       "\t<tr><td>2</td><td>Nigel Webb      </td><td>wedding</td><td>NA        </td><td>CANCELLED</td></tr>\n",
       "\t<tr><td>2</td><td>Nigel Webb      </td><td>brunch </td><td>NA        </td><td>CANCELLED</td></tr>\n",
       "\t<tr><td>2</td><td>Nigel Webb      </td><td>golf   </td><td>NA        </td><td>CANCELLED</td></tr>\n",
       "\t<tr><td>3</td><td>Sinead English  </td><td>wedding</td><td>PENDING   </td><td>PENDING  </td></tr>\n",
       "\t<tr><td>3</td><td>Sinead English  </td><td>brunch </td><td>PENDING   </td><td>PENDING  </td></tr>\n",
       "\t<tr><td>3</td><td>Sinead English  </td><td>golf   </td><td>NA        </td><td>PENDING  </td></tr>\n",
       "\t<tr><td>4</td><td>Ayra Marks      </td><td>wedding</td><td>vegetarian</td><td>PENDING  </td></tr>\n",
       "\t<tr><td>4</td><td>Ayra Marks      </td><td>brunch </td><td>Menu B    </td><td>PENDING  </td></tr>\n",
       "\t<tr><td>4</td><td>Ayra Marks      </td><td>golf   </td><td>NA        </td><td>PENDING  </td></tr>\n",
       "\t<tr><td>5</td><td>Atlanta Connolly</td><td>wedding</td><td>PENDING   </td><td>PENDING  </td></tr>\n",
       "\t<tr><td>5</td><td>Atlanta Connolly</td><td>brunch </td><td>PENDING   </td><td>PENDING  </td></tr>\n",
       "\t<tr><td>5</td><td>Atlanta Connolly</td><td>golf   </td><td>NA        </td><td>PENDING  </td></tr>\n",
       "\t<tr><td>5</td><td>Denzel Connolly </td><td>wedding</td><td>fish      </td><td>CONFIRMED</td></tr>\n",
       "\t<tr><td>5</td><td>Denzel Connolly </td><td>brunch </td><td>Menu B    </td><td>CONFIRMED</td></tr>\n",
       "\t<tr><td>5</td><td>Denzel Connolly </td><td>golf   </td><td>NA        </td><td>CONFIRMED</td></tr>\n",
       "\t<tr><td>⋮</td><td>⋮</td><td>⋮</td><td>⋮</td><td>⋮</td></tr>\n",
       "\t<tr><td>12</td><td>Martin Caldwell </td><td>wedding</td><td>PENDING   </td><td>PENDING  </td></tr>\n",
       "\t<tr><td>12</td><td>Martin Caldwell </td><td>brunch </td><td>PENDING   </td><td>PENDING  </td></tr>\n",
       "\t<tr><td>12</td><td>Martin Caldwell </td><td>golf   </td><td>NA        </td><td>PENDING  </td></tr>\n",
       "\t<tr><td>12</td><td>Violet Caldwell </td><td>wedding</td><td>PENDING   </td><td>PENDING  </td></tr>\n",
       "\t<tr><td>12</td><td>Violet Caldwell </td><td>brunch </td><td>PENDING   </td><td>PENDING  </td></tr>\n",
       "\t<tr><td>12</td><td>Violet Caldwell </td><td>golf   </td><td>NA        </td><td>PENDING  </td></tr>\n",
       "\t<tr><td>12</td><td>Nazifa Caldwell </td><td>wedding</td><td>chicken   </td><td>PENDING  </td></tr>\n",
       "\t<tr><td>12</td><td>Nazifa Caldwell </td><td>brunch </td><td>PENDING   </td><td>PENDING  </td></tr>\n",
       "\t<tr><td>12</td><td>Nazifa Caldwell </td><td>golf   </td><td>NA        </td><td>PENDING  </td></tr>\n",
       "\t<tr><td>12</td><td>Eric Caldwell   </td><td>wedding</td><td>chicken   </td><td>CONFIRMED</td></tr>\n",
       "\t<tr><td>12</td><td>Eric Caldwell   </td><td>brunch </td><td>Menu B    </td><td>CONFIRMED</td></tr>\n",
       "\t<tr><td>12</td><td>Eric Caldwell   </td><td>golf   </td><td>NA        </td><td>CONFIRMED</td></tr>\n",
       "\t<tr><td>13</td><td>Rosanna Bird    </td><td>wedding</td><td>vegetarian</td><td>CONFIRMED</td></tr>\n",
       "\t<tr><td>13</td><td>Rosanna Bird    </td><td>brunch </td><td>Menu C    </td><td>CONFIRMED</td></tr>\n",
       "\t<tr><td>13</td><td>Rosanna Bird    </td><td>golf   </td><td>NA        </td><td>CONFIRMED</td></tr>\n",
       "\t<tr><td>13</td><td>Kurtis Frost    </td><td>wedding</td><td>PENDING   </td><td>PENDING  </td></tr>\n",
       "\t<tr><td>13</td><td>Kurtis Frost    </td><td>brunch </td><td>PENDING   </td><td>PENDING  </td></tr>\n",
       "\t<tr><td>13</td><td>Kurtis Frost    </td><td>golf   </td><td>NA        </td><td>PENDING  </td></tr>\n",
       "\t<tr><td>14</td><td>Huma Stokes     </td><td>wedding</td><td>NA        </td><td>CANCELLED</td></tr>\n",
       "\t<tr><td>14</td><td>Huma Stokes     </td><td>brunch </td><td>NA        </td><td>CANCELLED</td></tr>\n",
       "\t<tr><td>14</td><td>Huma Stokes     </td><td>golf   </td><td>NA        </td><td>CANCELLED</td></tr>\n",
       "\t<tr><td>14</td><td>Samuel Rutledge </td><td>wedding</td><td>chicken   </td><td>CONFIRMED</td></tr>\n",
       "\t<tr><td>14</td><td>Samuel Rutledge </td><td>brunch </td><td>Menu C    </td><td>CONFIRMED</td></tr>\n",
       "\t<tr><td>14</td><td>Samuel Rutledge </td><td>golf   </td><td>NA        </td><td>CONFIRMED</td></tr>\n",
       "\t<tr><td>15</td><td>Eddison Collier </td><td>wedding</td><td>PENDING   </td><td>PENDING  </td></tr>\n",
       "\t<tr><td>15</td><td>Eddison Collier </td><td>brunch </td><td>PENDING   </td><td>PENDING  </td></tr>\n",
       "\t<tr><td>15</td><td>Eddison Collier </td><td>golf   </td><td>NA        </td><td>PENDING  </td></tr>\n",
       "\t<tr><td>15</td><td>Stewart Nicholls</td><td>wedding</td><td>chicken   </td><td>CONFIRMED</td></tr>\n",
       "\t<tr><td>15</td><td>Stewart Nicholls</td><td>brunch </td><td>Menu B    </td><td>CONFIRMED</td></tr>\n",
       "\t<tr><td>15</td><td>Stewart Nicholls</td><td>golf   </td><td>NA        </td><td>CONFIRMED</td></tr>\n",
       "</tbody>\n",
       "</table>\n"
      ],
      "text/latex": [
       "A tibble: 90 × 5\n",
       "\\begin{tabular}{lllll}\n",
       " party & name & event & meal & attendance\\\\\n",
       " <dbl> & <chr> & <chr> & <chr> & <chr>\\\\\n",
       "\\hline\n",
       "\t 1 & Sommer Medrano   & wedding & PENDING    & PENDING  \\\\\n",
       "\t 1 & Sommer Medrano   & brunch  & PENDING    & PENDING  \\\\\n",
       "\t 1 & Sommer Medrano   & golf    & NA         & PENDING  \\\\\n",
       "\t 1 & Phillip Medrano  & wedding & vegetarian & CONFIRMED\\\\\n",
       "\t 1 & Phillip Medrano  & brunch  & Menu C     & CONFIRMED\\\\\n",
       "\t 1 & Phillip Medrano  & golf    & NA         & CONFIRMED\\\\\n",
       "\t 1 & Blanka Medrano   & wedding & chicken    & CONFIRMED\\\\\n",
       "\t 1 & Blanka Medrano   & brunch  & Menu A     & CONFIRMED\\\\\n",
       "\t 1 & Blanka Medrano   & golf    & NA         & CONFIRMED\\\\\n",
       "\t 1 & Emaan Medrano    & wedding & PENDING    & PENDING  \\\\\n",
       "\t 1 & Emaan Medrano    & brunch  & PENDING    & PENDING  \\\\\n",
       "\t 1 & Emaan Medrano    & golf    & NA         & PENDING  \\\\\n",
       "\t 2 & Blair Park       & wedding & chicken    & CONFIRMED\\\\\n",
       "\t 2 & Blair Park       & brunch  & Menu C     & CONFIRMED\\\\\n",
       "\t 2 & Blair Park       & golf    & NA         & CONFIRMED\\\\\n",
       "\t 2 & Nigel Webb       & wedding & NA         & CANCELLED\\\\\n",
       "\t 2 & Nigel Webb       & brunch  & NA         & CANCELLED\\\\\n",
       "\t 2 & Nigel Webb       & golf    & NA         & CANCELLED\\\\\n",
       "\t 3 & Sinead English   & wedding & PENDING    & PENDING  \\\\\n",
       "\t 3 & Sinead English   & brunch  & PENDING    & PENDING  \\\\\n",
       "\t 3 & Sinead English   & golf    & NA         & PENDING  \\\\\n",
       "\t 4 & Ayra Marks       & wedding & vegetarian & PENDING  \\\\\n",
       "\t 4 & Ayra Marks       & brunch  & Menu B     & PENDING  \\\\\n",
       "\t 4 & Ayra Marks       & golf    & NA         & PENDING  \\\\\n",
       "\t 5 & Atlanta Connolly & wedding & PENDING    & PENDING  \\\\\n",
       "\t 5 & Atlanta Connolly & brunch  & PENDING    & PENDING  \\\\\n",
       "\t 5 & Atlanta Connolly & golf    & NA         & PENDING  \\\\\n",
       "\t 5 & Denzel Connolly  & wedding & fish       & CONFIRMED\\\\\n",
       "\t 5 & Denzel Connolly  & brunch  & Menu B     & CONFIRMED\\\\\n",
       "\t 5 & Denzel Connolly  & golf    & NA         & CONFIRMED\\\\\n",
       "\t ⋮ & ⋮ & ⋮ & ⋮ & ⋮\\\\\n",
       "\t 12 & Martin Caldwell  & wedding & PENDING    & PENDING  \\\\\n",
       "\t 12 & Martin Caldwell  & brunch  & PENDING    & PENDING  \\\\\n",
       "\t 12 & Martin Caldwell  & golf    & NA         & PENDING  \\\\\n",
       "\t 12 & Violet Caldwell  & wedding & PENDING    & PENDING  \\\\\n",
       "\t 12 & Violet Caldwell  & brunch  & PENDING    & PENDING  \\\\\n",
       "\t 12 & Violet Caldwell  & golf    & NA         & PENDING  \\\\\n",
       "\t 12 & Nazifa Caldwell  & wedding & chicken    & PENDING  \\\\\n",
       "\t 12 & Nazifa Caldwell  & brunch  & PENDING    & PENDING  \\\\\n",
       "\t 12 & Nazifa Caldwell  & golf    & NA         & PENDING  \\\\\n",
       "\t 12 & Eric Caldwell    & wedding & chicken    & CONFIRMED\\\\\n",
       "\t 12 & Eric Caldwell    & brunch  & Menu B     & CONFIRMED\\\\\n",
       "\t 12 & Eric Caldwell    & golf    & NA         & CONFIRMED\\\\\n",
       "\t 13 & Rosanna Bird     & wedding & vegetarian & CONFIRMED\\\\\n",
       "\t 13 & Rosanna Bird     & brunch  & Menu C     & CONFIRMED\\\\\n",
       "\t 13 & Rosanna Bird     & golf    & NA         & CONFIRMED\\\\\n",
       "\t 13 & Kurtis Frost     & wedding & PENDING    & PENDING  \\\\\n",
       "\t 13 & Kurtis Frost     & brunch  & PENDING    & PENDING  \\\\\n",
       "\t 13 & Kurtis Frost     & golf    & NA         & PENDING  \\\\\n",
       "\t 14 & Huma Stokes      & wedding & NA         & CANCELLED\\\\\n",
       "\t 14 & Huma Stokes      & brunch  & NA         & CANCELLED\\\\\n",
       "\t 14 & Huma Stokes      & golf    & NA         & CANCELLED\\\\\n",
       "\t 14 & Samuel Rutledge  & wedding & chicken    & CONFIRMED\\\\\n",
       "\t 14 & Samuel Rutledge  & brunch  & Menu C     & CONFIRMED\\\\\n",
       "\t 14 & Samuel Rutledge  & golf    & NA         & CONFIRMED\\\\\n",
       "\t 15 & Eddison Collier  & wedding & PENDING    & PENDING  \\\\\n",
       "\t 15 & Eddison Collier  & brunch  & PENDING    & PENDING  \\\\\n",
       "\t 15 & Eddison Collier  & golf    & NA         & PENDING  \\\\\n",
       "\t 15 & Stewart Nicholls & wedding & chicken    & CONFIRMED\\\\\n",
       "\t 15 & Stewart Nicholls & brunch  & Menu B     & CONFIRMED\\\\\n",
       "\t 15 & Stewart Nicholls & golf    & NA         & CONFIRMED\\\\\n",
       "\\end{tabular}\n"
      ],
      "text/markdown": [
       "\n",
       "A tibble: 90 × 5\n",
       "\n",
       "| party &lt;dbl&gt; | name &lt;chr&gt; | event &lt;chr&gt; | meal &lt;chr&gt; | attendance &lt;chr&gt; |\n",
       "|---|---|---|---|---|\n",
       "| 1 | Sommer Medrano   | wedding | PENDING    | PENDING   |\n",
       "| 1 | Sommer Medrano   | brunch  | PENDING    | PENDING   |\n",
       "| 1 | Sommer Medrano   | golf    | NA         | PENDING   |\n",
       "| 1 | Phillip Medrano  | wedding | vegetarian | CONFIRMED |\n",
       "| 1 | Phillip Medrano  | brunch  | Menu C     | CONFIRMED |\n",
       "| 1 | Phillip Medrano  | golf    | NA         | CONFIRMED |\n",
       "| 1 | Blanka Medrano   | wedding | chicken    | CONFIRMED |\n",
       "| 1 | Blanka Medrano   | brunch  | Menu A     | CONFIRMED |\n",
       "| 1 | Blanka Medrano   | golf    | NA         | CONFIRMED |\n",
       "| 1 | Emaan Medrano    | wedding | PENDING    | PENDING   |\n",
       "| 1 | Emaan Medrano    | brunch  | PENDING    | PENDING   |\n",
       "| 1 | Emaan Medrano    | golf    | NA         | PENDING   |\n",
       "| 2 | Blair Park       | wedding | chicken    | CONFIRMED |\n",
       "| 2 | Blair Park       | brunch  | Menu C     | CONFIRMED |\n",
       "| 2 | Blair Park       | golf    | NA         | CONFIRMED |\n",
       "| 2 | Nigel Webb       | wedding | NA         | CANCELLED |\n",
       "| 2 | Nigel Webb       | brunch  | NA         | CANCELLED |\n",
       "| 2 | Nigel Webb       | golf    | NA         | CANCELLED |\n",
       "| 3 | Sinead English   | wedding | PENDING    | PENDING   |\n",
       "| 3 | Sinead English   | brunch  | PENDING    | PENDING   |\n",
       "| 3 | Sinead English   | golf    | NA         | PENDING   |\n",
       "| 4 | Ayra Marks       | wedding | vegetarian | PENDING   |\n",
       "| 4 | Ayra Marks       | brunch  | Menu B     | PENDING   |\n",
       "| 4 | Ayra Marks       | golf    | NA         | PENDING   |\n",
       "| 5 | Atlanta Connolly | wedding | PENDING    | PENDING   |\n",
       "| 5 | Atlanta Connolly | brunch  | PENDING    | PENDING   |\n",
       "| 5 | Atlanta Connolly | golf    | NA         | PENDING   |\n",
       "| 5 | Denzel Connolly  | wedding | fish       | CONFIRMED |\n",
       "| 5 | Denzel Connolly  | brunch  | Menu B     | CONFIRMED |\n",
       "| 5 | Denzel Connolly  | golf    | NA         | CONFIRMED |\n",
       "| ⋮ | ⋮ | ⋮ | ⋮ | ⋮ |\n",
       "| 12 | Martin Caldwell  | wedding | PENDING    | PENDING   |\n",
       "| 12 | Martin Caldwell  | brunch  | PENDING    | PENDING   |\n",
       "| 12 | Martin Caldwell  | golf    | NA         | PENDING   |\n",
       "| 12 | Violet Caldwell  | wedding | PENDING    | PENDING   |\n",
       "| 12 | Violet Caldwell  | brunch  | PENDING    | PENDING   |\n",
       "| 12 | Violet Caldwell  | golf    | NA         | PENDING   |\n",
       "| 12 | Nazifa Caldwell  | wedding | chicken    | PENDING   |\n",
       "| 12 | Nazifa Caldwell  | brunch  | PENDING    | PENDING   |\n",
       "| 12 | Nazifa Caldwell  | golf    | NA         | PENDING   |\n",
       "| 12 | Eric Caldwell    | wedding | chicken    | CONFIRMED |\n",
       "| 12 | Eric Caldwell    | brunch  | Menu B     | CONFIRMED |\n",
       "| 12 | Eric Caldwell    | golf    | NA         | CONFIRMED |\n",
       "| 13 | Rosanna Bird     | wedding | vegetarian | CONFIRMED |\n",
       "| 13 | Rosanna Bird     | brunch  | Menu C     | CONFIRMED |\n",
       "| 13 | Rosanna Bird     | golf    | NA         | CONFIRMED |\n",
       "| 13 | Kurtis Frost     | wedding | PENDING    | PENDING   |\n",
       "| 13 | Kurtis Frost     | brunch  | PENDING    | PENDING   |\n",
       "| 13 | Kurtis Frost     | golf    | NA         | PENDING   |\n",
       "| 14 | Huma Stokes      | wedding | NA         | CANCELLED |\n",
       "| 14 | Huma Stokes      | brunch  | NA         | CANCELLED |\n",
       "| 14 | Huma Stokes      | golf    | NA         | CANCELLED |\n",
       "| 14 | Samuel Rutledge  | wedding | chicken    | CONFIRMED |\n",
       "| 14 | Samuel Rutledge  | brunch  | Menu C     | CONFIRMED |\n",
       "| 14 | Samuel Rutledge  | golf    | NA         | CONFIRMED |\n",
       "| 15 | Eddison Collier  | wedding | PENDING    | PENDING   |\n",
       "| 15 | Eddison Collier  | brunch  | PENDING    | PENDING   |\n",
       "| 15 | Eddison Collier  | golf    | NA         | PENDING   |\n",
       "| 15 | Stewart Nicholls | wedding | chicken    | CONFIRMED |\n",
       "| 15 | Stewart Nicholls | brunch  | Menu B     | CONFIRMED |\n",
       "| 15 | Stewart Nicholls | golf    | NA         | CONFIRMED |\n",
       "\n"
      ],
      "text/plain": [
       "   party name             event   meal       attendance\n",
       "1  1     Sommer Medrano   wedding PENDING    PENDING   \n",
       "2  1     Sommer Medrano   brunch  PENDING    PENDING   \n",
       "3  1     Sommer Medrano   golf    NA         PENDING   \n",
       "4  1     Phillip Medrano  wedding vegetarian CONFIRMED \n",
       "5  1     Phillip Medrano  brunch  Menu C     CONFIRMED \n",
       "6  1     Phillip Medrano  golf    NA         CONFIRMED \n",
       "7  1     Blanka Medrano   wedding chicken    CONFIRMED \n",
       "8  1     Blanka Medrano   brunch  Menu A     CONFIRMED \n",
       "9  1     Blanka Medrano   golf    NA         CONFIRMED \n",
       "10 1     Emaan Medrano    wedding PENDING    PENDING   \n",
       "11 1     Emaan Medrano    brunch  PENDING    PENDING   \n",
       "12 1     Emaan Medrano    golf    NA         PENDING   \n",
       "13 2     Blair Park       wedding chicken    CONFIRMED \n",
       "14 2     Blair Park       brunch  Menu C     CONFIRMED \n",
       "15 2     Blair Park       golf    NA         CONFIRMED \n",
       "16 2     Nigel Webb       wedding NA         CANCELLED \n",
       "17 2     Nigel Webb       brunch  NA         CANCELLED \n",
       "18 2     Nigel Webb       golf    NA         CANCELLED \n",
       "19 3     Sinead English   wedding PENDING    PENDING   \n",
       "20 3     Sinead English   brunch  PENDING    PENDING   \n",
       "21 3     Sinead English   golf    NA         PENDING   \n",
       "22 4     Ayra Marks       wedding vegetarian PENDING   \n",
       "23 4     Ayra Marks       brunch  Menu B     PENDING   \n",
       "24 4     Ayra Marks       golf    NA         PENDING   \n",
       "25 5     Atlanta Connolly wedding PENDING    PENDING   \n",
       "26 5     Atlanta Connolly brunch  PENDING    PENDING   \n",
       "27 5     Atlanta Connolly golf    NA         PENDING   \n",
       "28 5     Denzel Connolly  wedding fish       CONFIRMED \n",
       "29 5     Denzel Connolly  brunch  Menu B     CONFIRMED \n",
       "30 5     Denzel Connolly  golf    NA         CONFIRMED \n",
       "⋮  ⋮     ⋮                ⋮       ⋮          ⋮         \n",
       "61 12    Martin Caldwell  wedding PENDING    PENDING   \n",
       "62 12    Martin Caldwell  brunch  PENDING    PENDING   \n",
       "63 12    Martin Caldwell  golf    NA         PENDING   \n",
       "64 12    Violet Caldwell  wedding PENDING    PENDING   \n",
       "65 12    Violet Caldwell  brunch  PENDING    PENDING   \n",
       "66 12    Violet Caldwell  golf    NA         PENDING   \n",
       "67 12    Nazifa Caldwell  wedding chicken    PENDING   \n",
       "68 12    Nazifa Caldwell  brunch  PENDING    PENDING   \n",
       "69 12    Nazifa Caldwell  golf    NA         PENDING   \n",
       "70 12    Eric Caldwell    wedding chicken    CONFIRMED \n",
       "71 12    Eric Caldwell    brunch  Menu B     CONFIRMED \n",
       "72 12    Eric Caldwell    golf    NA         CONFIRMED \n",
       "73 13    Rosanna Bird     wedding vegetarian CONFIRMED \n",
       "74 13    Rosanna Bird     brunch  Menu C     CONFIRMED \n",
       "75 13    Rosanna Bird     golf    NA         CONFIRMED \n",
       "76 13    Kurtis Frost     wedding PENDING    PENDING   \n",
       "77 13    Kurtis Frost     brunch  PENDING    PENDING   \n",
       "78 13    Kurtis Frost     golf    NA         PENDING   \n",
       "79 14    Huma Stokes      wedding NA         CANCELLED \n",
       "80 14    Huma Stokes      brunch  NA         CANCELLED \n",
       "81 14    Huma Stokes      golf    NA         CANCELLED \n",
       "82 14    Samuel Rutledge  wedding chicken    CONFIRMED \n",
       "83 14    Samuel Rutledge  brunch  Menu C     CONFIRMED \n",
       "84 14    Samuel Rutledge  golf    NA         CONFIRMED \n",
       "85 15    Eddison Collier  wedding PENDING    PENDING   \n",
       "86 15    Eddison Collier  brunch  PENDING    PENDING   \n",
       "87 15    Eddison Collier  golf    NA         PENDING   \n",
       "88 15    Stewart Nicholls wedding chicken    CONFIRMED \n",
       "89 15    Stewart Nicholls brunch  Menu B     CONFIRMED \n",
       "90 15    Stewart Nicholls golf    NA         CONFIRMED "
      ]
     },
     "metadata": {},
     "output_type": "display_data"
    }
   ],
   "source": [
    "# YOUR ANSWER HERE\n",
    "### BEGIN SOLUTION\n",
    "(guest_long <- guest %>% \n",
    "  pivot_longer(cols      = c(-party, -name), \n",
    "               names_to  = c(\".value\", \"event\"),\n",
    "               names_sep = \"_\"))\n",
    "### END SOLUTION"
   ]
  },
  {
   "cell_type": "code",
   "execution_count": 204,
   "metadata": {
    "collapsed": true,
    "nbgrader": {
     "grade": true,
     "grade_id": "cell-2f380c98eb6f4b92",
     "locked": true,
     "points": 1,
     "schema_version": 3,
     "solution": false,
     "task": false
    }
   },
   "outputs": [
    {
     "name": "stdout",
     "output_type": "stream",
     "text": [
      "[1] \"Success!\"\n"
     ]
    }
   ],
   "source": [
    "test_that(\"Question 2.1\", {expect_equal(digest(guest_long), \"2b09cd8a15b8f29324cff88eada854b4\")})\n",
    "print(\"Correct!\")"
   ]
  },
  {
   "cell_type": "markdown",
   "metadata": {
    "nbgrader": {
     "grade": false,
     "grade_id": "cell-4bf2cab5040a45a4",
     "locked": true,
     "schema_version": 3,
     "solution": false,
     "task": false
    }
   },
   "source": [
    "### Question 2.2\n",
    "Use `tidyr::separate()` to split the `name` in `guest_long` into two columns: `first_name` and `last_name`. Store this resulting dataframe into the variable `guest_sep`."
   ]
  },
  {
   "cell_type": "code",
   "execution_count": 205,
   "metadata": {
    "collapsed": true,
    "nbgrader": {
     "grade": false,
     "grade_id": "cell-fb46ea7012910edc",
     "locked": false,
     "schema_version": 3,
     "solution": true,
     "task": false
    }
   },
   "outputs": [
    {
     "data": {
      "text/html": [
       "<table>\n",
       "<caption>A tibble: 90 × 6</caption>\n",
       "<thead>\n",
       "\t<tr><th scope=col>party</th><th scope=col>first_name</th><th scope=col>last_name</th><th scope=col>event</th><th scope=col>meal</th><th scope=col>attendance</th></tr>\n",
       "\t<tr><th scope=col>&lt;dbl&gt;</th><th scope=col>&lt;chr&gt;</th><th scope=col>&lt;chr&gt;</th><th scope=col>&lt;chr&gt;</th><th scope=col>&lt;chr&gt;</th><th scope=col>&lt;chr&gt;</th></tr>\n",
       "</thead>\n",
       "<tbody>\n",
       "\t<tr><td>1</td><td>Sommer </td><td>Medrano </td><td>wedding</td><td>PENDING   </td><td>PENDING  </td></tr>\n",
       "\t<tr><td>1</td><td>Sommer </td><td>Medrano </td><td>brunch </td><td>PENDING   </td><td>PENDING  </td></tr>\n",
       "\t<tr><td>1</td><td>Sommer </td><td>Medrano </td><td>golf   </td><td>NA        </td><td>PENDING  </td></tr>\n",
       "\t<tr><td>1</td><td>Phillip</td><td>Medrano </td><td>wedding</td><td>vegetarian</td><td>CONFIRMED</td></tr>\n",
       "\t<tr><td>1</td><td>Phillip</td><td>Medrano </td><td>brunch </td><td>Menu C    </td><td>CONFIRMED</td></tr>\n",
       "\t<tr><td>1</td><td>Phillip</td><td>Medrano </td><td>golf   </td><td>NA        </td><td>CONFIRMED</td></tr>\n",
       "\t<tr><td>1</td><td>Blanka </td><td>Medrano </td><td>wedding</td><td>chicken   </td><td>CONFIRMED</td></tr>\n",
       "\t<tr><td>1</td><td>Blanka </td><td>Medrano </td><td>brunch </td><td>Menu A    </td><td>CONFIRMED</td></tr>\n",
       "\t<tr><td>1</td><td>Blanka </td><td>Medrano </td><td>golf   </td><td>NA        </td><td>CONFIRMED</td></tr>\n",
       "\t<tr><td>1</td><td>Emaan  </td><td>Medrano </td><td>wedding</td><td>PENDING   </td><td>PENDING  </td></tr>\n",
       "\t<tr><td>1</td><td>Emaan  </td><td>Medrano </td><td>brunch </td><td>PENDING   </td><td>PENDING  </td></tr>\n",
       "\t<tr><td>1</td><td>Emaan  </td><td>Medrano </td><td>golf   </td><td>NA        </td><td>PENDING  </td></tr>\n",
       "\t<tr><td>2</td><td>Blair  </td><td>Park    </td><td>wedding</td><td>chicken   </td><td>CONFIRMED</td></tr>\n",
       "\t<tr><td>2</td><td>Blair  </td><td>Park    </td><td>brunch </td><td>Menu C    </td><td>CONFIRMED</td></tr>\n",
       "\t<tr><td>2</td><td>Blair  </td><td>Park    </td><td>golf   </td><td>NA        </td><td>CONFIRMED</td></tr>\n",
       "\t<tr><td>2</td><td>Nigel  </td><td>Webb    </td><td>wedding</td><td>NA        </td><td>CANCELLED</td></tr>\n",
       "\t<tr><td>2</td><td>Nigel  </td><td>Webb    </td><td>brunch </td><td>NA        </td><td>CANCELLED</td></tr>\n",
       "\t<tr><td>2</td><td>Nigel  </td><td>Webb    </td><td>golf   </td><td>NA        </td><td>CANCELLED</td></tr>\n",
       "\t<tr><td>3</td><td>Sinead </td><td>English </td><td>wedding</td><td>PENDING   </td><td>PENDING  </td></tr>\n",
       "\t<tr><td>3</td><td>Sinead </td><td>English </td><td>brunch </td><td>PENDING   </td><td>PENDING  </td></tr>\n",
       "\t<tr><td>3</td><td>Sinead </td><td>English </td><td>golf   </td><td>NA        </td><td>PENDING  </td></tr>\n",
       "\t<tr><td>4</td><td>Ayra   </td><td>Marks   </td><td>wedding</td><td>vegetarian</td><td>PENDING  </td></tr>\n",
       "\t<tr><td>4</td><td>Ayra   </td><td>Marks   </td><td>brunch </td><td>Menu B    </td><td>PENDING  </td></tr>\n",
       "\t<tr><td>4</td><td>Ayra   </td><td>Marks   </td><td>golf   </td><td>NA        </td><td>PENDING  </td></tr>\n",
       "\t<tr><td>5</td><td>Atlanta</td><td>Connolly</td><td>wedding</td><td>PENDING   </td><td>PENDING  </td></tr>\n",
       "\t<tr><td>5</td><td>Atlanta</td><td>Connolly</td><td>brunch </td><td>PENDING   </td><td>PENDING  </td></tr>\n",
       "\t<tr><td>5</td><td>Atlanta</td><td>Connolly</td><td>golf   </td><td>NA        </td><td>PENDING  </td></tr>\n",
       "\t<tr><td>5</td><td>Denzel </td><td>Connolly</td><td>wedding</td><td>fish      </td><td>CONFIRMED</td></tr>\n",
       "\t<tr><td>5</td><td>Denzel </td><td>Connolly</td><td>brunch </td><td>Menu B    </td><td>CONFIRMED</td></tr>\n",
       "\t<tr><td>5</td><td>Denzel </td><td>Connolly</td><td>golf   </td><td>NA        </td><td>CONFIRMED</td></tr>\n",
       "\t<tr><td>⋮</td><td>⋮</td><td>⋮</td><td>⋮</td><td>⋮</td><td>⋮</td></tr>\n",
       "\t<tr><td>12</td><td>Martin </td><td>Caldwell</td><td>wedding</td><td>PENDING   </td><td>PENDING  </td></tr>\n",
       "\t<tr><td>12</td><td>Martin </td><td>Caldwell</td><td>brunch </td><td>PENDING   </td><td>PENDING  </td></tr>\n",
       "\t<tr><td>12</td><td>Martin </td><td>Caldwell</td><td>golf   </td><td>NA        </td><td>PENDING  </td></tr>\n",
       "\t<tr><td>12</td><td>Violet </td><td>Caldwell</td><td>wedding</td><td>PENDING   </td><td>PENDING  </td></tr>\n",
       "\t<tr><td>12</td><td>Violet </td><td>Caldwell</td><td>brunch </td><td>PENDING   </td><td>PENDING  </td></tr>\n",
       "\t<tr><td>12</td><td>Violet </td><td>Caldwell</td><td>golf   </td><td>NA        </td><td>PENDING  </td></tr>\n",
       "\t<tr><td>12</td><td>Nazifa </td><td>Caldwell</td><td>wedding</td><td>chicken   </td><td>PENDING  </td></tr>\n",
       "\t<tr><td>12</td><td>Nazifa </td><td>Caldwell</td><td>brunch </td><td>PENDING   </td><td>PENDING  </td></tr>\n",
       "\t<tr><td>12</td><td>Nazifa </td><td>Caldwell</td><td>golf   </td><td>NA        </td><td>PENDING  </td></tr>\n",
       "\t<tr><td>12</td><td>Eric   </td><td>Caldwell</td><td>wedding</td><td>chicken   </td><td>CONFIRMED</td></tr>\n",
       "\t<tr><td>12</td><td>Eric   </td><td>Caldwell</td><td>brunch </td><td>Menu B    </td><td>CONFIRMED</td></tr>\n",
       "\t<tr><td>12</td><td>Eric   </td><td>Caldwell</td><td>golf   </td><td>NA        </td><td>CONFIRMED</td></tr>\n",
       "\t<tr><td>13</td><td>Rosanna</td><td>Bird    </td><td>wedding</td><td>vegetarian</td><td>CONFIRMED</td></tr>\n",
       "\t<tr><td>13</td><td>Rosanna</td><td>Bird    </td><td>brunch </td><td>Menu C    </td><td>CONFIRMED</td></tr>\n",
       "\t<tr><td>13</td><td>Rosanna</td><td>Bird    </td><td>golf   </td><td>NA        </td><td>CONFIRMED</td></tr>\n",
       "\t<tr><td>13</td><td>Kurtis </td><td>Frost   </td><td>wedding</td><td>PENDING   </td><td>PENDING  </td></tr>\n",
       "\t<tr><td>13</td><td>Kurtis </td><td>Frost   </td><td>brunch </td><td>PENDING   </td><td>PENDING  </td></tr>\n",
       "\t<tr><td>13</td><td>Kurtis </td><td>Frost   </td><td>golf   </td><td>NA        </td><td>PENDING  </td></tr>\n",
       "\t<tr><td>14</td><td>Huma   </td><td>Stokes  </td><td>wedding</td><td>NA        </td><td>CANCELLED</td></tr>\n",
       "\t<tr><td>14</td><td>Huma   </td><td>Stokes  </td><td>brunch </td><td>NA        </td><td>CANCELLED</td></tr>\n",
       "\t<tr><td>14</td><td>Huma   </td><td>Stokes  </td><td>golf   </td><td>NA        </td><td>CANCELLED</td></tr>\n",
       "\t<tr><td>14</td><td>Samuel </td><td>Rutledge</td><td>wedding</td><td>chicken   </td><td>CONFIRMED</td></tr>\n",
       "\t<tr><td>14</td><td>Samuel </td><td>Rutledge</td><td>brunch </td><td>Menu C    </td><td>CONFIRMED</td></tr>\n",
       "\t<tr><td>14</td><td>Samuel </td><td>Rutledge</td><td>golf   </td><td>NA        </td><td>CONFIRMED</td></tr>\n",
       "\t<tr><td>15</td><td>Eddison</td><td>Collier </td><td>wedding</td><td>PENDING   </td><td>PENDING  </td></tr>\n",
       "\t<tr><td>15</td><td>Eddison</td><td>Collier </td><td>brunch </td><td>PENDING   </td><td>PENDING  </td></tr>\n",
       "\t<tr><td>15</td><td>Eddison</td><td>Collier </td><td>golf   </td><td>NA        </td><td>PENDING  </td></tr>\n",
       "\t<tr><td>15</td><td>Stewart</td><td>Nicholls</td><td>wedding</td><td>chicken   </td><td>CONFIRMED</td></tr>\n",
       "\t<tr><td>15</td><td>Stewart</td><td>Nicholls</td><td>brunch </td><td>Menu B    </td><td>CONFIRMED</td></tr>\n",
       "\t<tr><td>15</td><td>Stewart</td><td>Nicholls</td><td>golf   </td><td>NA        </td><td>CONFIRMED</td></tr>\n",
       "</tbody>\n",
       "</table>\n"
      ],
      "text/latex": [
       "A tibble: 90 × 6\n",
       "\\begin{tabular}{llllll}\n",
       " party & first\\_name & last\\_name & event & meal & attendance\\\\\n",
       " <dbl> & <chr> & <chr> & <chr> & <chr> & <chr>\\\\\n",
       "\\hline\n",
       "\t 1 & Sommer  & Medrano  & wedding & PENDING    & PENDING  \\\\\n",
       "\t 1 & Sommer  & Medrano  & brunch  & PENDING    & PENDING  \\\\\n",
       "\t 1 & Sommer  & Medrano  & golf    & NA         & PENDING  \\\\\n",
       "\t 1 & Phillip & Medrano  & wedding & vegetarian & CONFIRMED\\\\\n",
       "\t 1 & Phillip & Medrano  & brunch  & Menu C     & CONFIRMED\\\\\n",
       "\t 1 & Phillip & Medrano  & golf    & NA         & CONFIRMED\\\\\n",
       "\t 1 & Blanka  & Medrano  & wedding & chicken    & CONFIRMED\\\\\n",
       "\t 1 & Blanka  & Medrano  & brunch  & Menu A     & CONFIRMED\\\\\n",
       "\t 1 & Blanka  & Medrano  & golf    & NA         & CONFIRMED\\\\\n",
       "\t 1 & Emaan   & Medrano  & wedding & PENDING    & PENDING  \\\\\n",
       "\t 1 & Emaan   & Medrano  & brunch  & PENDING    & PENDING  \\\\\n",
       "\t 1 & Emaan   & Medrano  & golf    & NA         & PENDING  \\\\\n",
       "\t 2 & Blair   & Park     & wedding & chicken    & CONFIRMED\\\\\n",
       "\t 2 & Blair   & Park     & brunch  & Menu C     & CONFIRMED\\\\\n",
       "\t 2 & Blair   & Park     & golf    & NA         & CONFIRMED\\\\\n",
       "\t 2 & Nigel   & Webb     & wedding & NA         & CANCELLED\\\\\n",
       "\t 2 & Nigel   & Webb     & brunch  & NA         & CANCELLED\\\\\n",
       "\t 2 & Nigel   & Webb     & golf    & NA         & CANCELLED\\\\\n",
       "\t 3 & Sinead  & English  & wedding & PENDING    & PENDING  \\\\\n",
       "\t 3 & Sinead  & English  & brunch  & PENDING    & PENDING  \\\\\n",
       "\t 3 & Sinead  & English  & golf    & NA         & PENDING  \\\\\n",
       "\t 4 & Ayra    & Marks    & wedding & vegetarian & PENDING  \\\\\n",
       "\t 4 & Ayra    & Marks    & brunch  & Menu B     & PENDING  \\\\\n",
       "\t 4 & Ayra    & Marks    & golf    & NA         & PENDING  \\\\\n",
       "\t 5 & Atlanta & Connolly & wedding & PENDING    & PENDING  \\\\\n",
       "\t 5 & Atlanta & Connolly & brunch  & PENDING    & PENDING  \\\\\n",
       "\t 5 & Atlanta & Connolly & golf    & NA         & PENDING  \\\\\n",
       "\t 5 & Denzel  & Connolly & wedding & fish       & CONFIRMED\\\\\n",
       "\t 5 & Denzel  & Connolly & brunch  & Menu B     & CONFIRMED\\\\\n",
       "\t 5 & Denzel  & Connolly & golf    & NA         & CONFIRMED\\\\\n",
       "\t ⋮ & ⋮ & ⋮ & ⋮ & ⋮ & ⋮\\\\\n",
       "\t 12 & Martin  & Caldwell & wedding & PENDING    & PENDING  \\\\\n",
       "\t 12 & Martin  & Caldwell & brunch  & PENDING    & PENDING  \\\\\n",
       "\t 12 & Martin  & Caldwell & golf    & NA         & PENDING  \\\\\n",
       "\t 12 & Violet  & Caldwell & wedding & PENDING    & PENDING  \\\\\n",
       "\t 12 & Violet  & Caldwell & brunch  & PENDING    & PENDING  \\\\\n",
       "\t 12 & Violet  & Caldwell & golf    & NA         & PENDING  \\\\\n",
       "\t 12 & Nazifa  & Caldwell & wedding & chicken    & PENDING  \\\\\n",
       "\t 12 & Nazifa  & Caldwell & brunch  & PENDING    & PENDING  \\\\\n",
       "\t 12 & Nazifa  & Caldwell & golf    & NA         & PENDING  \\\\\n",
       "\t 12 & Eric    & Caldwell & wedding & chicken    & CONFIRMED\\\\\n",
       "\t 12 & Eric    & Caldwell & brunch  & Menu B     & CONFIRMED\\\\\n",
       "\t 12 & Eric    & Caldwell & golf    & NA         & CONFIRMED\\\\\n",
       "\t 13 & Rosanna & Bird     & wedding & vegetarian & CONFIRMED\\\\\n",
       "\t 13 & Rosanna & Bird     & brunch  & Menu C     & CONFIRMED\\\\\n",
       "\t 13 & Rosanna & Bird     & golf    & NA         & CONFIRMED\\\\\n",
       "\t 13 & Kurtis  & Frost    & wedding & PENDING    & PENDING  \\\\\n",
       "\t 13 & Kurtis  & Frost    & brunch  & PENDING    & PENDING  \\\\\n",
       "\t 13 & Kurtis  & Frost    & golf    & NA         & PENDING  \\\\\n",
       "\t 14 & Huma    & Stokes   & wedding & NA         & CANCELLED\\\\\n",
       "\t 14 & Huma    & Stokes   & brunch  & NA         & CANCELLED\\\\\n",
       "\t 14 & Huma    & Stokes   & golf    & NA         & CANCELLED\\\\\n",
       "\t 14 & Samuel  & Rutledge & wedding & chicken    & CONFIRMED\\\\\n",
       "\t 14 & Samuel  & Rutledge & brunch  & Menu C     & CONFIRMED\\\\\n",
       "\t 14 & Samuel  & Rutledge & golf    & NA         & CONFIRMED\\\\\n",
       "\t 15 & Eddison & Collier  & wedding & PENDING    & PENDING  \\\\\n",
       "\t 15 & Eddison & Collier  & brunch  & PENDING    & PENDING  \\\\\n",
       "\t 15 & Eddison & Collier  & golf    & NA         & PENDING  \\\\\n",
       "\t 15 & Stewart & Nicholls & wedding & chicken    & CONFIRMED\\\\\n",
       "\t 15 & Stewart & Nicholls & brunch  & Menu B     & CONFIRMED\\\\\n",
       "\t 15 & Stewart & Nicholls & golf    & NA         & CONFIRMED\\\\\n",
       "\\end{tabular}\n"
      ],
      "text/markdown": [
       "\n",
       "A tibble: 90 × 6\n",
       "\n",
       "| party &lt;dbl&gt; | first_name &lt;chr&gt; | last_name &lt;chr&gt; | event &lt;chr&gt; | meal &lt;chr&gt; | attendance &lt;chr&gt; |\n",
       "|---|---|---|---|---|---|\n",
       "| 1 | Sommer  | Medrano  | wedding | PENDING    | PENDING   |\n",
       "| 1 | Sommer  | Medrano  | brunch  | PENDING    | PENDING   |\n",
       "| 1 | Sommer  | Medrano  | golf    | NA         | PENDING   |\n",
       "| 1 | Phillip | Medrano  | wedding | vegetarian | CONFIRMED |\n",
       "| 1 | Phillip | Medrano  | brunch  | Menu C     | CONFIRMED |\n",
       "| 1 | Phillip | Medrano  | golf    | NA         | CONFIRMED |\n",
       "| 1 | Blanka  | Medrano  | wedding | chicken    | CONFIRMED |\n",
       "| 1 | Blanka  | Medrano  | brunch  | Menu A     | CONFIRMED |\n",
       "| 1 | Blanka  | Medrano  | golf    | NA         | CONFIRMED |\n",
       "| 1 | Emaan   | Medrano  | wedding | PENDING    | PENDING   |\n",
       "| 1 | Emaan   | Medrano  | brunch  | PENDING    | PENDING   |\n",
       "| 1 | Emaan   | Medrano  | golf    | NA         | PENDING   |\n",
       "| 2 | Blair   | Park     | wedding | chicken    | CONFIRMED |\n",
       "| 2 | Blair   | Park     | brunch  | Menu C     | CONFIRMED |\n",
       "| 2 | Blair   | Park     | golf    | NA         | CONFIRMED |\n",
       "| 2 | Nigel   | Webb     | wedding | NA         | CANCELLED |\n",
       "| 2 | Nigel   | Webb     | brunch  | NA         | CANCELLED |\n",
       "| 2 | Nigel   | Webb     | golf    | NA         | CANCELLED |\n",
       "| 3 | Sinead  | English  | wedding | PENDING    | PENDING   |\n",
       "| 3 | Sinead  | English  | brunch  | PENDING    | PENDING   |\n",
       "| 3 | Sinead  | English  | golf    | NA         | PENDING   |\n",
       "| 4 | Ayra    | Marks    | wedding | vegetarian | PENDING   |\n",
       "| 4 | Ayra    | Marks    | brunch  | Menu B     | PENDING   |\n",
       "| 4 | Ayra    | Marks    | golf    | NA         | PENDING   |\n",
       "| 5 | Atlanta | Connolly | wedding | PENDING    | PENDING   |\n",
       "| 5 | Atlanta | Connolly | brunch  | PENDING    | PENDING   |\n",
       "| 5 | Atlanta | Connolly | golf    | NA         | PENDING   |\n",
       "| 5 | Denzel  | Connolly | wedding | fish       | CONFIRMED |\n",
       "| 5 | Denzel  | Connolly | brunch  | Menu B     | CONFIRMED |\n",
       "| 5 | Denzel  | Connolly | golf    | NA         | CONFIRMED |\n",
       "| ⋮ | ⋮ | ⋮ | ⋮ | ⋮ | ⋮ |\n",
       "| 12 | Martin  | Caldwell | wedding | PENDING    | PENDING   |\n",
       "| 12 | Martin  | Caldwell | brunch  | PENDING    | PENDING   |\n",
       "| 12 | Martin  | Caldwell | golf    | NA         | PENDING   |\n",
       "| 12 | Violet  | Caldwell | wedding | PENDING    | PENDING   |\n",
       "| 12 | Violet  | Caldwell | brunch  | PENDING    | PENDING   |\n",
       "| 12 | Violet  | Caldwell | golf    | NA         | PENDING   |\n",
       "| 12 | Nazifa  | Caldwell | wedding | chicken    | PENDING   |\n",
       "| 12 | Nazifa  | Caldwell | brunch  | PENDING    | PENDING   |\n",
       "| 12 | Nazifa  | Caldwell | golf    | NA         | PENDING   |\n",
       "| 12 | Eric    | Caldwell | wedding | chicken    | CONFIRMED |\n",
       "| 12 | Eric    | Caldwell | brunch  | Menu B     | CONFIRMED |\n",
       "| 12 | Eric    | Caldwell | golf    | NA         | CONFIRMED |\n",
       "| 13 | Rosanna | Bird     | wedding | vegetarian | CONFIRMED |\n",
       "| 13 | Rosanna | Bird     | brunch  | Menu C     | CONFIRMED |\n",
       "| 13 | Rosanna | Bird     | golf    | NA         | CONFIRMED |\n",
       "| 13 | Kurtis  | Frost    | wedding | PENDING    | PENDING   |\n",
       "| 13 | Kurtis  | Frost    | brunch  | PENDING    | PENDING   |\n",
       "| 13 | Kurtis  | Frost    | golf    | NA         | PENDING   |\n",
       "| 14 | Huma    | Stokes   | wedding | NA         | CANCELLED |\n",
       "| 14 | Huma    | Stokes   | brunch  | NA         | CANCELLED |\n",
       "| 14 | Huma    | Stokes   | golf    | NA         | CANCELLED |\n",
       "| 14 | Samuel  | Rutledge | wedding | chicken    | CONFIRMED |\n",
       "| 14 | Samuel  | Rutledge | brunch  | Menu C     | CONFIRMED |\n",
       "| 14 | Samuel  | Rutledge | golf    | NA         | CONFIRMED |\n",
       "| 15 | Eddison | Collier  | wedding | PENDING    | PENDING   |\n",
       "| 15 | Eddison | Collier  | brunch  | PENDING    | PENDING   |\n",
       "| 15 | Eddison | Collier  | golf    | NA         | PENDING   |\n",
       "| 15 | Stewart | Nicholls | wedding | chicken    | CONFIRMED |\n",
       "| 15 | Stewart | Nicholls | brunch  | Menu B     | CONFIRMED |\n",
       "| 15 | Stewart | Nicholls | golf    | NA         | CONFIRMED |\n",
       "\n"
      ],
      "text/plain": [
       "   party first_name last_name event   meal       attendance\n",
       "1  1     Sommer     Medrano   wedding PENDING    PENDING   \n",
       "2  1     Sommer     Medrano   brunch  PENDING    PENDING   \n",
       "3  1     Sommer     Medrano   golf    NA         PENDING   \n",
       "4  1     Phillip    Medrano   wedding vegetarian CONFIRMED \n",
       "5  1     Phillip    Medrano   brunch  Menu C     CONFIRMED \n",
       "6  1     Phillip    Medrano   golf    NA         CONFIRMED \n",
       "7  1     Blanka     Medrano   wedding chicken    CONFIRMED \n",
       "8  1     Blanka     Medrano   brunch  Menu A     CONFIRMED \n",
       "9  1     Blanka     Medrano   golf    NA         CONFIRMED \n",
       "10 1     Emaan      Medrano   wedding PENDING    PENDING   \n",
       "11 1     Emaan      Medrano   brunch  PENDING    PENDING   \n",
       "12 1     Emaan      Medrano   golf    NA         PENDING   \n",
       "13 2     Blair      Park      wedding chicken    CONFIRMED \n",
       "14 2     Blair      Park      brunch  Menu C     CONFIRMED \n",
       "15 2     Blair      Park      golf    NA         CONFIRMED \n",
       "16 2     Nigel      Webb      wedding NA         CANCELLED \n",
       "17 2     Nigel      Webb      brunch  NA         CANCELLED \n",
       "18 2     Nigel      Webb      golf    NA         CANCELLED \n",
       "19 3     Sinead     English   wedding PENDING    PENDING   \n",
       "20 3     Sinead     English   brunch  PENDING    PENDING   \n",
       "21 3     Sinead     English   golf    NA         PENDING   \n",
       "22 4     Ayra       Marks     wedding vegetarian PENDING   \n",
       "23 4     Ayra       Marks     brunch  Menu B     PENDING   \n",
       "24 4     Ayra       Marks     golf    NA         PENDING   \n",
       "25 5     Atlanta    Connolly  wedding PENDING    PENDING   \n",
       "26 5     Atlanta    Connolly  brunch  PENDING    PENDING   \n",
       "27 5     Atlanta    Connolly  golf    NA         PENDING   \n",
       "28 5     Denzel     Connolly  wedding fish       CONFIRMED \n",
       "29 5     Denzel     Connolly  brunch  Menu B     CONFIRMED \n",
       "30 5     Denzel     Connolly  golf    NA         CONFIRMED \n",
       "⋮  ⋮     ⋮          ⋮         ⋮       ⋮          ⋮         \n",
       "61 12    Martin     Caldwell  wedding PENDING    PENDING   \n",
       "62 12    Martin     Caldwell  brunch  PENDING    PENDING   \n",
       "63 12    Martin     Caldwell  golf    NA         PENDING   \n",
       "64 12    Violet     Caldwell  wedding PENDING    PENDING   \n",
       "65 12    Violet     Caldwell  brunch  PENDING    PENDING   \n",
       "66 12    Violet     Caldwell  golf    NA         PENDING   \n",
       "67 12    Nazifa     Caldwell  wedding chicken    PENDING   \n",
       "68 12    Nazifa     Caldwell  brunch  PENDING    PENDING   \n",
       "69 12    Nazifa     Caldwell  golf    NA         PENDING   \n",
       "70 12    Eric       Caldwell  wedding chicken    CONFIRMED \n",
       "71 12    Eric       Caldwell  brunch  Menu B     CONFIRMED \n",
       "72 12    Eric       Caldwell  golf    NA         CONFIRMED \n",
       "73 13    Rosanna    Bird      wedding vegetarian CONFIRMED \n",
       "74 13    Rosanna    Bird      brunch  Menu C     CONFIRMED \n",
       "75 13    Rosanna    Bird      golf    NA         CONFIRMED \n",
       "76 13    Kurtis     Frost     wedding PENDING    PENDING   \n",
       "77 13    Kurtis     Frost     brunch  PENDING    PENDING   \n",
       "78 13    Kurtis     Frost     golf    NA         PENDING   \n",
       "79 14    Huma       Stokes    wedding NA         CANCELLED \n",
       "80 14    Huma       Stokes    brunch  NA         CANCELLED \n",
       "81 14    Huma       Stokes    golf    NA         CANCELLED \n",
       "82 14    Samuel     Rutledge  wedding chicken    CONFIRMED \n",
       "83 14    Samuel     Rutledge  brunch  Menu C     CONFIRMED \n",
       "84 14    Samuel     Rutledge  golf    NA         CONFIRMED \n",
       "85 15    Eddison    Collier   wedding PENDING    PENDING   \n",
       "86 15    Eddison    Collier   brunch  PENDING    PENDING   \n",
       "87 15    Eddison    Collier   golf    NA         PENDING   \n",
       "88 15    Stewart    Nicholls  wedding chicken    CONFIRMED \n",
       "89 15    Stewart    Nicholls  brunch  Menu B     CONFIRMED \n",
       "90 15    Stewart    Nicholls  golf    NA         CONFIRMED "
      ]
     },
     "metadata": {},
     "output_type": "display_data"
    }
   ],
   "source": [
    "# YOUR ANSWER HERE\n",
    "### BEGIN SOLUTION\n",
    "(guest_sep <- guest_long %>% \n",
    "  separate(name, into = c(\"first_name\", \"last_name\"), sep=\" \"))\n",
    "### END SOLUTION"
   ]
  },
  {
   "cell_type": "code",
   "execution_count": 206,
   "metadata": {
    "collapsed": true,
    "nbgrader": {
     "grade": true,
     "grade_id": "cell-0cba9b35e5add034",
     "locked": true,
     "points": 1,
     "schema_version": 3,
     "solution": false,
     "task": false
    }
   },
   "outputs": [
    {
     "name": "stdout",
     "output_type": "stream",
     "text": [
      "[1] \"Success!\"\n"
     ]
    }
   ],
   "source": [
    "test_that(\"Question 2.2\", {expect_equal(digest(guest_sep), \"3d56c82e213187c048d870d7f09a4ef1\")})\n",
    "print(\"Correct!\")"
   ]
  },
  {
   "cell_type": "markdown",
   "metadata": {
    "nbgrader": {
     "grade": false,
     "grade_id": "cell-4c777f9f3d24eca8",
     "locked": true,
     "schema_version": 3,
     "solution": false,
     "task": false
    }
   },
   "source": [
    "### Question 2.3\n",
    "Re-unite `first_name` and `last_name` in `guest_sep` back into `name` using `tidyr::unite()`. Store the resulting data frame in the variable `guest_unite`."
   ]
  },
  {
   "cell_type": "code",
   "execution_count": 207,
   "metadata": {
    "collapsed": true,
    "nbgrader": {
     "grade": false,
     "grade_id": "cell-955ac07a83ed5e20",
     "locked": false,
     "schema_version": 3,
     "solution": true,
     "task": false
    }
   },
   "outputs": [
    {
     "data": {
      "text/html": [
       "<table>\n",
       "<caption>A tibble: 90 × 5</caption>\n",
       "<thead>\n",
       "\t<tr><th scope=col>party</th><th scope=col>name</th><th scope=col>event</th><th scope=col>meal</th><th scope=col>attendance</th></tr>\n",
       "\t<tr><th scope=col>&lt;dbl&gt;</th><th scope=col>&lt;chr&gt;</th><th scope=col>&lt;chr&gt;</th><th scope=col>&lt;chr&gt;</th><th scope=col>&lt;chr&gt;</th></tr>\n",
       "</thead>\n",
       "<tbody>\n",
       "\t<tr><td>1</td><td>Sommer Medrano  </td><td>wedding</td><td>PENDING   </td><td>PENDING  </td></tr>\n",
       "\t<tr><td>1</td><td>Sommer Medrano  </td><td>brunch </td><td>PENDING   </td><td>PENDING  </td></tr>\n",
       "\t<tr><td>1</td><td>Sommer Medrano  </td><td>golf   </td><td>NA        </td><td>PENDING  </td></tr>\n",
       "\t<tr><td>1</td><td>Phillip Medrano </td><td>wedding</td><td>vegetarian</td><td>CONFIRMED</td></tr>\n",
       "\t<tr><td>1</td><td>Phillip Medrano </td><td>brunch </td><td>Menu C    </td><td>CONFIRMED</td></tr>\n",
       "\t<tr><td>1</td><td>Phillip Medrano </td><td>golf   </td><td>NA        </td><td>CONFIRMED</td></tr>\n",
       "\t<tr><td>1</td><td>Blanka Medrano  </td><td>wedding</td><td>chicken   </td><td>CONFIRMED</td></tr>\n",
       "\t<tr><td>1</td><td>Blanka Medrano  </td><td>brunch </td><td>Menu A    </td><td>CONFIRMED</td></tr>\n",
       "\t<tr><td>1</td><td>Blanka Medrano  </td><td>golf   </td><td>NA        </td><td>CONFIRMED</td></tr>\n",
       "\t<tr><td>1</td><td>Emaan Medrano   </td><td>wedding</td><td>PENDING   </td><td>PENDING  </td></tr>\n",
       "\t<tr><td>1</td><td>Emaan Medrano   </td><td>brunch </td><td>PENDING   </td><td>PENDING  </td></tr>\n",
       "\t<tr><td>1</td><td>Emaan Medrano   </td><td>golf   </td><td>NA        </td><td>PENDING  </td></tr>\n",
       "\t<tr><td>2</td><td>Blair Park      </td><td>wedding</td><td>chicken   </td><td>CONFIRMED</td></tr>\n",
       "\t<tr><td>2</td><td>Blair Park      </td><td>brunch </td><td>Menu C    </td><td>CONFIRMED</td></tr>\n",
       "\t<tr><td>2</td><td>Blair Park      </td><td>golf   </td><td>NA        </td><td>CONFIRMED</td></tr>\n",
       "\t<tr><td>2</td><td>Nigel Webb      </td><td>wedding</td><td>NA        </td><td>CANCELLED</td></tr>\n",
       "\t<tr><td>2</td><td>Nigel Webb      </td><td>brunch </td><td>NA        </td><td>CANCELLED</td></tr>\n",
       "\t<tr><td>2</td><td>Nigel Webb      </td><td>golf   </td><td>NA        </td><td>CANCELLED</td></tr>\n",
       "\t<tr><td>3</td><td>Sinead English  </td><td>wedding</td><td>PENDING   </td><td>PENDING  </td></tr>\n",
       "\t<tr><td>3</td><td>Sinead English  </td><td>brunch </td><td>PENDING   </td><td>PENDING  </td></tr>\n",
       "\t<tr><td>3</td><td>Sinead English  </td><td>golf   </td><td>NA        </td><td>PENDING  </td></tr>\n",
       "\t<tr><td>4</td><td>Ayra Marks      </td><td>wedding</td><td>vegetarian</td><td>PENDING  </td></tr>\n",
       "\t<tr><td>4</td><td>Ayra Marks      </td><td>brunch </td><td>Menu B    </td><td>PENDING  </td></tr>\n",
       "\t<tr><td>4</td><td>Ayra Marks      </td><td>golf   </td><td>NA        </td><td>PENDING  </td></tr>\n",
       "\t<tr><td>5</td><td>Atlanta Connolly</td><td>wedding</td><td>PENDING   </td><td>PENDING  </td></tr>\n",
       "\t<tr><td>5</td><td>Atlanta Connolly</td><td>brunch </td><td>PENDING   </td><td>PENDING  </td></tr>\n",
       "\t<tr><td>5</td><td>Atlanta Connolly</td><td>golf   </td><td>NA        </td><td>PENDING  </td></tr>\n",
       "\t<tr><td>5</td><td>Denzel Connolly </td><td>wedding</td><td>fish      </td><td>CONFIRMED</td></tr>\n",
       "\t<tr><td>5</td><td>Denzel Connolly </td><td>brunch </td><td>Menu B    </td><td>CONFIRMED</td></tr>\n",
       "\t<tr><td>5</td><td>Denzel Connolly </td><td>golf   </td><td>NA        </td><td>CONFIRMED</td></tr>\n",
       "\t<tr><td>⋮</td><td>⋮</td><td>⋮</td><td>⋮</td><td>⋮</td></tr>\n",
       "\t<tr><td>12</td><td>Martin Caldwell </td><td>wedding</td><td>PENDING   </td><td>PENDING  </td></tr>\n",
       "\t<tr><td>12</td><td>Martin Caldwell </td><td>brunch </td><td>PENDING   </td><td>PENDING  </td></tr>\n",
       "\t<tr><td>12</td><td>Martin Caldwell </td><td>golf   </td><td>NA        </td><td>PENDING  </td></tr>\n",
       "\t<tr><td>12</td><td>Violet Caldwell </td><td>wedding</td><td>PENDING   </td><td>PENDING  </td></tr>\n",
       "\t<tr><td>12</td><td>Violet Caldwell </td><td>brunch </td><td>PENDING   </td><td>PENDING  </td></tr>\n",
       "\t<tr><td>12</td><td>Violet Caldwell </td><td>golf   </td><td>NA        </td><td>PENDING  </td></tr>\n",
       "\t<tr><td>12</td><td>Nazifa Caldwell </td><td>wedding</td><td>chicken   </td><td>PENDING  </td></tr>\n",
       "\t<tr><td>12</td><td>Nazifa Caldwell </td><td>brunch </td><td>PENDING   </td><td>PENDING  </td></tr>\n",
       "\t<tr><td>12</td><td>Nazifa Caldwell </td><td>golf   </td><td>NA        </td><td>PENDING  </td></tr>\n",
       "\t<tr><td>12</td><td>Eric Caldwell   </td><td>wedding</td><td>chicken   </td><td>CONFIRMED</td></tr>\n",
       "\t<tr><td>12</td><td>Eric Caldwell   </td><td>brunch </td><td>Menu B    </td><td>CONFIRMED</td></tr>\n",
       "\t<tr><td>12</td><td>Eric Caldwell   </td><td>golf   </td><td>NA        </td><td>CONFIRMED</td></tr>\n",
       "\t<tr><td>13</td><td>Rosanna Bird    </td><td>wedding</td><td>vegetarian</td><td>CONFIRMED</td></tr>\n",
       "\t<tr><td>13</td><td>Rosanna Bird    </td><td>brunch </td><td>Menu C    </td><td>CONFIRMED</td></tr>\n",
       "\t<tr><td>13</td><td>Rosanna Bird    </td><td>golf   </td><td>NA        </td><td>CONFIRMED</td></tr>\n",
       "\t<tr><td>13</td><td>Kurtis Frost    </td><td>wedding</td><td>PENDING   </td><td>PENDING  </td></tr>\n",
       "\t<tr><td>13</td><td>Kurtis Frost    </td><td>brunch </td><td>PENDING   </td><td>PENDING  </td></tr>\n",
       "\t<tr><td>13</td><td>Kurtis Frost    </td><td>golf   </td><td>NA        </td><td>PENDING  </td></tr>\n",
       "\t<tr><td>14</td><td>Huma Stokes     </td><td>wedding</td><td>NA        </td><td>CANCELLED</td></tr>\n",
       "\t<tr><td>14</td><td>Huma Stokes     </td><td>brunch </td><td>NA        </td><td>CANCELLED</td></tr>\n",
       "\t<tr><td>14</td><td>Huma Stokes     </td><td>golf   </td><td>NA        </td><td>CANCELLED</td></tr>\n",
       "\t<tr><td>14</td><td>Samuel Rutledge </td><td>wedding</td><td>chicken   </td><td>CONFIRMED</td></tr>\n",
       "\t<tr><td>14</td><td>Samuel Rutledge </td><td>brunch </td><td>Menu C    </td><td>CONFIRMED</td></tr>\n",
       "\t<tr><td>14</td><td>Samuel Rutledge </td><td>golf   </td><td>NA        </td><td>CONFIRMED</td></tr>\n",
       "\t<tr><td>15</td><td>Eddison Collier </td><td>wedding</td><td>PENDING   </td><td>PENDING  </td></tr>\n",
       "\t<tr><td>15</td><td>Eddison Collier </td><td>brunch </td><td>PENDING   </td><td>PENDING  </td></tr>\n",
       "\t<tr><td>15</td><td>Eddison Collier </td><td>golf   </td><td>NA        </td><td>PENDING  </td></tr>\n",
       "\t<tr><td>15</td><td>Stewart Nicholls</td><td>wedding</td><td>chicken   </td><td>CONFIRMED</td></tr>\n",
       "\t<tr><td>15</td><td>Stewart Nicholls</td><td>brunch </td><td>Menu B    </td><td>CONFIRMED</td></tr>\n",
       "\t<tr><td>15</td><td>Stewart Nicholls</td><td>golf   </td><td>NA        </td><td>CONFIRMED</td></tr>\n",
       "</tbody>\n",
       "</table>\n"
      ],
      "text/latex": [
       "A tibble: 90 × 5\n",
       "\\begin{tabular}{lllll}\n",
       " party & name & event & meal & attendance\\\\\n",
       " <dbl> & <chr> & <chr> & <chr> & <chr>\\\\\n",
       "\\hline\n",
       "\t 1 & Sommer Medrano   & wedding & PENDING    & PENDING  \\\\\n",
       "\t 1 & Sommer Medrano   & brunch  & PENDING    & PENDING  \\\\\n",
       "\t 1 & Sommer Medrano   & golf    & NA         & PENDING  \\\\\n",
       "\t 1 & Phillip Medrano  & wedding & vegetarian & CONFIRMED\\\\\n",
       "\t 1 & Phillip Medrano  & brunch  & Menu C     & CONFIRMED\\\\\n",
       "\t 1 & Phillip Medrano  & golf    & NA         & CONFIRMED\\\\\n",
       "\t 1 & Blanka Medrano   & wedding & chicken    & CONFIRMED\\\\\n",
       "\t 1 & Blanka Medrano   & brunch  & Menu A     & CONFIRMED\\\\\n",
       "\t 1 & Blanka Medrano   & golf    & NA         & CONFIRMED\\\\\n",
       "\t 1 & Emaan Medrano    & wedding & PENDING    & PENDING  \\\\\n",
       "\t 1 & Emaan Medrano    & brunch  & PENDING    & PENDING  \\\\\n",
       "\t 1 & Emaan Medrano    & golf    & NA         & PENDING  \\\\\n",
       "\t 2 & Blair Park       & wedding & chicken    & CONFIRMED\\\\\n",
       "\t 2 & Blair Park       & brunch  & Menu C     & CONFIRMED\\\\\n",
       "\t 2 & Blair Park       & golf    & NA         & CONFIRMED\\\\\n",
       "\t 2 & Nigel Webb       & wedding & NA         & CANCELLED\\\\\n",
       "\t 2 & Nigel Webb       & brunch  & NA         & CANCELLED\\\\\n",
       "\t 2 & Nigel Webb       & golf    & NA         & CANCELLED\\\\\n",
       "\t 3 & Sinead English   & wedding & PENDING    & PENDING  \\\\\n",
       "\t 3 & Sinead English   & brunch  & PENDING    & PENDING  \\\\\n",
       "\t 3 & Sinead English   & golf    & NA         & PENDING  \\\\\n",
       "\t 4 & Ayra Marks       & wedding & vegetarian & PENDING  \\\\\n",
       "\t 4 & Ayra Marks       & brunch  & Menu B     & PENDING  \\\\\n",
       "\t 4 & Ayra Marks       & golf    & NA         & PENDING  \\\\\n",
       "\t 5 & Atlanta Connolly & wedding & PENDING    & PENDING  \\\\\n",
       "\t 5 & Atlanta Connolly & brunch  & PENDING    & PENDING  \\\\\n",
       "\t 5 & Atlanta Connolly & golf    & NA         & PENDING  \\\\\n",
       "\t 5 & Denzel Connolly  & wedding & fish       & CONFIRMED\\\\\n",
       "\t 5 & Denzel Connolly  & brunch  & Menu B     & CONFIRMED\\\\\n",
       "\t 5 & Denzel Connolly  & golf    & NA         & CONFIRMED\\\\\n",
       "\t ⋮ & ⋮ & ⋮ & ⋮ & ⋮\\\\\n",
       "\t 12 & Martin Caldwell  & wedding & PENDING    & PENDING  \\\\\n",
       "\t 12 & Martin Caldwell  & brunch  & PENDING    & PENDING  \\\\\n",
       "\t 12 & Martin Caldwell  & golf    & NA         & PENDING  \\\\\n",
       "\t 12 & Violet Caldwell  & wedding & PENDING    & PENDING  \\\\\n",
       "\t 12 & Violet Caldwell  & brunch  & PENDING    & PENDING  \\\\\n",
       "\t 12 & Violet Caldwell  & golf    & NA         & PENDING  \\\\\n",
       "\t 12 & Nazifa Caldwell  & wedding & chicken    & PENDING  \\\\\n",
       "\t 12 & Nazifa Caldwell  & brunch  & PENDING    & PENDING  \\\\\n",
       "\t 12 & Nazifa Caldwell  & golf    & NA         & PENDING  \\\\\n",
       "\t 12 & Eric Caldwell    & wedding & chicken    & CONFIRMED\\\\\n",
       "\t 12 & Eric Caldwell    & brunch  & Menu B     & CONFIRMED\\\\\n",
       "\t 12 & Eric Caldwell    & golf    & NA         & CONFIRMED\\\\\n",
       "\t 13 & Rosanna Bird     & wedding & vegetarian & CONFIRMED\\\\\n",
       "\t 13 & Rosanna Bird     & brunch  & Menu C     & CONFIRMED\\\\\n",
       "\t 13 & Rosanna Bird     & golf    & NA         & CONFIRMED\\\\\n",
       "\t 13 & Kurtis Frost     & wedding & PENDING    & PENDING  \\\\\n",
       "\t 13 & Kurtis Frost     & brunch  & PENDING    & PENDING  \\\\\n",
       "\t 13 & Kurtis Frost     & golf    & NA         & PENDING  \\\\\n",
       "\t 14 & Huma Stokes      & wedding & NA         & CANCELLED\\\\\n",
       "\t 14 & Huma Stokes      & brunch  & NA         & CANCELLED\\\\\n",
       "\t 14 & Huma Stokes      & golf    & NA         & CANCELLED\\\\\n",
       "\t 14 & Samuel Rutledge  & wedding & chicken    & CONFIRMED\\\\\n",
       "\t 14 & Samuel Rutledge  & brunch  & Menu C     & CONFIRMED\\\\\n",
       "\t 14 & Samuel Rutledge  & golf    & NA         & CONFIRMED\\\\\n",
       "\t 15 & Eddison Collier  & wedding & PENDING    & PENDING  \\\\\n",
       "\t 15 & Eddison Collier  & brunch  & PENDING    & PENDING  \\\\\n",
       "\t 15 & Eddison Collier  & golf    & NA         & PENDING  \\\\\n",
       "\t 15 & Stewart Nicholls & wedding & chicken    & CONFIRMED\\\\\n",
       "\t 15 & Stewart Nicholls & brunch  & Menu B     & CONFIRMED\\\\\n",
       "\t 15 & Stewart Nicholls & golf    & NA         & CONFIRMED\\\\\n",
       "\\end{tabular}\n"
      ],
      "text/markdown": [
       "\n",
       "A tibble: 90 × 5\n",
       "\n",
       "| party &lt;dbl&gt; | name &lt;chr&gt; | event &lt;chr&gt; | meal &lt;chr&gt; | attendance &lt;chr&gt; |\n",
       "|---|---|---|---|---|\n",
       "| 1 | Sommer Medrano   | wedding | PENDING    | PENDING   |\n",
       "| 1 | Sommer Medrano   | brunch  | PENDING    | PENDING   |\n",
       "| 1 | Sommer Medrano   | golf    | NA         | PENDING   |\n",
       "| 1 | Phillip Medrano  | wedding | vegetarian | CONFIRMED |\n",
       "| 1 | Phillip Medrano  | brunch  | Menu C     | CONFIRMED |\n",
       "| 1 | Phillip Medrano  | golf    | NA         | CONFIRMED |\n",
       "| 1 | Blanka Medrano   | wedding | chicken    | CONFIRMED |\n",
       "| 1 | Blanka Medrano   | brunch  | Menu A     | CONFIRMED |\n",
       "| 1 | Blanka Medrano   | golf    | NA         | CONFIRMED |\n",
       "| 1 | Emaan Medrano    | wedding | PENDING    | PENDING   |\n",
       "| 1 | Emaan Medrano    | brunch  | PENDING    | PENDING   |\n",
       "| 1 | Emaan Medrano    | golf    | NA         | PENDING   |\n",
       "| 2 | Blair Park       | wedding | chicken    | CONFIRMED |\n",
       "| 2 | Blair Park       | brunch  | Menu C     | CONFIRMED |\n",
       "| 2 | Blair Park       | golf    | NA         | CONFIRMED |\n",
       "| 2 | Nigel Webb       | wedding | NA         | CANCELLED |\n",
       "| 2 | Nigel Webb       | brunch  | NA         | CANCELLED |\n",
       "| 2 | Nigel Webb       | golf    | NA         | CANCELLED |\n",
       "| 3 | Sinead English   | wedding | PENDING    | PENDING   |\n",
       "| 3 | Sinead English   | brunch  | PENDING    | PENDING   |\n",
       "| 3 | Sinead English   | golf    | NA         | PENDING   |\n",
       "| 4 | Ayra Marks       | wedding | vegetarian | PENDING   |\n",
       "| 4 | Ayra Marks       | brunch  | Menu B     | PENDING   |\n",
       "| 4 | Ayra Marks       | golf    | NA         | PENDING   |\n",
       "| 5 | Atlanta Connolly | wedding | PENDING    | PENDING   |\n",
       "| 5 | Atlanta Connolly | brunch  | PENDING    | PENDING   |\n",
       "| 5 | Atlanta Connolly | golf    | NA         | PENDING   |\n",
       "| 5 | Denzel Connolly  | wedding | fish       | CONFIRMED |\n",
       "| 5 | Denzel Connolly  | brunch  | Menu B     | CONFIRMED |\n",
       "| 5 | Denzel Connolly  | golf    | NA         | CONFIRMED |\n",
       "| ⋮ | ⋮ | ⋮ | ⋮ | ⋮ |\n",
       "| 12 | Martin Caldwell  | wedding | PENDING    | PENDING   |\n",
       "| 12 | Martin Caldwell  | brunch  | PENDING    | PENDING   |\n",
       "| 12 | Martin Caldwell  | golf    | NA         | PENDING   |\n",
       "| 12 | Violet Caldwell  | wedding | PENDING    | PENDING   |\n",
       "| 12 | Violet Caldwell  | brunch  | PENDING    | PENDING   |\n",
       "| 12 | Violet Caldwell  | golf    | NA         | PENDING   |\n",
       "| 12 | Nazifa Caldwell  | wedding | chicken    | PENDING   |\n",
       "| 12 | Nazifa Caldwell  | brunch  | PENDING    | PENDING   |\n",
       "| 12 | Nazifa Caldwell  | golf    | NA         | PENDING   |\n",
       "| 12 | Eric Caldwell    | wedding | chicken    | CONFIRMED |\n",
       "| 12 | Eric Caldwell    | brunch  | Menu B     | CONFIRMED |\n",
       "| 12 | Eric Caldwell    | golf    | NA         | CONFIRMED |\n",
       "| 13 | Rosanna Bird     | wedding | vegetarian | CONFIRMED |\n",
       "| 13 | Rosanna Bird     | brunch  | Menu C     | CONFIRMED |\n",
       "| 13 | Rosanna Bird     | golf    | NA         | CONFIRMED |\n",
       "| 13 | Kurtis Frost     | wedding | PENDING    | PENDING   |\n",
       "| 13 | Kurtis Frost     | brunch  | PENDING    | PENDING   |\n",
       "| 13 | Kurtis Frost     | golf    | NA         | PENDING   |\n",
       "| 14 | Huma Stokes      | wedding | NA         | CANCELLED |\n",
       "| 14 | Huma Stokes      | brunch  | NA         | CANCELLED |\n",
       "| 14 | Huma Stokes      | golf    | NA         | CANCELLED |\n",
       "| 14 | Samuel Rutledge  | wedding | chicken    | CONFIRMED |\n",
       "| 14 | Samuel Rutledge  | brunch  | Menu C     | CONFIRMED |\n",
       "| 14 | Samuel Rutledge  | golf    | NA         | CONFIRMED |\n",
       "| 15 | Eddison Collier  | wedding | PENDING    | PENDING   |\n",
       "| 15 | Eddison Collier  | brunch  | PENDING    | PENDING   |\n",
       "| 15 | Eddison Collier  | golf    | NA         | PENDING   |\n",
       "| 15 | Stewart Nicholls | wedding | chicken    | CONFIRMED |\n",
       "| 15 | Stewart Nicholls | brunch  | Menu B     | CONFIRMED |\n",
       "| 15 | Stewart Nicholls | golf    | NA         | CONFIRMED |\n",
       "\n"
      ],
      "text/plain": [
       "   party name             event   meal       attendance\n",
       "1  1     Sommer Medrano   wedding PENDING    PENDING   \n",
       "2  1     Sommer Medrano   brunch  PENDING    PENDING   \n",
       "3  1     Sommer Medrano   golf    NA         PENDING   \n",
       "4  1     Phillip Medrano  wedding vegetarian CONFIRMED \n",
       "5  1     Phillip Medrano  brunch  Menu C     CONFIRMED \n",
       "6  1     Phillip Medrano  golf    NA         CONFIRMED \n",
       "7  1     Blanka Medrano   wedding chicken    CONFIRMED \n",
       "8  1     Blanka Medrano   brunch  Menu A     CONFIRMED \n",
       "9  1     Blanka Medrano   golf    NA         CONFIRMED \n",
       "10 1     Emaan Medrano    wedding PENDING    PENDING   \n",
       "11 1     Emaan Medrano    brunch  PENDING    PENDING   \n",
       "12 1     Emaan Medrano    golf    NA         PENDING   \n",
       "13 2     Blair Park       wedding chicken    CONFIRMED \n",
       "14 2     Blair Park       brunch  Menu C     CONFIRMED \n",
       "15 2     Blair Park       golf    NA         CONFIRMED \n",
       "16 2     Nigel Webb       wedding NA         CANCELLED \n",
       "17 2     Nigel Webb       brunch  NA         CANCELLED \n",
       "18 2     Nigel Webb       golf    NA         CANCELLED \n",
       "19 3     Sinead English   wedding PENDING    PENDING   \n",
       "20 3     Sinead English   brunch  PENDING    PENDING   \n",
       "21 3     Sinead English   golf    NA         PENDING   \n",
       "22 4     Ayra Marks       wedding vegetarian PENDING   \n",
       "23 4     Ayra Marks       brunch  Menu B     PENDING   \n",
       "24 4     Ayra Marks       golf    NA         PENDING   \n",
       "25 5     Atlanta Connolly wedding PENDING    PENDING   \n",
       "26 5     Atlanta Connolly brunch  PENDING    PENDING   \n",
       "27 5     Atlanta Connolly golf    NA         PENDING   \n",
       "28 5     Denzel Connolly  wedding fish       CONFIRMED \n",
       "29 5     Denzel Connolly  brunch  Menu B     CONFIRMED \n",
       "30 5     Denzel Connolly  golf    NA         CONFIRMED \n",
       "⋮  ⋮     ⋮                ⋮       ⋮          ⋮         \n",
       "61 12    Martin Caldwell  wedding PENDING    PENDING   \n",
       "62 12    Martin Caldwell  brunch  PENDING    PENDING   \n",
       "63 12    Martin Caldwell  golf    NA         PENDING   \n",
       "64 12    Violet Caldwell  wedding PENDING    PENDING   \n",
       "65 12    Violet Caldwell  brunch  PENDING    PENDING   \n",
       "66 12    Violet Caldwell  golf    NA         PENDING   \n",
       "67 12    Nazifa Caldwell  wedding chicken    PENDING   \n",
       "68 12    Nazifa Caldwell  brunch  PENDING    PENDING   \n",
       "69 12    Nazifa Caldwell  golf    NA         PENDING   \n",
       "70 12    Eric Caldwell    wedding chicken    CONFIRMED \n",
       "71 12    Eric Caldwell    brunch  Menu B     CONFIRMED \n",
       "72 12    Eric Caldwell    golf    NA         CONFIRMED \n",
       "73 13    Rosanna Bird     wedding vegetarian CONFIRMED \n",
       "74 13    Rosanna Bird     brunch  Menu C     CONFIRMED \n",
       "75 13    Rosanna Bird     golf    NA         CONFIRMED \n",
       "76 13    Kurtis Frost     wedding PENDING    PENDING   \n",
       "77 13    Kurtis Frost     brunch  PENDING    PENDING   \n",
       "78 13    Kurtis Frost     golf    NA         PENDING   \n",
       "79 14    Huma Stokes      wedding NA         CANCELLED \n",
       "80 14    Huma Stokes      brunch  NA         CANCELLED \n",
       "81 14    Huma Stokes      golf    NA         CANCELLED \n",
       "82 14    Samuel Rutledge  wedding chicken    CONFIRMED \n",
       "83 14    Samuel Rutledge  brunch  Menu C     CONFIRMED \n",
       "84 14    Samuel Rutledge  golf    NA         CONFIRMED \n",
       "85 15    Eddison Collier  wedding PENDING    PENDING   \n",
       "86 15    Eddison Collier  brunch  PENDING    PENDING   \n",
       "87 15    Eddison Collier  golf    NA         PENDING   \n",
       "88 15    Stewart Nicholls wedding chicken    CONFIRMED \n",
       "89 15    Stewart Nicholls brunch  Menu B     CONFIRMED \n",
       "90 15    Stewart Nicholls golf    NA         CONFIRMED "
      ]
     },
     "metadata": {},
     "output_type": "display_data"
    },
    {
     "data": {
      "text/html": [
       "'2b09cd8a15b8f29324cff88eada854b4'"
      ],
      "text/latex": [
       "'2b09cd8a15b8f29324cff88eada854b4'"
      ],
      "text/markdown": [
       "'2b09cd8a15b8f29324cff88eada854b4'"
      ],
      "text/plain": [
       "[1] \"2b09cd8a15b8f29324cff88eada854b4\""
      ]
     },
     "metadata": {},
     "output_type": "display_data"
    }
   ],
   "source": [
    "# YOUR ANSWER HERE\n",
    "### BEGIN SOLUTION\n",
    "(guest_unite <- guest_sep %>%\n",
    "    unite(col = \"name\", c(\"first_name\", \"last_name\"), sep = \" \"))\n",
    "digest(guest_unite)\n",
    "### END SOLUTION"
   ]
  },
  {
   "cell_type": "code",
   "execution_count": 208,
   "metadata": {
    "collapsed": true,
    "nbgrader": {
     "grade": true,
     "grade_id": "cell-ee5e83f00c565943",
     "locked": true,
     "points": 1,
     "schema_version": 3,
     "solution": false,
     "task": false
    }
   },
   "outputs": [
    {
     "name": "stdout",
     "output_type": "stream",
     "text": [
      "[1] \"Success!\"\n"
     ]
    }
   ],
   "source": [
    "test_that(\"Question 2.3\", {expect_equal(digest(guest_unite), \"2b09cd8a15b8f29324cff88eada854b4\")})\n",
    "print(\"Correct!\")"
   ]
  },
  {
   "cell_type": "markdown",
   "metadata": {
    "nbgrader": {
     "grade": false,
     "grade_id": "cell-defaffa374701c1e",
     "locked": true,
     "schema_version": 3,
     "solution": false,
     "task": false
    }
   },
   "source": [
    "### Question 2.4\n",
    "Which parties still have a \"PENDING\" status for all members and all events? Store the resulting _vector_ in `all_pending`.\n",
    "\n",
    "**Hint**: use `guest_long` as a starting point."
   ]
  },
  {
   "cell_type": "code",
   "execution_count": 209,
   "metadata": {
    "collapsed": true,
    "nbgrader": {
     "grade": false,
     "grade_id": "cell-caf4c538c01ad19c",
     "locked": false,
     "schema_version": 3,
     "solution": true,
     "task": false
    }
   },
   "outputs": [],
   "source": [
    "# YOUR ANSWER HERE\n",
    "### BEGIN SOLUTION\n",
    "all_pending <- (guest_long %>% \n",
    "    group_by(party) %>% \n",
    "    summarize(.groups = \"keep\", all_pending = all(attendance == \"PENDING\")) %>%\n",
    "    filter(all_pending == TRUE))$party\n",
    "### END SOLUTION"
   ]
  },
  {
   "cell_type": "code",
   "execution_count": 210,
   "metadata": {
    "collapsed": true,
    "nbgrader": {
     "grade": true,
     "grade_id": "cell-7bd8a19402a8d8f2",
     "locked": true,
     "points": 1,
     "schema_version": 3,
     "solution": false,
     "task": false
    }
   },
   "outputs": [
    {
     "name": "stdout",
     "output_type": "stream",
     "text": [
      "[1] \"Success!\"\n"
     ]
    }
   ],
   "source": [
    "test_that(\"Question 2.4\", {expect_equal(digest(all_pending),\"f13a65bc5c8793a2cad1415aad7dff93\")})\n",
    "print(\"Correct!\")"
   ]
  },
  {
   "cell_type": "markdown",
   "metadata": {
    "nbgrader": {
     "grade": false,
     "grade_id": "cell-7ce9d28a450b8dae",
     "locked": true,
     "schema_version": 3,
     "solution": false,
     "task": false
    }
   },
   "source": [
    "### Question 2.5\n",
    "Which parties still have a “PENDING” status for all members for the wedding?"
   ]
  },
  {
   "cell_type": "code",
   "execution_count": 211,
   "metadata": {
    "collapsed": true,
    "nbgrader": {
     "grade": false,
     "grade_id": "cell-69089bca0ebe5314",
     "locked": false,
     "schema_version": 3,
     "solution": true,
     "task": false
    }
   },
   "outputs": [],
   "source": [
    "# YOUR ANSWER HERE\n",
    "### BEGIN SOLUTION\n",
    "wedding_pending <- (guest %>% \n",
    "    group_by(party) %>% \n",
    "    summarize(.groups = \"keep\", pending_wedding = all(attendance_wedding == \"PENDING\")) %>%\n",
    "    filter(pending_wedding == TRUE))$party\n",
    "### END SOLUTION"
   ]
  },
  {
   "cell_type": "code",
   "execution_count": 212,
   "metadata": {
    "collapsed": true,
    "nbgrader": {
     "grade": true,
     "grade_id": "cell-cbecf06071548ada",
     "locked": true,
     "points": 1,
     "schema_version": 3,
     "solution": false,
     "task": false
    }
   },
   "outputs": [
    {
     "name": "stdout",
     "output_type": "stream",
     "text": [
      "[1] \"Success!\"\n"
     ]
    }
   ],
   "source": [
    "test_that(\"Question 2.5\", {expect_equal(digest(wedding_pending), \"f13a65bc5c8793a2cad1415aad7dff93\")})\n",
    "print(\"Correct!\")"
   ]
  },
  {
   "cell_type": "markdown",
   "metadata": {
    "nbgrader": {
     "grade": false,
     "grade_id": "cell-51cc3f9c26a52de9",
     "locked": true,
     "schema_version": 3,
     "solution": false,
     "task": false
    }
   },
   "source": [
    "### TOPIC 2: The Model-Fitting Paradigm in R¶\n",
    "So you want to fit a model to your data. How can you achieve this with R?\n",
    "\n",
    "Topics:\n",
    "\n",
    "1. What _is_ model-fitting?\n",
    "2. How do we fit a model in R?\n",
    "3. How can we obtain tidy results from the model output?"
   ]
  },
  {
   "cell_type": "markdown",
   "metadata": {
    "nbgrader": {
     "grade": false,
     "grade_id": "cell-d093f77a80942d8c",
     "locked": true,
     "schema_version": 3,
     "solution": false,
     "task": false
    }
   },
   "source": [
    "### What is Model-Fitting?\n",
    "When variables are not independent, then we can gain information about one variable if we know something about the other.\n",
    "\n",
    "Examples: Use the scatterplot below:\n",
    "\n",
    "1. A car weighs 4000 lbs. What can we say about its mpg?\n",
    "2. A car weights less than 3000 lbs. What can we say about its mpg?"
   ]
  },
  {
   "cell_type": "code",
   "execution_count": 213,
   "metadata": {
    "collapsed": true,
    "nbgrader": {
     "grade": false,
     "grade_id": "cell-49ed26f566db53b8",
     "locked": true,
     "schema_version": 3,
     "solution": false,
     "task": false
    }
   },
   "outputs": [
    {
     "data": {
      "image/png": "[encoded data removed]",
      "text/plain": [
       "plot without title"
      ]
     },
     "metadata": {
      "image/png": {
       "height": 420,
       "width": 420
      }
     },
     "output_type": "display_data"
    }
   ],
   "source": [
    "# models can fit many data points (using an 'averaged' data line is not always helpful)\n",
    "ggplot(mtcars, aes(wt, mpg)) +\n",
    "  geom_point() +\n",
    "  labs(x = \"Weight (1000's of lbs)\")"
   ]
  },
  {
   "cell_type": "markdown",
   "metadata": {
    "nbgrader": {
     "grade": false,
     "grade_id": "cell-1dda86d66653a203",
     "locked": true,
     "schema_version": 3,
     "solution": false,
     "task": false
    }
   },
   "source": [
    "Example: What can we say about rear axle ratio if we know something about quarter mile time?"
   ]
  },
  {
   "cell_type": "code",
   "execution_count": 214,
   "metadata": {
    "collapsed": true,
    "nbgrader": {
     "grade": false,
     "grade_id": "cell-2ae8b5691581ec0a",
     "locked": true,
     "schema_version": 3,
     "solution": false,
     "task": false
    }
   },
   "outputs": [
    {
     "data": {
      "image/png": "[encoded data removed]",
      "text/plain": [
       "plot without title"
      ]
     },
     "metadata": {
      "image/png": {
       "height": 420,
       "width": 420
      }
     },
     "output_type": "display_data"
    }
   ],
   "source": [
    "ggplot(mtcars, aes(qsec, drat)) + \n",
    "  geom_point() +\n",
    "  labs(x = \"Quarter mile time\",\n",
    "       y = \"Rear axle ratio\")"
   ]
  },
  {
   "cell_type": "markdown",
   "metadata": {
    "nbgrader": {
     "grade": false,
     "grade_id": "cell-c9bb114babd6a9b0",
     "locked": true,
     "schema_version": 3,
     "solution": false,
     "task": false
    }
   },
   "source": [
    "If EDA isn't enough, we can answer these questions by fitting a model: a curve that predicts Y given X. Aka, a __regression curve__ or a __machine learning model__. \n",
    "\n",
    "(There are more comprehensive models too, such as modelling entire distributions, but that's not what we're doing here)\n",
    "\n",
    "There are typically two goals of fitting a model:\n",
    "\n",
    "1. Make predictions.\n",
    "2. Interpret variable relationships.\n",
    "\n",
    "## Fitting a model in R\n",
    "\n",
    "Model fitting methods tend to use a common format in R:\n",
    "\n",
    "```\n",
    "method(formula, data, options)\n",
    "```\n",
    "\n",
    "They also tend to have a common output: a special _list_. \n",
    "\n",
    "__Method__:\n",
    "\n",
    "A function such as:\n",
    "\n",
    "- Linear Regression: `lm`\n",
    "- Generalized Linear Regression: `glm`\n",
    "- Local regression: `loess`\n",
    "- Quantile regression: `quantreg::rq`\n",
    "- ...\n",
    "\n",
    "__Formula__:\n",
    "\n",
    "In R, takes the form `y ~ x1 + x2 + ... + xp` (use column names in your data frame).\n",
    "\n",
    "__Data__: The data frame.\n",
    "\n",
    "__Options__: Specific to the method.\n",
    "\n",
    "## Question 3\n",
    "Overview:\n",
    "1. Fit a linear regression model to life expectancy (\"Y\") from year (\"X\") by filling in the formula. Notice what appears as the output.\n",
    "2. On a new line, use the `unclass` function to uncover the object's true nature: a list. Note: it might be easier to use the `names` function to see what components are included in the list. \n",
    "\n",
    "### Question 3.1\n",
    "First, create a subset of the `gapminder` dataset containing only the country of `France`. Store this subset in `gapminder_France`."
   ]
  },
  {
   "cell_type": "code",
   "execution_count": 215,
   "metadata": {
    "collapsed": true,
    "nbgrader": {
     "grade": false,
     "grade_id": "cell-eac384fd230e3178",
     "locked": false,
     "schema_version": 3,
     "solution": true,
     "task": false
    }
   },
   "outputs": [
    {
     "data": {
      "text/html": [
       "<table>\n",
       "<caption>A tibble: 12 × 6</caption>\n",
       "<thead>\n",
       "\t<tr><th scope=col>country</th><th scope=col>continent</th><th scope=col>year</th><th scope=col>lifeExp</th><th scope=col>pop</th><th scope=col>gdpPercap</th></tr>\n",
       "\t<tr><th scope=col>&lt;fct&gt;</th><th scope=col>&lt;fct&gt;</th><th scope=col>&lt;int&gt;</th><th scope=col>&lt;dbl&gt;</th><th scope=col>&lt;int&gt;</th><th scope=col>&lt;dbl&gt;</th></tr>\n",
       "</thead>\n",
       "<tbody>\n",
       "\t<tr><td>France</td><td>Europe</td><td>1952</td><td>67.410</td><td>42459667</td><td> 7029.809</td></tr>\n",
       "\t<tr><td>France</td><td>Europe</td><td>1957</td><td>68.930</td><td>44310863</td><td> 8662.835</td></tr>\n",
       "\t<tr><td>France</td><td>Europe</td><td>1962</td><td>70.510</td><td>47124000</td><td>10560.486</td></tr>\n",
       "\t<tr><td>France</td><td>Europe</td><td>1967</td><td>71.550</td><td>49569000</td><td>12999.918</td></tr>\n",
       "\t<tr><td>France</td><td>Europe</td><td>1972</td><td>72.380</td><td>51732000</td><td>16107.192</td></tr>\n",
       "\t<tr><td>France</td><td>Europe</td><td>1977</td><td>73.830</td><td>53165019</td><td>18292.635</td></tr>\n",
       "\t<tr><td>France</td><td>Europe</td><td>1982</td><td>74.890</td><td>54433565</td><td>20293.897</td></tr>\n",
       "\t<tr><td>France</td><td>Europe</td><td>1987</td><td>76.340</td><td>55630100</td><td>22066.442</td></tr>\n",
       "\t<tr><td>France</td><td>Europe</td><td>1992</td><td>77.460</td><td>57374179</td><td>24703.796</td></tr>\n",
       "\t<tr><td>France</td><td>Europe</td><td>1997</td><td>78.640</td><td>58623428</td><td>25889.785</td></tr>\n",
       "\t<tr><td>France</td><td>Europe</td><td>2002</td><td>79.590</td><td>59925035</td><td>28926.032</td></tr>\n",
       "\t<tr><td>France</td><td>Europe</td><td>2007</td><td>80.657</td><td>61083916</td><td>30470.017</td></tr>\n",
       "</tbody>\n",
       "</table>\n"
      ],
      "text/latex": [
       "A tibble: 12 × 6\n",
       "\\begin{tabular}{llllll}\n",
       " country & continent & year & lifeExp & pop & gdpPercap\\\\\n",
       " <fct> & <fct> & <int> & <dbl> & <int> & <dbl>\\\\\n",
       "\\hline\n",
       "\t France & Europe & 1952 & 67.410 & 42459667 &  7029.809\\\\\n",
       "\t France & Europe & 1957 & 68.930 & 44310863 &  8662.835\\\\\n",
       "\t France & Europe & 1962 & 70.510 & 47124000 & 10560.486\\\\\n",
       "\t France & Europe & 1967 & 71.550 & 49569000 & 12999.918\\\\\n",
       "\t France & Europe & 1972 & 72.380 & 51732000 & 16107.192\\\\\n",
       "\t France & Europe & 1977 & 73.830 & 53165019 & 18292.635\\\\\n",
       "\t France & Europe & 1982 & 74.890 & 54433565 & 20293.897\\\\\n",
       "\t France & Europe & 1987 & 76.340 & 55630100 & 22066.442\\\\\n",
       "\t France & Europe & 1992 & 77.460 & 57374179 & 24703.796\\\\\n",
       "\t France & Europe & 1997 & 78.640 & 58623428 & 25889.785\\\\\n",
       "\t France & Europe & 2002 & 79.590 & 59925035 & 28926.032\\\\\n",
       "\t France & Europe & 2007 & 80.657 & 61083916 & 30470.017\\\\\n",
       "\\end{tabular}\n"
      ],
      "text/markdown": [
       "\n",
       "A tibble: 12 × 6\n",
       "\n",
       "| country &lt;fct&gt; | continent &lt;fct&gt; | year &lt;int&gt; | lifeExp &lt;dbl&gt; | pop &lt;int&gt; | gdpPercap &lt;dbl&gt; |\n",
       "|---|---|---|---|---|---|\n",
       "| France | Europe | 1952 | 67.410 | 42459667 |  7029.809 |\n",
       "| France | Europe | 1957 | 68.930 | 44310863 |  8662.835 |\n",
       "| France | Europe | 1962 | 70.510 | 47124000 | 10560.486 |\n",
       "| France | Europe | 1967 | 71.550 | 49569000 | 12999.918 |\n",
       "| France | Europe | 1972 | 72.380 | 51732000 | 16107.192 |\n",
       "| France | Europe | 1977 | 73.830 | 53165019 | 18292.635 |\n",
       "| France | Europe | 1982 | 74.890 | 54433565 | 20293.897 |\n",
       "| France | Europe | 1987 | 76.340 | 55630100 | 22066.442 |\n",
       "| France | Europe | 1992 | 77.460 | 57374179 | 24703.796 |\n",
       "| France | Europe | 1997 | 78.640 | 58623428 | 25889.785 |\n",
       "| France | Europe | 2002 | 79.590 | 59925035 | 28926.032 |\n",
       "| France | Europe | 2007 | 80.657 | 61083916 | 30470.017 |\n",
       "\n"
      ],
      "text/plain": [
       "   country continent year lifeExp pop      gdpPercap\n",
       "1  France  Europe    1952 67.410  42459667  7029.809\n",
       "2  France  Europe    1957 68.930  44310863  8662.835\n",
       "3  France  Europe    1962 70.510  47124000 10560.486\n",
       "4  France  Europe    1967 71.550  49569000 12999.918\n",
       "5  France  Europe    1972 72.380  51732000 16107.192\n",
       "6  France  Europe    1977 73.830  53165019 18292.635\n",
       "7  France  Europe    1982 74.890  54433565 20293.897\n",
       "8  France  Europe    1987 76.340  55630100 22066.442\n",
       "9  France  Europe    1992 77.460  57374179 24703.796\n",
       "10 France  Europe    1997 78.640  58623428 25889.785\n",
       "11 France  Europe    2002 79.590  59925035 28926.032\n",
       "12 France  Europe    2007 80.657  61083916 30470.017"
      ]
     },
     "metadata": {},
     "output_type": "display_data"
    }
   ],
   "source": [
    "# YOUR ANSWER HERE\n",
    "### BEGIN SOLUTION\n",
    "(gapminder_France <- gapminder %>%\n",
    "   filter(country == \"France\"))\n",
    "### END SOLTUION"
   ]
  },
  {
   "cell_type": "code",
   "execution_count": 216,
   "metadata": {
    "collapsed": true,
    "nbgrader": {
     "grade": true,
     "grade_id": "cell-5d65551ed7f404dd",
     "locked": true,
     "points": 1,
     "schema_version": 3,
     "solution": false,
     "task": false
    }
   },
   "outputs": [
    {
     "ename": "ERROR",
     "evalue": "Error: Test failed: 'Question 3.1'\n* <text>:1: digest(gapminder_France) not equal to \"4a8b2a786430992911f85af8e58c967a\".\n1/1 mismatches\nx[1]: \"6e94256e35a124704ba9ffd7f24dc29d\"\ny[1]: \"4a8b2a786430992911f85af8e58c967a\"\n",
     "output_type": "error",
     "traceback": [
      "Error: Test failed: 'Question 3.1'\n* <text>:1: digest(gapminder_France) not equal to \"4a8b2a786430992911f85af8e58c967a\".\n1/1 mismatches\nx[1]: \"6e94256e35a124704ba9ffd7f24dc29d\"\ny[1]: \"4a8b2a786430992911f85af8e58c967a\"\nTraceback:\n",
      "1. test_that(\"Question 3.1\", {\n .     expect_equal(digest(gapminder_France), \"4a8b2a786430992911f85af8e58c967a\")\n . })",
      "2. test_code(desc, code, env = parent.frame())",
      "3. get_reporter()$end_test(context = get_reporter()$.context, test = test)",
      "4. stop(message, call. = FALSE)"
     ]
    }
   ],
   "source": [
    "test_that(\"Question 3.1\", {expect_equal(digest(gapminder_France), \"4a8b2a786430992911f85af8e58c967a\")})\n",
    "print(\"Correct!\")"
   ]
  },
  {
   "cell_type": "markdown",
   "metadata": {
    "nbgrader": {
     "grade": false,
     "grade_id": "cell-9d3e1e0a4ba92267",
     "locked": true,
     "schema_version": 3,
     "solution": false,
     "task": false
    }
   },
   "source": [
    "### Question 3.2\n",
    "\n",
    "Now, using the `lm()` function we will create the linear model, stored in `my_lm`:"
   ]
  },
  {
   "cell_type": "code",
   "execution_count": null,
   "metadata": {
    "collapsed": true,
    "nbgrader": {
     "grade": false,
     "grade_id": "cell-bd086872f7c88b6f",
     "locked": false,
     "schema_version": 3,
     "solution": true,
     "task": false
    }
   },
   "outputs": [],
   "source": [
    "# YOUR ANSWER HERE\n",
    "### BEGIN SOLUTION\n",
    "my_lm <- lm(lifeExp ~ year, gapminder_France)\n",
    "### END SOLUTION"
   ]
  },
  {
   "cell_type": "code",
   "execution_count": null,
   "metadata": {
    "collapsed": true,
    "nbgrader": {
     "grade": true,
     "grade_id": "cell-c32548a2940be4dd",
     "locked": true,
     "points": 1,
     "schema_version": 3,
     "solution": false,
     "task": false
    }
   },
   "outputs": [],
   "source": [
    "test_that(\"Question 3.2\", {expect_equal(digest(my_lm), \"2914b07202dbdb1f548570efa79cce46\")})\n",
    "print(\"Correct!\")\n",
    "my_lm"
   ]
  },
  {
   "cell_type": "markdown",
   "metadata": {
    "nbgrader": {
     "grade": false,
     "grade_id": "cell-0d8ce437120f0108",
     "locked": true,
     "schema_version": 3,
     "solution": false,
     "task": false
    }
   },
   "source": [
    "Does that mean that the life expectency at \"year 0\" was equal to -397.7646?!\n",
    "\n",
    "### Question 3.3\n",
    "We are interested in the modeling results around the modeling period which starts at year 1952. To get a meaniningful \"interpretable\" intercept we can use the `I()` function. Store it in `my_lm`."
   ]
  },
  {
   "cell_type": "code",
   "execution_count": null,
   "metadata": {
    "collapsed": true,
    "nbgrader": {
     "grade": false,
     "grade_id": "cell-de478c362e72ff34",
     "locked": false,
     "schema_version": 3,
     "solution": true,
     "task": false
    }
   },
   "outputs": [],
   "source": [
    "# use I() to make intercept so \"beginning\" of our dataset is 1952 corresponding to '0' of the model\n",
    "# this makes it so all the years are relative to our first year of 1952\n",
    "\n",
    "# YOUR ANSWER HERE\n",
    "### BEGIN SOLUTION\n",
    "my_lm <- lm(lifeExp ~ I(year-1952), gapminder_France)\n",
    "### END SOLUTION"
   ]
  },
  {
   "cell_type": "code",
   "execution_count": null,
   "metadata": {
    "collapsed": true,
    "nbgrader": {
     "grade": true,
     "grade_id": "cell-f63ce0b4b32b1c75",
     "locked": true,
     "points": 1,
     "schema_version": 3,
     "solution": false,
     "task": false
    }
   },
   "outputs": [],
   "source": [
    "test_that(\"Question 3.3\", {expect_equal(digest(my_lm), \"16f7951126a4ae7b80ecb94415ebf46a\")})\n",
    "print(\"Correct!\")\n",
    "my_lm"
   ]
  },
  {
   "cell_type": "markdown",
   "metadata": {
    "nbgrader": {
     "grade": false,
     "grade_id": "cell-e7c56c14d223147e",
     "locked": true,
     "schema_version": 3,
     "solution": false,
     "task": false
    }
   },
   "source": [
    "### Question 3.4\n",
    "Use the `unclass()` function to take a look at how the `lm()` object actually looks like. Store it in `unclass_lm`."
   ]
  },
  {
   "cell_type": "code",
   "execution_count": null,
   "metadata": {
    "collapsed": true,
    "nbgrader": {
     "grade": false,
     "grade_id": "cell-314348ceb2597207",
     "locked": false,
     "schema_version": 3,
     "solution": true,
     "task": false
    }
   },
   "outputs": [],
   "source": [
    "# YOUR ANSWER HERE\n",
    "### BEGIN SOLUTION\n",
    "unclass_lm <- unclass(my_lm)\n",
    "### END SOLUTION"
   ]
  },
  {
   "cell_type": "code",
   "execution_count": null,
   "metadata": {
    "collapsed": true,
    "nbgrader": {
     "grade": true,
     "grade_id": "cell-bb41acc822c171ff",
     "locked": true,
     "points": 1,
     "schema_version": 3,
     "solution": false,
     "task": false
    }
   },
   "outputs": [],
   "source": [
    "test_that(\"Question 3.4\", {expect_equal(digest(unclass_lm), \"c0f1de297d09ec45610c78fa934fafe5\")})\n",
    "print(\"Correct!\")"
   ]
  },
  {
   "cell_type": "markdown",
   "metadata": {
    "nbgrader": {
     "grade": false,
     "grade_id": "cell-bbd326a7de5fe167",
     "locked": true,
     "schema_version": 3,
     "solution": false,
     "task": false
    }
   },
   "source": [
    "However, to make things more complicated, some info is stored in _another_ list after applying the `summary` function:"
   ]
  },
  {
   "cell_type": "code",
   "execution_count": null,
   "metadata": {
    "collapsed": true,
    "nbgrader": {
     "grade": false,
     "grade_id": "cell-cf4084c7b56ad9e6",
     "locked": true,
     "schema_version": 3,
     "solution": false,
     "task": false
    }
   },
   "outputs": [],
   "source": [
    "summary(my_lm)"
   ]
  },
  {
   "cell_type": "markdown",
   "metadata": {
    "nbgrader": {
     "grade": false,
     "grade_id": "cell-457e0258ed33c0cf",
     "locked": true,
     "schema_version": 3,
     "solution": false,
     "task": false
    }
   },
   "source": [
    "We can use the `predict()` function to make predictions from the model (default is to use fitting/training data). Here are the predictions:"
   ]
  },
  {
   "cell_type": "code",
   "execution_count": null,
   "metadata": {
    "collapsed": true,
    "nbgrader": {
     "grade": false,
     "grade_id": "cell-b01b91ce5fc5f14e",
     "locked": true,
     "schema_version": 3,
     "solution": false,
     "task": false
    }
   },
   "outputs": [],
   "source": [
    "# use predict() to predict for years that are within our year range but do not have explicit data points\n",
    "(gapminder_France2 <- data.frame(year = seq(2000, 2005)))\n",
    "predict(my_lm, newdata = gapminder_France2) %>%\n",
    "  head()"
   ]
  },
  {
   "cell_type": "markdown",
   "metadata": {
    "nbgrader": {
     "grade": false,
     "grade_id": "cell-49b6ee4da088c9eb",
     "locked": true,
     "schema_version": 3,
     "solution": false,
     "task": false
    }
   },
   "source": [
    "Or we can predict on a new dataset:"
   ]
  },
  {
   "cell_type": "code",
   "execution_count": null,
   "metadata": {
    "collapsed": true,
    "nbgrader": {
     "grade": false,
     "grade_id": "cell-8fc5e1f252c27858",
     "locked": true,
     "schema_version": 3,
     "solution": false,
     "task": false
    }
   },
   "outputs": [],
   "source": [
    "# or use predict() to predict for years that are beyond the range of our dataset\n",
    "# that is, extrapolate data using the model\n",
    "years1 = data.frame(year = c(3000, 3005))\n",
    "predict(my_lm,years1)\n",
    "plot(my_lm)"
   ]
  },
  {
   "cell_type": "markdown",
   "metadata": {
    "nbgrader": {
     "grade": false,
     "grade_id": "cell-ff65545186927eef",
     "locked": true,
     "schema_version": 3,
     "solution": false,
     "task": false
    }
   },
   "source": [
    "We can plot models (with one predictor/ X variable) using `ggplot2` through the `geom_smooth()` layer. Specifying `method=\"lm\"` gives us the linear regression fit (but only visually!):"
   ]
  },
  {
   "cell_type": "code",
   "execution_count": null,
   "metadata": {
    "collapsed": true,
    "nbgrader": {
     "grade": false,
     "grade_id": "cell-31d4f3b8f0d0294a",
     "locked": true,
     "schema_version": 3,
     "solution": false,
     "task": false
    }
   },
   "outputs": [],
   "source": [
    "ggplot(gapminder, aes(gdpPercap, lifeExp)) +\n",
    "    geom_point() +\n",
    "    geom_smooth(method=\"lm\") +\n",
    "    scale_x_log10()"
   ]
  },
  {
   "cell_type": "markdown",
   "metadata": {
    "nbgrader": {
     "grade": false,
     "grade_id": "cell-9e56eb8d0c70513d",
     "locked": true,
     "schema_version": 3,
     "solution": false,
     "task": false
    }
   },
   "source": [
    "Let's consider another country \"Zimbabwe\", which has a unique behavior in the `lifeExp` and `year` relationship."
   ]
  },
  {
   "cell_type": "code",
   "execution_count": null,
   "metadata": {
    "collapsed": true,
    "nbgrader": {
     "grade": false,
     "grade_id": "cell-d470da4a08f75875",
     "locked": true,
     "schema_version": 3,
     "solution": false,
     "task": false
    }
   },
   "outputs": [],
   "source": [
    "gapminder_Zimbabwe <- gapminder %>%\n",
    "  filter(country == \"Zimbabwe\")\n",
    "\n",
    "gapminder_Zimbabwe %>% \n",
    "  ggplot(aes(year, lifeExp)) +\n",
    "  geom_point()"
   ]
  },
  {
   "cell_type": "markdown",
   "metadata": {
    "nbgrader": {
     "grade": false,
     "grade_id": "cell-502ffe31224ed065",
     "locked": true,
     "schema_version": 3,
     "solution": false,
     "task": false
    }
   },
   "source": [
    "Let's try fitting a linear model to this relationship."
   ]
  },
  {
   "cell_type": "code",
   "execution_count": null,
   "metadata": {
    "collapsed": true,
    "nbgrader": {
     "grade": false,
     "grade_id": "cell-1530e2070f35eb95",
     "locked": true,
     "schema_version": 3,
     "solution": false,
     "task": false
    }
   },
   "outputs": [],
   "source": [
    "# se means show confidence interval, since false, will not show\n",
    "ggplot(gapminder_Zimbabwe, aes(year,lifeExp)) +\n",
    "  geom_point() +\n",
    "  geom_smooth(method = \"lm\", se = F)"
   ]
  },
  {
   "cell_type": "markdown",
   "metadata": {
    "nbgrader": {
     "grade": false,
     "grade_id": "cell-bf0299a8c1ed7b30",
     "locked": true,
     "schema_version": 3,
     "solution": false,
     "task": false
    }
   },
   "source": [
    "Now we will try to fit a second degree polynomial and see what would that look like."
   ]
  },
  {
   "cell_type": "code",
   "execution_count": null,
   "metadata": {
    "collapsed": true,
    "nbgrader": {
     "grade": false,
     "grade_id": "cell-5163f44a1242f3d5",
     "locked": true,
     "schema_version": 3,
     "solution": false,
     "task": false
    }
   },
   "outputs": [],
   "source": [
    "# second degree polynomial, using degree = 2, after formula\n",
    "ggplot(gapminder_Zimbabwe, aes(year, lifeExp)) + \n",
    "  geom_point()+\n",
    "  geom_smooth(method = \"lm\", formula = y ~ poly(I(x - 1952), degree = 2))"
   ]
  },
  {
   "cell_type": "markdown",
   "metadata": {
    "nbgrader": {
     "grade": false,
     "grade_id": "cell-4952813e2dd68ae0",
     "locked": true,
     "schema_version": 3,
     "solution": false,
     "task": false
    }
   },
   "source": [
    "## Broom\n",
    "Let's make it easier to extract info, using the `broom` package. There are three crown functions in this package, all of which input a fitted model, and outputs a tidy data frame.\n",
    "\n",
    "1. `tidy`: extract statistical summaries about each component of the model.\n",
    "    - Useful for _interpretation_ task.\n",
    "2. `augment`: add columns to the original data frame, giving information corresponding to each row.\n",
    "    - Useful for _prediction_ task.\n",
    "3. `glance`: extract statistical summaries about the model as a whole (1-row tibble).\n",
    "    - Useful for checking goodness of fit.\n",
    "    \n",
    "## Question 5\n",
    "Overview:\n",
    " - Apply all three functions to our fitted model, `my_lm`\n",
    " \n",
    "### Question 5.1\n",
    "Apply `tidy()` to `my_lm`, and store it into `tidy_lm`."
   ]
  },
  {
   "cell_type": "code",
   "execution_count": 223,
   "metadata": {
    "collapsed": true,
    "nbgrader": {
     "grade": false,
     "grade_id": "cell-ac2a0fd0bdb6d050",
     "locked": false,
     "schema_version": 3,
     "solution": true,
     "task": false
    }
   },
   "outputs": [],
   "source": [
    "# YOUR ANSWER HERE \n",
    "### BEGIN SOLUTION\n",
    "tidy_lm <- tidy(my_lm)\n",
    "### END SOLUTION"
   ]
  },
  {
   "cell_type": "code",
   "execution_count": null,
   "metadata": {
    "nbgrader": {
     "grade": true,
     "grade_id": "cell-bcc656e0f1096684",
     "locked": true,
     "points": 1,
     "schema_version": 3,
     "solution": false,
     "task": false
    }
   },
   "outputs": [],
   "source": [
    "test_that(\"Question 5.1\", {expect_equal(digest(tidy_lm), \"695f3c8995408f0c9d3e531d50b7a319\")})\n",
    "print(\"Correct!\")"
   ]
  },
  {
   "cell_type": "markdown",
   "metadata": {
    "nbgrader": {
     "grade": false,
     "grade_id": "cell-0b192305e446da4d",
     "locked": true,
     "schema_version": 3,
     "solution": false,
     "task": false
    }
   },
   "source": [
    "The `tidy` function result:"
   ]
  },
  {
   "cell_type": "code",
   "execution_count": 224,
   "metadata": {
    "collapsed": true,
    "nbgrader": {
     "grade": false,
     "grade_id": "cell-fed20ceebfc40cae",
     "locked": true,
     "schema_version": 3,
     "solution": false,
     "task": false
    }
   },
   "outputs": [
    {
     "data": {
      "text/html": [
       "<table>\n",
       "<caption>A tibble: 2 × 5</caption>\n",
       "<thead>\n",
       "\t<tr><th scope=col>term</th><th scope=col>estimate</th><th scope=col>std.error</th><th scope=col>statistic</th><th scope=col>p.value</th></tr>\n",
       "\t<tr><th scope=col>&lt;chr&gt;</th><th scope=col>&lt;dbl&gt;</th><th scope=col>&lt;dbl&gt;</th><th scope=col>&lt;dbl&gt;</th><th scope=col>&lt;dbl&gt;</th></tr>\n",
       "</thead>\n",
       "<tbody>\n",
       "\t<tr><td>(Intercept)   </td><td>67.7901282</td><td>0.119490058</td><td>567.32861</td><td>7.123475e-24</td></tr>\n",
       "\t<tr><td>I(year - 1952)</td><td> 0.2385014</td><td>0.003680248</td><td> 64.80579</td><td>1.863068e-14</td></tr>\n",
       "</tbody>\n",
       "</table>\n"
      ],
      "text/latex": [
       "A tibble: 2 × 5\n",
       "\\begin{tabular}{lllll}\n",
       " term & estimate & std.error & statistic & p.value\\\\\n",
       " <chr> & <dbl> & <dbl> & <dbl> & <dbl>\\\\\n",
       "\\hline\n",
       "\t (Intercept)    & 67.7901282 & 0.119490058 & 567.32861 & 7.123475e-24\\\\\n",
       "\t I(year - 1952) &  0.2385014 & 0.003680248 &  64.80579 & 1.863068e-14\\\\\n",
       "\\end{tabular}\n"
      ],
      "text/markdown": [
       "\n",
       "A tibble: 2 × 5\n",
       "\n",
       "| term &lt;chr&gt; | estimate &lt;dbl&gt; | std.error &lt;dbl&gt; | statistic &lt;dbl&gt; | p.value &lt;dbl&gt; |\n",
       "|---|---|---|---|---|\n",
       "| (Intercept)    | 67.7901282 | 0.119490058 | 567.32861 | 7.123475e-24 |\n",
       "| I(year - 1952) |  0.2385014 | 0.003680248 |  64.80579 | 1.863068e-14 |\n",
       "\n"
      ],
      "text/plain": [
       "  term           estimate   std.error   statistic p.value     \n",
       "1 (Intercept)    67.7901282 0.119490058 567.32861 7.123475e-24\n",
       "2 I(year - 1952)  0.2385014 0.003680248  64.80579 1.863068e-14"
      ]
     },
     "metadata": {},
     "output_type": "display_data"
    }
   ],
   "source": [
    "tidy_lm"
   ]
  },
  {
   "cell_type": "markdown",
   "metadata": {
    "nbgrader": {
     "grade": false,
     "grade_id": "cell-9b91f64b029dc78f",
     "locked": true,
     "schema_version": 3,
     "solution": false,
     "task": false
    }
   },
   "source": [
    "### Question 5.2\n",
    "Apply `augment()` to `my_lm`, and store it into `augment_lm`."
   ]
  },
  {
   "cell_type": "code",
   "execution_count": null,
   "metadata": {
    "nbgrader": {
     "grade": false,
     "grade_id": "cell-11acddecce607fde",
     "locked": false,
     "schema_version": 3,
     "solution": true,
     "task": false
    }
   },
   "outputs": [],
   "source": [
    "# YOUR ANSWER HERE \n",
    "### BEGIN SOLUTION\n",
    "augment_lm <- augment(my_lm)\n",
    "### END SOLUTION"
   ]
  },
  {
   "cell_type": "code",
   "execution_count": 236,
   "metadata": {
    "nbgrader": {
     "grade": true,
     "grade_id": "cell-6f28d2ff5f8a394c",
     "locked": true,
     "points": 1,
     "schema_version": 3,
     "solution": false,
     "task": false
    }
   },
   "outputs": [
    {
     "name": "stdout",
     "output_type": "stream",
     "text": [
      "[1] \"Correct!\"\n"
     ]
    }
   ],
   "source": [
    "test_that(\"Question 5.2\", {expect_equal(digest(augment_lm), \"167823fc9e6e78a41259f90135f8ec95\")})\n",
    "print(\"Correct!\")"
   ]
  },
  {
   "cell_type": "markdown",
   "metadata": {
    "nbgrader": {
     "grade": false,
     "grade_id": "cell-dd266e1368f8b0a1",
     "locked": true,
     "schema_version": 3,
     "solution": false,
     "task": false
    }
   },
   "source": [
    "The `augment` function result:"
   ]
  },
  {
   "cell_type": "code",
   "execution_count": 225,
   "metadata": {
    "collapsed": true,
    "nbgrader": {
     "grade": false,
     "grade_id": "cell-9386ea727b58d974",
     "locked": true,
     "schema_version": 3,
     "solution": false,
     "task": false
    }
   },
   "outputs": [
    {
     "data": {
      "text/html": [
       "<table>\n",
       "<caption>A tibble: 12 × 7</caption>\n",
       "<thead>\n",
       "\t<tr><th scope=col>lifeExp</th><th scope=col>I(year - 1952)</th><th scope=col>.fitted</th><th scope=col>.std.resid</th><th scope=col>.hat</th><th scope=col>.sigma</th><th scope=col>.cooksd</th></tr>\n",
       "\t<tr><th scope=col>&lt;dbl&gt;</th><th scope=col>&lt;I&lt;dbl&gt;&gt;</th><th scope=col>&lt;dbl&gt;</th><th scope=col>&lt;dbl&gt;</th><th scope=col>&lt;dbl&gt;</th><th scope=col>&lt;dbl&gt;</th><th scope=col>&lt;dbl&gt;</th></tr>\n",
       "</thead>\n",
       "<tbody>\n",
       "\t<tr><td>67.410</td><td> 0</td><td>67.79013</td><td>-2.0572208</td><td>0.29487179</td><td>0.1761573</td><td>0.884905601</td></tr>\n",
       "\t<tr><td>68.930</td><td> 5</td><td>68.98264</td><td>-0.2717027</td><td>0.22494172</td><td>0.2310920</td><td>0.010712566</td></tr>\n",
       "\t<tr><td>70.510</td><td>10</td><td>70.17514</td><td> 1.6693375</td><td>0.16899767</td><td>0.1969978</td><td>0.283358854</td></tr>\n",
       "\t<tr><td>71.550</td><td>15</td><td>71.36765</td><td> 0.8869421</td><td>0.12703963</td><td>0.2226395</td><td>0.057240744</td></tr>\n",
       "\t<tr><td>72.380</td><td>20</td><td>72.56016</td><td>-0.8625572</td><td>0.09906760</td><td>0.2231544</td><td>0.040905832</td></tr>\n",
       "\t<tr><td>73.830</td><td>25</td><td>73.75266</td><td> 0.3674346</td><td>0.08508159</td><td>0.2303787</td><td>0.006277450</td></tr>\n",
       "\t<tr><td>74.890</td><td>30</td><td>74.94517</td><td>-0.2621187</td><td>0.08508159</td><td>0.2311516</td><td>0.003194619</td></tr>\n",
       "\t<tr><td>76.340</td><td>35</td><td>76.13768</td><td> 0.9686874</td><td>0.09906760</td><td>0.2207992</td><td>0.051591334</td></tr>\n",
       "\t<tr><td>77.460</td><td>40</td><td>77.33018</td><td> 0.6314156</td><td>0.12703963</td><td>0.2272790</td><td>0.029009837</td></tr>\n",
       "\t<tr><td>78.640</td><td>45</td><td>78.52269</td><td> 0.5848096</td><td>0.16899767</td><td>0.2279489</td><td>0.034775833</td></tr>\n",
       "\t<tr><td>79.590</td><td>50</td><td>79.71520</td><td>-0.6462723</td><td>0.22494172</td><td>0.2270542</td><td>0.060608945</td></tr>\n",
       "\t<tr><td>80.657</td><td>55</td><td>80.90771</td><td>-1.3567943</td><td>0.29487179</td><td>0.2095151</td><td>0.384913541</td></tr>\n",
       "</tbody>\n",
       "</table>\n"
      ],
      "text/latex": [
       "A tibble: 12 × 7\n",
       "\\begin{tabular}{lllllll}\n",
       " lifeExp & I(year - 1952) & .fitted & .std.resid & .hat & .sigma & .cooksd\\\\\n",
       " <dbl> & <I<dbl>> & <dbl> & <dbl> & <dbl> & <dbl> & <dbl>\\\\\n",
       "\\hline\n",
       "\t 67.410 &  0 & 67.79013 & -2.0572208 & 0.29487179 & 0.1761573 & 0.884905601\\\\\n",
       "\t 68.930 &  5 & 68.98264 & -0.2717027 & 0.22494172 & 0.2310920 & 0.010712566\\\\\n",
       "\t 70.510 & 10 & 70.17514 &  1.6693375 & 0.16899767 & 0.1969978 & 0.283358854\\\\\n",
       "\t 71.550 & 15 & 71.36765 &  0.8869421 & 0.12703963 & 0.2226395 & 0.057240744\\\\\n",
       "\t 72.380 & 20 & 72.56016 & -0.8625572 & 0.09906760 & 0.2231544 & 0.040905832\\\\\n",
       "\t 73.830 & 25 & 73.75266 &  0.3674346 & 0.08508159 & 0.2303787 & 0.006277450\\\\\n",
       "\t 74.890 & 30 & 74.94517 & -0.2621187 & 0.08508159 & 0.2311516 & 0.003194619\\\\\n",
       "\t 76.340 & 35 & 76.13768 &  0.9686874 & 0.09906760 & 0.2207992 & 0.051591334\\\\\n",
       "\t 77.460 & 40 & 77.33018 &  0.6314156 & 0.12703963 & 0.2272790 & 0.029009837\\\\\n",
       "\t 78.640 & 45 & 78.52269 &  0.5848096 & 0.16899767 & 0.2279489 & 0.034775833\\\\\n",
       "\t 79.590 & 50 & 79.71520 & -0.6462723 & 0.22494172 & 0.2270542 & 0.060608945\\\\\n",
       "\t 80.657 & 55 & 80.90771 & -1.3567943 & 0.29487179 & 0.2095151 & 0.384913541\\\\\n",
       "\\end{tabular}\n"
      ],
      "text/markdown": [
       "\n",
       "A tibble: 12 × 7\n",
       "\n",
       "| lifeExp &lt;dbl&gt; | I(year - 1952) &lt;I&lt;dbl&gt;&gt; | .fitted &lt;dbl&gt; | .std.resid &lt;dbl&gt; | .hat &lt;dbl&gt; | .sigma &lt;dbl&gt; | .cooksd &lt;dbl&gt; |\n",
       "|---|---|---|---|---|---|---|\n",
       "| 67.410 |  0 | 67.79013 | -2.0572208 | 0.29487179 | 0.1761573 | 0.884905601 |\n",
       "| 68.930 |  5 | 68.98264 | -0.2717027 | 0.22494172 | 0.2310920 | 0.010712566 |\n",
       "| 70.510 | 10 | 70.17514 |  1.6693375 | 0.16899767 | 0.1969978 | 0.283358854 |\n",
       "| 71.550 | 15 | 71.36765 |  0.8869421 | 0.12703963 | 0.2226395 | 0.057240744 |\n",
       "| 72.380 | 20 | 72.56016 | -0.8625572 | 0.09906760 | 0.2231544 | 0.040905832 |\n",
       "| 73.830 | 25 | 73.75266 |  0.3674346 | 0.08508159 | 0.2303787 | 0.006277450 |\n",
       "| 74.890 | 30 | 74.94517 | -0.2621187 | 0.08508159 | 0.2311516 | 0.003194619 |\n",
       "| 76.340 | 35 | 76.13768 |  0.9686874 | 0.09906760 | 0.2207992 | 0.051591334 |\n",
       "| 77.460 | 40 | 77.33018 |  0.6314156 | 0.12703963 | 0.2272790 | 0.029009837 |\n",
       "| 78.640 | 45 | 78.52269 |  0.5848096 | 0.16899767 | 0.2279489 | 0.034775833 |\n",
       "| 79.590 | 50 | 79.71520 | -0.6462723 | 0.22494172 | 0.2270542 | 0.060608945 |\n",
       "| 80.657 | 55 | 80.90771 | -1.3567943 | 0.29487179 | 0.2095151 | 0.384913541 |\n",
       "\n"
      ],
      "text/plain": [
       "   lifeExp I(year - 1952) .fitted  .std.resid .hat       .sigma    .cooksd    \n",
       "1  67.410   0             67.79013 -2.0572208 0.29487179 0.1761573 0.884905601\n",
       "2  68.930   5             68.98264 -0.2717027 0.22494172 0.2310920 0.010712566\n",
       "3  70.510  10             70.17514  1.6693375 0.16899767 0.1969978 0.283358854\n",
       "4  71.550  15             71.36765  0.8869421 0.12703963 0.2226395 0.057240744\n",
       "5  72.380  20             72.56016 -0.8625572 0.09906760 0.2231544 0.040905832\n",
       "6  73.830  25             73.75266  0.3674346 0.08508159 0.2303787 0.006277450\n",
       "7  74.890  30             74.94517 -0.2621187 0.08508159 0.2311516 0.003194619\n",
       "8  76.340  35             76.13768  0.9686874 0.09906760 0.2207992 0.051591334\n",
       "9  77.460  40             77.33018  0.6314156 0.12703963 0.2272790 0.029009837\n",
       "10 78.640  45             78.52269  0.5848096 0.16899767 0.2279489 0.034775833\n",
       "11 79.590  50             79.71520 -0.6462723 0.22494172 0.2270542 0.060608945\n",
       "12 80.657  55             80.90771 -1.3567943 0.29487179 0.2095151 0.384913541"
      ]
     },
     "metadata": {},
     "output_type": "display_data"
    }
   ],
   "source": [
    "augment_lm"
   ]
  },
  {
   "cell_type": "markdown",
   "metadata": {
    "nbgrader": {
     "grade": false,
     "grade_id": "cell-10c482e46bfb6925",
     "locked": true,
     "schema_version": 3,
     "solution": false,
     "task": false
    }
   },
   "source": [
    "### Question 5.3\n",
    "Apply `glance()` to `my_lm`, and store it into `glance_lm`."
   ]
  },
  {
   "cell_type": "code",
   "execution_count": 239,
   "metadata": {
    "nbgrader": {
     "grade": false,
     "grade_id": "cell-6fc7f2ff75650015",
     "locked": false,
     "schema_version": 3,
     "solution": true,
     "task": false
    }
   },
   "outputs": [],
   "source": [
    "# YOUR ANSWER HERE \n",
    "### BEGIN SOLUTION\n",
    "glance_lm <- glance(my_lm)\n",
    "### END SOLUTION"
   ]
  },
  {
   "cell_type": "code",
   "execution_count": 240,
   "metadata": {
    "nbgrader": {
     "grade": true,
     "grade_id": "cell-0c6c4d5f47779e91",
     "locked": true,
     "points": 1,
     "schema_version": 3,
     "solution": false,
     "task": false
    }
   },
   "outputs": [
    {
     "name": "stdout",
     "output_type": "stream",
     "text": [
      "[1] \"Correct!\"\n"
     ]
    }
   ],
   "source": [
    "test_that(\"Question 5.3\", {expect_equal(digest(glance_lm), \"469b403286dfd430923238913fa6041f\")})\n",
    "print(\"Correct!\")"
   ]
  },
  {
   "cell_type": "markdown",
   "metadata": {
    "nbgrader": {
     "grade": false,
     "grade_id": "cell-51022d5271c50245",
     "locked": true,
     "schema_version": 3,
     "solution": false,
     "task": false
    }
   },
   "source": [
    "The `glance` function result:"
   ]
  },
  {
   "cell_type": "code",
   "execution_count": 226,
   "metadata": {
    "collapsed": true,
    "nbgrader": {
     "grade": false,
     "grade_id": "cell-f3b2def8b1bbd7ab",
     "locked": true,
     "schema_version": 3,
     "solution": false,
     "task": false
    }
   },
   "outputs": [
    {
     "data": {
      "text/html": [
       "<table>\n",
       "<caption>A tibble: 1 × 12</caption>\n",
       "<thead>\n",
       "\t<tr><th scope=col>r.squared</th><th scope=col>adj.r.squared</th><th scope=col>sigma</th><th scope=col>statistic</th><th scope=col>p.value</th><th scope=col>df</th><th scope=col>logLik</th><th scope=col>AIC</th><th scope=col>BIC</th><th scope=col>deviance</th><th scope=col>df.residual</th><th scope=col>nobs</th></tr>\n",
       "\t<tr><th scope=col>&lt;dbl&gt;</th><th scope=col>&lt;dbl&gt;</th><th scope=col>&lt;dbl&gt;</th><th scope=col>&lt;dbl&gt;</th><th scope=col>&lt;dbl&gt;</th><th scope=col>&lt;dbl&gt;</th><th scope=col>&lt;dbl&gt;</th><th scope=col>&lt;dbl&gt;</th><th scope=col>&lt;dbl&gt;</th><th scope=col>&lt;dbl&gt;</th><th scope=col>&lt;int&gt;</th><th scope=col>&lt;int&gt;</th></tr>\n",
       "</thead>\n",
       "<tbody>\n",
       "\t<tr><td>0.9976246</td><td>0.997387</td><td>0.2200468</td><td>4199.79</td><td>1.863068e-14</td><td>1</td><td>2.233645</td><td>1.532711</td><td>2.987431</td><td>0.4842062</td><td>10</td><td>12</td></tr>\n",
       "</tbody>\n",
       "</table>\n"
      ],
      "text/latex": [
       "A tibble: 1 × 12\n",
       "\\begin{tabular}{llllllllllll}\n",
       " r.squared & adj.r.squared & sigma & statistic & p.value & df & logLik & AIC & BIC & deviance & df.residual & nobs\\\\\n",
       " <dbl> & <dbl> & <dbl> & <dbl> & <dbl> & <dbl> & <dbl> & <dbl> & <dbl> & <dbl> & <int> & <int>\\\\\n",
       "\\hline\n",
       "\t 0.9976246 & 0.997387 & 0.2200468 & 4199.79 & 1.863068e-14 & 1 & 2.233645 & 1.532711 & 2.987431 & 0.4842062 & 10 & 12\\\\\n",
       "\\end{tabular}\n"
      ],
      "text/markdown": [
       "\n",
       "A tibble: 1 × 12\n",
       "\n",
       "| r.squared &lt;dbl&gt; | adj.r.squared &lt;dbl&gt; | sigma &lt;dbl&gt; | statistic &lt;dbl&gt; | p.value &lt;dbl&gt; | df &lt;dbl&gt; | logLik &lt;dbl&gt; | AIC &lt;dbl&gt; | BIC &lt;dbl&gt; | deviance &lt;dbl&gt; | df.residual &lt;int&gt; | nobs &lt;int&gt; |\n",
       "|---|---|---|---|---|---|---|---|---|---|---|---|\n",
       "| 0.9976246 | 0.997387 | 0.2200468 | 4199.79 | 1.863068e-14 | 1 | 2.233645 | 1.532711 | 2.987431 | 0.4842062 | 10 | 12 |\n",
       "\n"
      ],
      "text/plain": [
       "  r.squared adj.r.squared sigma     statistic p.value      df logLik   AIC     \n",
       "1 0.9976246 0.997387      0.2200468 4199.79   1.863068e-14 1  2.233645 1.532711\n",
       "  BIC      deviance  df.residual nobs\n",
       "1 2.987431 0.4842062 10          12  "
      ]
     },
     "metadata": {},
     "output_type": "display_data"
    }
   ],
   "source": [
    "glance_lm"
   ]
  }
 ],
 "metadata": {
  "celltoolbar": "Create Assignment",
  "kernelspec": {
   "display_name": "R",
   "language": "R",
   "name": "ir"
  },
  "language_info": {
   "codemirror_mode": "r",
   "file_extension": ".r",
   "mimetype": "text/x-r-source",
   "name": "R",
   "pygments_lexer": "r",
   "version": "4.0.2"
  }
 },
 "nbformat": 4,
 "nbformat_minor": 4
}
