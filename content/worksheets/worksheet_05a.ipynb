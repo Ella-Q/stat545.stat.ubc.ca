{
 "cells": [
  {
   "cell_type": "markdown",
   "metadata": {
    "deletable": false,
    "editable": false,
    "lines_to_next_cell": 0,
    "nbgrader": {
     "cell_type": "markdown",
     "checksum": "4343ac3ec0cf52228930e31944a035d1",
     "grade": false,
     "grade_id": "cell-a52fdbcf333bb582",
     "locked": true,
     "schema_version": 3,
     "solution": false,
     "task": false
    }
   },
   "source": [
    "# Worksheet 05a: Working With Factors & Tibble Joins\n",
    "_**Leader**: Almas Khan **Reviewer:** Diana Lin **ASDA Assist**: David Kepplinger_\n",
    "\n",
    "**Version 1.1** - Delivered Wednesday, Octobebr 14, 2020\n",
    "\n",
    "Fixes:\n",
    "- _Question 2.5_: change **decreasing** to **increasing**; add a hint\n",
    "\n",
    "This is the corresponding worksheet for Class 10 (Oct 13, 2020) & Class 11 (Oct 15, 2020).\n",
    "\n",
    "For marking purposes, we will need the packages below.\n",
    "Remember to pay attention to the variable name to store your answer in, or else it will not be autograded correctly.\n",
    "To ensure everything works properly, remember to run all code cells, not just the ones with your answer."
   ]
  },
  {
   "cell_type": "markdown",
   "metadata": {
    "deletable": false,
    "editable": false,
    "lines_to_next_cell": 0,
    "nbgrader": {
     "cell_type": "markdown",
     "checksum": "caefbd9f624e2fd219f5c286549cbd3d",
     "grade": false,
     "grade_id": "cell-c67ecef016e98418",
     "locked": true,
     "schema_version": 3,
     "solution": false,
     "task": false
    }
   },
   "source": [
    "If you want to use packages which are not yet installed, you can use the code cell below to install them."
   ]
  },
  {
   "cell_type": "code",
   "execution_count": null,
   "metadata": {},
   "outputs": [],
   "source": [
    "# Install additional packages, e.g.\n",
    "# install.packages(\"forcats\")\n",
    "# install.packages('tsibble')"
   ]
  },
  {
   "cell_type": "markdown",
   "metadata": {
    "deletable": false,
    "editable": false,
    "lines_to_next_cell": 0,
    "nbgrader": {
     "cell_type": "markdown",
     "checksum": "b6a7f1bab95d5bb86f82550c3568ba6d",
     "grade": false,
     "grade_id": "cell-3bb1633637c2d81e",
     "locked": true,
     "schema_version": 3,
     "solution": false,
     "task": false
    }
   },
   "source": [
    "Use the following code cell to load any additional packages you want to use for this worksheet."
   ]
  },
  {
   "cell_type": "code",
   "execution_count": null,
   "metadata": {},
   "outputs": [],
   "source": [
    "# Load packages, e.g.\n",
    "# library(devtools)\n",
    "# library(tsibble)"
   ]
  },
  {
   "cell_type": "markdown",
   "metadata": {
    "deletable": false,
    "editable": false,
    "nbgrader": {
     "cell_type": "markdown",
     "checksum": "4bd32a1bd38064a5ffb75a75aefa528f",
     "grade": false,
     "grade_id": "cell-4950c9707fd0acb4",
     "locked": true,
     "schema_version": 3,
     "solution": false,
     "task": false
    }
   },
   "source": [
    "Run the code cell below to load the packages."
   ]
  },
  {
   "cell_type": "code",
   "execution_count": null,
   "metadata": {
    "deletable": false,
    "editable": false,
    "nbgrader": {
     "cell_type": "code",
     "checksum": "5ed4811af0b3a269b30ef97fdc7f8216",
     "grade": false,
     "grade_id": "cell-c48a21406e8bb917",
     "locked": true,
     "schema_version": 3,
     "solution": false,
     "task": false
    }
   },
   "outputs": [],
   "source": [
    "library(testthat)\n",
    "library(digest)"
   ]
  },
  {
   "cell_type": "markdown",
   "metadata": {
    "deletable": false,
    "editable": false,
    "nbgrader": {
     "cell_type": "markdown",
     "checksum": "c8d53302d585c9722fe4cb1b826cc1d3",
     "grade": false,
     "grade_id": "cell-ff4d90bac29bce18",
     "locked": true,
     "schema_version": 3,
     "solution": false,
     "task": false
    }
   },
   "source": [
    "## TOPIC 1: Working With Factors in R\n",
    "\n",
    "For the best experience working with factors in R, we will use the forcats package."
   ]
  },
  {
   "cell_type": "code",
   "execution_count": null,
   "metadata": {
    "deletable": false,
    "editable": false,
    "nbgrader": {
     "cell_type": "code",
     "checksum": "c51f7c0a51b2545400b76a94cf3df311",
     "grade": false,
     "grade_id": "cell-dce109e65bc28a9d",
     "locked": true,
     "schema_version": 3,
     "solution": false,
     "task": false
    }
   },
   "outputs": [],
   "source": [
    "suppressPackageStartupMessages(library(tidyverse))\n",
    "suppressPackageStartupMessages(library(forcats))\n",
    "suppressPackageStartupMessages(library(gapminder))"
   ]
  },
  {
   "cell_type": "markdown",
   "metadata": {
    "deletable": false,
    "editable": false,
    "nbgrader": {
     "cell_type": "markdown",
     "checksum": "5becee4951640ad8b7d6bf89418ca177",
     "grade": false,
     "grade_id": "cell-7bedc574cb2e95de",
     "locked": true,
     "schema_version": 3,
     "solution": false,
     "task": false
    }
   },
   "source": [
    "### Question 1: Creating Factors\n",
    "\n",
    "Let's look again into `gapminder` dataset and create a new column, `life_level`, that contains five categories (\"very high\", \"high\",\"moderate\", \"low\" and \"very low\") based on life expectancy in 1997.\n",
    "Assign categories according to the table below:"
   ]
  },
  {
   "cell_type": "markdown",
   "metadata": {
    "deletable": false,
    "editable": false,
    "nbgrader": {
     "cell_type": "markdown",
     "checksum": "9401f30909ee288cea6fa5f296272b0f",
     "grade": false,
     "grade_id": "cell-92d93e5de5944b49",
     "locked": true,
     "schema_version": 3,
     "solution": false,
     "task": false
    }
   },
   "source": [
    "| Criteria          |`life_level`   | \n",
    "|-------------------|-------------|\n",
    "| less than 23      | very low    |\n",
    "| between 23 and 48 | low         |\n",
    "| between 48 and 59 | moderate    |\n",
    "| between 59 and 70 | high        |\n",
    "| more than 70      | very high   |\n",
    "\n",
    "#### Question 1.1\n",
    "\n",
    "Create a new data set for the year 1997 by first filtering by the year and the adding a new column `life_level` according to the table above.\n",
    "\n",
    "Store this new data frame in variable `gapminder_1997`.\n",
    "\n",
    "**Hint**: We are using `case_when()`, a tidier way to vectorise multiple `if_else()` statements.\n",
    "You can read more about this function [in the tidyverse reference](https://dplyr.tidyverse.org/reference/case_when.html).\n",
    "\n",
    "```\n",
    "(gapminder_1997 <- gapminder %>% \n",
    "   FILL_THIS_IN(year == FILL_THIS_IN) %>% \n",
    "   FILL_THIS_IN(life_level = case_when(FILL_THIS_IN < FILL_THIS_IN ~ \"very low\",\n",
    "                                 FILL_THIS_IN < FILL_THIS_IN ~ \"low\",\n",
    "                                 FILL_THIS_IN < FILL_THIS_IN ~ \"moderate\",\n",
    "                                 FILL_THIS_IN < FILL_THIS_IN ~ \"high\",\n",
    "                                 TRUE ~ \"very high\")))\n",
    "```"
   ]
  },
  {
   "cell_type": "code",
   "execution_count": null,
   "metadata": {
    "deletable": false,
    "lines_to_next_cell": 0,
    "nbgrader": {
     "cell_type": "code",
     "checksum": "5745abbebd52c72e7f8187ecaa89b317",
     "grade": false,
     "grade_id": "cell-dc036d146cef2025",
     "locked": false,
     "schema_version": 3,
     "solution": true,
     "task": false
    }
   },
   "outputs": [],
   "source": [
    "# your code here\n",
    "fail() # No Answer - remove if you provide an answer"
   ]
  },
  {
   "cell_type": "code",
   "execution_count": null,
   "metadata": {
    "deletable": false,
    "editable": false,
    "nbgrader": {
     "cell_type": "code",
     "checksum": "2a1ed091cada9abdd5955c866a9ba32d",
     "grade": true,
     "grade_id": "cell-f8b2ff75e5097542",
     "locked": true,
     "points": 1,
     "schema_version": 3,
     "solution": false,
     "task": false
    }
   },
   "outputs": [],
   "source": [
    "test_that(\"Question 1.1\", expect_known_hash(table(gapminder_1997$life_level), \"3d2e691667d4706e66ce5784bb1d7042\"))\n",
    "print(\"Success!\")"
   ]
  },
  {
   "cell_type": "markdown",
   "metadata": {
    "deletable": false,
    "editable": false,
    "nbgrader": {
     "cell_type": "markdown",
     "checksum": "af7c9397b711bdf93ccabe33eb3c1495",
     "grade": false,
     "grade_id": "cell-5c2f86da93e2a963",
     "locked": true,
     "schema_version": 3,
     "solution": false,
     "task": false
    }
   },
   "source": [
    "We can now plot boxplots for the GDP per capita per level of life expectancy.\n",
    "Run the following code to see the boxplots."
   ]
  },
  {
   "cell_type": "code",
   "execution_count": null,
   "metadata": {
    "deletable": false,
    "editable": false,
    "nbgrader": {
     "cell_type": "code",
     "checksum": "abfdd14fd9d9daeeedc15d0bde698f4b",
     "grade": false,
     "grade_id": "cell-bb53dd9bcb9f2f82",
     "locked": true,
     "schema_version": 3,
     "solution": false,
     "task": false
    }
   },
   "outputs": [],
   "source": [
    "ggplot(gapminder_1997) + geom_boxplot(aes(x = life_level, y = gdpPercap)) +\n",
    "  labs(y = \"GDP per capita ($)\", x= \"Life expectancy level (years)\") +\n",
    "  ggtitle(\"GDP per capita per Level of Life Expectancy\") +\n",
    "  theme_bw() "
   ]
  },
  {
   "cell_type": "markdown",
   "metadata": {
    "deletable": false,
    "editable": false,
    "nbgrader": {
     "cell_type": "markdown",
     "checksum": "be5275e6baada4ef1e93aa60130756b9",
     "grade": false,
     "grade_id": "cell-95e05c5acbdd7a28",
     "locked": true,
     "schema_version": 3,
     "solution": false,
     "task": false
    }
   },
   "source": [
    "We notice a few oddities here:\n",
    "\n",
    "- It seems that none of the countries had a \"very low\" life-expectancy in 1997. \n",
    "- However, since it was an option in our analysis it should be included in our plot. Right?\n",
    "- Notice also how levels on x-axis are placed in the \"wrong\" order. (in alphabetical order)\n",
    "\n",
    "#### Question 1.2\n",
    "\n",
    "You can correct these issues by explicitly making `life_level` a factor and setting the levels parameter.\n",
    "Create a new data frame as in Question 1.1, but make the column `life_level` a factor with levels ordered from *very low* to *very high*.\n",
    "Store this new data frame in variable `gapminder_1997_fct`.\n",
    "\n",
    "```\n",
    "(gapminder_1997_fct <- gapminder %>% \n",
    "   FILL_THIS_IN(year == 1997) %>% \n",
    "   FILL_THIS_IN(life_level = FILL_THIS_IN(case_when(FILL_THIS_IN < FILL_THIS_IN ~ \"very low\",\n",
    "                                        FILL_THIS_IN < FILL_THIS_IN ~ \"low\",\n",
    "                                        FILL_THIS_IN < FILL_THIS_IN ~ \"moderate\",\n",
    "                                        FILL_THIS_IN < FILL_THIS_IN ~ \"high\",\n",
    "                                        TRUE ~ \"very high\"),\n",
    "                              levels = c('FILL_THIS_IN', 'FILL_THIS_IN', 'FILL_THIS_IN', 'FILL_THIS_IN', 'FILL_THIS_IN'))))\n",
    "```"
   ]
  },
  {
   "cell_type": "code",
   "execution_count": null,
   "metadata": {
    "deletable": false,
    "lines_to_next_cell": 0,
    "nbgrader": {
     "cell_type": "code",
     "checksum": "ef92716bb6c3bf250e28b9f0209c4df2",
     "grade": false,
     "grade_id": "cell-0f65d0f778ec6287",
     "locked": false,
     "schema_version": 3,
     "solution": true,
     "task": false
    }
   },
   "outputs": [],
   "source": [
    "# your code here\n",
    "fail() # No Answer - remove if you provide an answer"
   ]
  },
  {
   "cell_type": "code",
   "execution_count": null,
   "metadata": {
    "deletable": false,
    "editable": false,
    "nbgrader": {
     "cell_type": "code",
     "checksum": "58e896a94b23f0031ff68d3797ea3376",
     "grade": true,
     "grade_id": "cell-8448390b94500381",
     "locked": true,
     "points": 1,
     "schema_version": 3,
     "solution": false,
     "task": false
    }
   },
   "outputs": [],
   "source": [
    "test_that(\"Question 1.2\", expect_known_hash(table(gapminder_1997_fct$life_level), \"8e62f09fbd0756d7e69d1bc95715d333\"))\n",
    "print(\"Success!\")"
   ]
  },
  {
   "cell_type": "markdown",
   "metadata": {
    "deletable": false,
    "editable": false,
    "nbgrader": {
     "cell_type": "markdown",
     "checksum": "79159e2f1e076a32d34245013baeb8c8",
     "grade": false,
     "grade_id": "cell-ab66c1758a1353d7",
     "locked": true,
     "schema_version": 3,
     "solution": false,
     "task": false
    }
   },
   "source": [
    "Run the following code to see the boxplots from the new data frame with life expectancy level as factor."
   ]
  },
  {
   "cell_type": "code",
   "execution_count": null,
   "metadata": {
    "deletable": false,
    "editable": false,
    "lines_to_next_cell": 2,
    "nbgrader": {
     "cell_type": "code",
     "checksum": "49428ed049346010159818eab9a71a9d",
     "grade": false,
     "grade_id": "cell-a660106ec5a2bf52",
     "locked": true,
     "schema_version": 3,
     "solution": false,
     "task": false
    }
   },
   "outputs": [],
   "source": [
    "ggplot(gapminder_1997_fct) + geom_boxplot(aes(x = life_level, y = gdpPercap)) +\n",
    "  labs(y = \"GDP per capita ($)\", x= \"Life expectancy level (years)\") +\n",
    "  scale_x_discrete(drop = FALSE) + # Don't drop the very low factor\n",
    "  ggtitle(\"GDP per capita per level of Life Expectancy\") +\n",
    "  theme_bw() "
   ]
  },
  {
   "cell_type": "markdown",
   "metadata": {
    "deletable": false,
    "editable": false,
    "nbgrader": {
     "cell_type": "markdown",
     "checksum": "48beba5ff36af2b9f488f886cc719647",
     "grade": false,
     "grade_id": "cell-d2c47ea01eefe9d8",
     "locked": true,
     "schema_version": 3,
     "solution": false,
     "task": false
    }
   },
   "source": [
    "### Question 2: Inspecting Factors\n",
    "\n",
    "In Question 1, you created our own factors, so now let's explore what categorical variables are in the `gapminder` dataset.\n",
    "\n",
    "#### Question 2.1\n",
    "\n",
    "What levels does the column `continent` have?\n",
    "Assign the levels to variable `continent_levels`.\n",
    "\n",
    "```\n",
    "(continent_levels <- FILL_THIS_IN(gapminder$FILL_THIS_IN))\n",
    "```"
   ]
  },
  {
   "cell_type": "code",
   "execution_count": null,
   "metadata": {
    "deletable": false,
    "lines_to_next_cell": 0,
    "nbgrader": {
     "cell_type": "code",
     "checksum": "7be5618c3256dd82efd204024798f8cb",
     "grade": false,
     "grade_id": "cell-537277f01997b17c",
     "locked": false,
     "schema_version": 3,
     "solution": true,
     "task": false
    }
   },
   "outputs": [],
   "source": [
    "# your code here\n",
    "fail() # No Answer - remove if you provide an answer"
   ]
  },
  {
   "cell_type": "code",
   "execution_count": null,
   "metadata": {
    "deletable": false,
    "editable": false,
    "nbgrader": {
     "cell_type": "code",
     "checksum": "39710dae00ba2b3046ffdc029ed8a589",
     "grade": true,
     "grade_id": "cell-5aacbda4d51ef339",
     "locked": true,
     "points": 1,
     "schema_version": 3,
     "solution": false,
     "task": false
    }
   },
   "outputs": [],
   "source": [
    "test_that(\"Question 2.1\", expect_known_hash(continent_levels, \"6926255b7f073fb8e7d89773802102a6\"))\n",
    "print(\"Success!\")"
   ]
  },
  {
   "cell_type": "markdown",
   "metadata": {
    "deletable": false,
    "editable": false,
    "nbgrader": {
     "cell_type": "markdown",
     "checksum": "52acc96a11d61046225e144de3318c37",
     "grade": false,
     "grade_id": "cell-49df2e07dc37ef51",
     "locked": true,
     "schema_version": 3,
     "solution": false,
     "task": false
    }
   },
   "source": [
    "#### Question 2.2\n",
    "\n",
    "How many levels does the column `country` have?\n",
    "Assign the number of levels to variable `gap_nr_countries`.\n",
    "\n",
    "```\n",
    "(gap_nr_countries <- FILL_THIS_IN(gapminder$FILL_THIS_IN))\n",
    "```"
   ]
  },
  {
   "cell_type": "code",
   "execution_count": null,
   "metadata": {
    "deletable": false,
    "lines_to_next_cell": 0,
    "nbgrader": {
     "cell_type": "code",
     "checksum": "ad6a8549874c86a85b1e4d341e4cecbe",
     "grade": false,
     "grade_id": "cell-b79dc64b081f578c",
     "locked": false,
     "schema_version": 3,
     "solution": true,
     "task": false
    }
   },
   "outputs": [],
   "source": [
    "# your code here\n",
    "fail() # No Answer - remove if you provide an answer"
   ]
  },
  {
   "cell_type": "code",
   "execution_count": null,
   "metadata": {
    "deletable": false,
    "editable": false,
    "nbgrader": {
     "cell_type": "code",
     "checksum": "eba54a314a172e8b4f77cdd71082f6ee",
     "grade": true,
     "grade_id": "cell-e34eff454c51eedd",
     "locked": true,
     "points": 1,
     "schema_version": 3,
     "solution": false,
     "task": false
    }
   },
   "outputs": [],
   "source": [
    "test_that(\"Question 2.2\", expect_known_hash(as.integer(gap_nr_countries), \"3b6d002135d8d45a3c5f4a9fb857c323\"))\n",
    "print(\"Success!\")"
   ]
  },
  {
   "cell_type": "markdown",
   "metadata": {
    "deletable": false,
    "editable": false,
    "nbgrader": {
     "cell_type": "markdown",
     "checksum": "ba1cbdb928d68127531bfd95a1c7da1a",
     "grade": false,
     "grade_id": "cell-6fe136fd3a220c57",
     "locked": true,
     "schema_version": 3,
     "solution": false,
     "task": false
    }
   },
   "source": [
    "#### Question 2.3\n",
    "\n",
    "Consider we are only interested in the following 5 countries: Egypt, Haiti, Romania, Thailand, and Venezuela.\n",
    "Create a new data frame with only these 5 countries and store it in variable `gap_5`.\n",
    "\n",
    "```\n",
    "(gap_5 <- gapminder %>%\n",
    "   FILL_THIS_IN(FILL_THIS_IN %in% c(\"FILL_THIS_IN\", \"FILL_THIS_IN\", \"FILL_THIS_IN\", \"FILL_THIS_IN\", \"FILL_THIS_IN\")))\n",
    "```"
   ]
  },
  {
   "cell_type": "code",
   "execution_count": null,
   "metadata": {
    "deletable": false,
    "lines_to_next_cell": 0,
    "nbgrader": {
     "cell_type": "code",
     "checksum": "edf205a866e905713590c0d13f071e84",
     "grade": false,
     "grade_id": "cell-46503448ea2a9cb9",
     "locked": false,
     "schema_version": 3,
     "solution": true,
     "task": false
    }
   },
   "outputs": [],
   "source": [
    "# your code here\n",
    "fail() # No Answer - remove if you provide an answer"
   ]
  },
  {
   "cell_type": "code",
   "execution_count": null,
   "metadata": {
    "deletable": false,
    "editable": false,
    "lines_to_next_cell": 2,
    "nbgrader": {
     "cell_type": "code",
     "checksum": "6568b31735174816374e7a4c66f2519c",
     "grade": true,
     "grade_id": "cell-caed098411987014",
     "locked": true,
     "points": 1,
     "schema_version": 3,
     "solution": false,
     "task": false
    }
   },
   "outputs": [],
   "source": [
    "test_that(\"Question 2.3\", {\n",
    "  expect_known_hash(dim(gap_5), \"6c0f8c2a8d488051f33fc89b2c327dcd\")\n",
    "  expect_known_hash(table(gap_5$country), \"05b8ca3033e94f96b9ec5422a69c1207\")\n",
    "})\n",
    "print(\"Success!\")"
   ]
  },
  {
   "cell_type": "markdown",
   "metadata": {
    "deletable": false,
    "editable": false,
    "nbgrader": {
     "cell_type": "markdown",
     "checksum": "98fa924bccccc2a2b6e9c56a3dbbb08f",
     "grade": false,
     "grade_id": "cell-4ad94aa7ee66ed58",
     "locked": true,
     "schema_version": 3,
     "solution": false,
     "task": false
    }
   },
   "source": [
    "#### Question 2.4\n",
    "\n",
    "However, sub-setting the data set does not affect the levels of the factors.\n",
    "The column `country` in data frame `gap_5` still has the same number of levels as in the original data frame.\n",
    "Create a new data frame from `gap_5`, but drop all unused levels from column `country`.\n",
    "Store new new data frame in variable `gap_5_dropped`.\n",
    "\n",
    "```\n",
    "(gap_5_dropped <- gap_5 %>% FILL_THIS_IN())\n",
    "```"
   ]
  },
  {
   "cell_type": "code",
   "execution_count": null,
   "metadata": {
    "deletable": false,
    "lines_to_next_cell": 0,
    "nbgrader": {
     "cell_type": "code",
     "checksum": "8aae99c9a314dbfb620d3ceb99777268",
     "grade": false,
     "grade_id": "cell-7e52beeb587753f4",
     "locked": false,
     "schema_version": 3,
     "solution": true,
     "task": false
    }
   },
   "outputs": [],
   "source": [
    "# your code here\n",
    "fail() # No Answer - remove if you provide an answer"
   ]
  },
  {
   "cell_type": "code",
   "execution_count": null,
   "metadata": {
    "deletable": false,
    "editable": false,
    "nbgrader": {
     "cell_type": "code",
     "checksum": "fe33bc5f670f0796cf8bc8e47f7bf1a8",
     "grade": true,
     "grade_id": "cell-806b19b02e2333e2",
     "locked": true,
     "points": 1,
     "schema_version": 3,
     "solution": false,
     "task": false
    }
   },
   "outputs": [],
   "source": [
    "test_that(\"Question 2.4\", expect_known_hash(sort(levels(gap_5_dropped$country)), \"ac97b9af845a59395697b028c5121503\"))\n",
    "print(\"Success!\")"
   ]
  },
  {
   "cell_type": "markdown",
   "metadata": {
    "deletable": false,
    "editable": false,
    "nbgrader": {
     "cell_type": "markdown",
     "checksum": "d750ed2eb09cffca68f6a5eeb08d00df",
     "grade": false,
     "grade_id": "cell-1d6499c6b3e1bea1",
     "locked": true,
     "schema_version": 3,
     "solution": false,
     "task": false
    }
   },
   "source": [
    "#### Question 2.5\n",
    "\n",
    "The factor levels of column `continent` in data frame `gapminder` are ordered alphabetically.\n",
    "Create a new data frame, with the levels of column `continent` in ~*decreasing*~ *increasing* order according to their frequency (i.e., the number of rows for each continent).\n",
    "Store the new data frame in variable `gap_continent_freq`.\n",
    "\n",
    "```\n",
    "(gap_continent_freq <- gapminder %>%\n",
    "   mutate(continent = FILL_THIS_IN(FILL_THIS_IN(continent))))\n",
    "```\n",
    "\n",
    "**Hint**: The first `FILL_THIS_IN` corresponds to a `fct_*` function that reverses the levels of the factors. The second `FILL_THIS_IN` correspond to a `fct_*` function that orders the levels by *decreasing* frequency."
   ]
  },
  {
   "cell_type": "code",
   "execution_count": null,
   "metadata": {
    "deletable": false,
    "lines_to_next_cell": 0,
    "nbgrader": {
     "cell_type": "code",
     "checksum": "4f18954cd2c4ecee7079e54b8cf29d5b",
     "grade": false,
     "grade_id": "cell-041e1b9fdf167cc9",
     "locked": false,
     "schema_version": 3,
     "solution": true,
     "task": false
    }
   },
   "outputs": [],
   "source": [
    "# your code here\n",
    "fail() # No Answer - remove if you provide an answer"
   ]
  },
  {
   "cell_type": "code",
   "execution_count": null,
   "metadata": {
    "deletable": false,
    "editable": false,
    "nbgrader": {
     "cell_type": "code",
     "checksum": "2b9f142201102eacc2dbb48be0f22bfb",
     "grade": true,
     "grade_id": "cell-b38804e6a06d9de3",
     "locked": true,
     "points": 1,
     "schema_version": 3,
     "solution": false,
     "task": false
    }
   },
   "outputs": [],
   "source": [
    "test_that(\"Question 2.5\", expect_known_hash(table(gap_continent_freq$continent), \"0bb23ea87ce71deb5452eaae8cdbf7cf\"))\n",
    "print(\"Success!\")"
   ]
  },
  {
   "cell_type": "markdown",
   "metadata": {
    "deletable": false,
    "editable": false,
    "nbgrader": {
     "cell_type": "markdown",
     "checksum": "2f557135fecfb03cdacf94f8f4d03ba1",
     "grade": false,
     "grade_id": "cell-b8379204e1f83944",
     "locked": true,
     "schema_version": 3,
     "solution": false,
     "task": false
    }
   },
   "source": [
    "#### Question 2.6\n",
    "\n",
    "Again based on the `gapminder` data set, create another data frame, with the levels of column `continent` in *increasing* order of their average life expectancy (from column `lifeExp`).\n",
    "Store the new data frame in variable `gap_continent_life`.\n",
    "\n",
    "```\n",
    "(gap_continent_life <- gapminder %>%\n",
    "   mutate(continent = FILL_THIS_IN(FILL_THIS_IN, FILL_THIS_IN, FILL_THIS_IN)))\n",
    "```"
   ]
  },
  {
   "cell_type": "code",
   "execution_count": null,
   "metadata": {
    "deletable": false,
    "lines_to_next_cell": 0,
    "nbgrader": {
     "cell_type": "code",
     "checksum": "217c77529a2880b17ec169a6ce90042e",
     "grade": false,
     "grade_id": "cell-d9568dc0d8c17add",
     "locked": false,
     "schema_version": 3,
     "solution": true,
     "task": false
    }
   },
   "outputs": [],
   "source": [
    "# your code here\n",
    "fail() # No Answer - remove if you provide an answer"
   ]
  },
  {
   "cell_type": "code",
   "execution_count": null,
   "metadata": {
    "deletable": false,
    "editable": false,
    "nbgrader": {
     "cell_type": "code",
     "checksum": "030a6e15b39bb6655cac4e54de1744f2",
     "grade": true,
     "grade_id": "cell-7afaeb0beeff31e0",
     "locked": true,
     "points": 1,
     "schema_version": 3,
     "solution": false,
     "task": false
    }
   },
   "outputs": [],
   "source": [
    "test_that(\"Question 2.6\", expect_known_hash(table(gap_continent_life$continent), \"7688676a0807063f1bfa5b4cc721c2d9\"))\n",
    "print(\"Success!\")"
   ]
  },
  {
   "cell_type": "markdown",
   "metadata": {
    "deletable": false,
    "editable": false,
    "nbgrader": {
     "cell_type": "markdown",
     "checksum": "5ce3aabc8623423d59fcd94fe8173bb2",
     "grade": false,
     "grade_id": "cell-99aa45fbba8d8199",
     "locked": true,
     "schema_version": 3,
     "solution": false,
     "task": false
    }
   },
   "source": [
    "#### Question 2.7\n",
    "\n",
    "Consider now you want to make comparisons between countries, relative to Canada.\n",
    "Create a new data frame, with the levels of column `country` rearranged to have Canada as the first one.\n",
    "Store the new data frame in variable `gap_canada_base`.\n",
    "\n",
    "```\n",
    "(gap_canada_base <- gapminder %>%\n",
    "   mutate(country = FILL_THIS_IN(FILL_THIS_IN, \"FILL_THIS_IN\")))\n",
    "```"
   ]
  },
  {
   "cell_type": "code",
   "execution_count": null,
   "metadata": {
    "deletable": false,
    "lines_to_next_cell": 0,
    "nbgrader": {
     "cell_type": "code",
     "checksum": "9e52634a6431a0fc2b263f51fd1cc345",
     "grade": false,
     "grade_id": "cell-636b191a444f10bf",
     "locked": false,
     "schema_version": 3,
     "solution": true,
     "task": false
    }
   },
   "outputs": [],
   "source": [
    "# your code here\n",
    "fail() # No Answer - remove if you provide an answer"
   ]
  },
  {
   "cell_type": "code",
   "execution_count": null,
   "metadata": {
    "deletable": false,
    "editable": false,
    "nbgrader": {
     "cell_type": "code",
     "checksum": "0a2b758aa768c595179a607c20045f16",
     "grade": true,
     "grade_id": "cell-de2504ab380c7da4",
     "locked": true,
     "points": 1,
     "schema_version": 3,
     "solution": false,
     "task": false
    }
   },
   "outputs": [],
   "source": [
    "test_that(\"Question 2.7\", expect_known_hash(table(gap_canada_base$country), \"72d75ce05a16d8965f7bd0ae3fb986d3\"))\n",
    "print(\"Success!\")"
   ]
  },
  {
   "cell_type": "markdown",
   "metadata": {
    "deletable": false,
    "editable": false,
    "nbgrader": {
     "cell_type": "markdown",
     "checksum": "b9cb7f29e732d26cbec6583950f5adbf",
     "grade": false,
     "grade_id": "cell-4474329a11f182dd",
     "locked": true,
     "schema_version": 3,
     "solution": false,
     "task": false
    }
   },
   "source": [
    "#### Question 2.8\n",
    "\n",
    "Sometimes you want to manually change a few factor levels, e.g., if the level is too wide for plotting.\n",
    "Based on the `gapminder` data set, create a new data frame with the Central African Republic renamed to *Central African Rep.* and Bosnia and Herzegovina renamed to *Bosnia & Herzegovina*.\n",
    "Store the new data frame in variable `gap_car`.\n",
    "\n",
    "```\n",
    "(gap_car <- gapminder %>%\n",
    "   mutate(country = FILL_THIS_IN(FILL_THIS_IN, \"Central African Rep.\" = \"FILL_THIS_IN\",\n",
    "                               \"Bosnia & Herzegovina\" = \"FILL_THIS_IN\")))\n",
    "```"
   ]
  },
  {
   "cell_type": "code",
   "execution_count": null,
   "metadata": {
    "deletable": false,
    "lines_to_next_cell": 0,
    "nbgrader": {
     "cell_type": "code",
     "checksum": "02cb26c36ade3e857e19b3a370376e2f",
     "grade": false,
     "grade_id": "cell-57746edd3f5caa7d",
     "locked": false,
     "schema_version": 3,
     "solution": true,
     "task": false
    }
   },
   "outputs": [],
   "source": [
    "# your code here\n",
    "fail() # No Answer - remove if you provide an answer"
   ]
  },
  {
   "cell_type": "code",
   "execution_count": null,
   "metadata": {
    "deletable": false,
    "editable": false,
    "lines_to_next_cell": 2,
    "nbgrader": {
     "cell_type": "code",
     "checksum": "fb21779588bee69800f24fa581ce54e3",
     "grade": true,
     "grade_id": "cell-339f3fc46993a445",
     "locked": true,
     "points": 1,
     "schema_version": 3,
     "solution": false,
     "task": false
    }
   },
   "outputs": [],
   "source": [
    "test_that(\"Question 2.8\", expect_known_hash(table(gap_car$country), \"9cc15f09cb70b5596bbf3feaa73ee471\"))\n",
    "print(\"Success!\")"
   ]
  },
  {
   "cell_type": "markdown",
   "metadata": {
    "deletable": false,
    "editable": false,
    "lines_to_next_cell": 0,
    "nbgrader": {
     "cell_type": "markdown",
     "checksum": "5943f75adfb1637afd96cd8dd559c5e3",
     "grade": false,
     "grade_id": "cell-ebce2cf9fcfbd426",
     "locked": true,
     "schema_version": 3,
     "solution": false,
     "task": false
    }
   },
   "source": [
    "## TOPIC 2: Tibble Joins\n",
    "\n",
    "### Question 3\n",
    "\n",
    "Run the following R code to load the data (extracted from the R package [singer](https://github.com/JoeyBernhardt/singer))."
   ]
  },
  {
   "cell_type": "code",
   "execution_count": null,
   "metadata": {
    "deletable": false,
    "editable": false,
    "nbgrader": {
     "cell_type": "code",
     "checksum": "48b7090994d1cd383bd3afd546091a75",
     "grade": false,
     "grade_id": "cell-0bb222125a2b34c3",
     "locked": true,
     "schema_version": 3,
     "solution": false,
     "task": false
    }
   },
   "outputs": [],
   "source": [
    "suppressMessages({\n",
    "  time <- read_csv(\"https://raw.githubusercontent.com/STAT545-UBC/Classroom/master/data/singer/songs.csv\") %>% rename(song = title)\n",
    "  album <- read_csv(\"https://raw.githubusercontent.com/STAT545-UBC/Classroom/master/data/singer/loc.csv\") %>% select(title, everything()) %>% rename(song = title, album = release)\n",
    "})"
   ]
  },
  {
   "cell_type": "markdown",
   "metadata": {
    "deletable": false,
    "editable": false,
    "lines_to_next_cell": 0,
    "nbgrader": {
     "cell_type": "markdown",
     "checksum": "7690fe9095f2a55a1337dbf4ae16c1f7",
     "grade": false,
     "grade_id": "cell-41d432c846c829d3",
     "locked": true,
     "schema_version": 3,
     "solution": false,
     "task": false
    }
   },
   "source": [
    "These two data sets contain information about a few popular songs and albums.\n",
    "Run the following R codes to look at the two data sets:"
   ]
  },
  {
   "cell_type": "code",
   "execution_count": null,
   "metadata": {
    "deletable": false,
    "editable": false,
    "lines_to_next_cell": 0,
    "nbgrader": {
     "cell_type": "code",
     "checksum": "2e0ff40b714a42f596691b460348089f",
     "grade": false,
     "grade_id": "cell-e42385546e19be2e",
     "locked": true,
     "schema_version": 3,
     "solution": false,
     "task": false
    }
   },
   "outputs": [],
   "source": [
    "time"
   ]
  },
  {
   "cell_type": "code",
   "execution_count": null,
   "metadata": {
    "deletable": false,
    "editable": false,
    "nbgrader": {
     "cell_type": "code",
     "checksum": "91f9670c1714c4d8d1cebc7dc91e4cde",
     "grade": false,
     "grade_id": "cell-43a2ee99557fd52e",
     "locked": true,
     "schema_version": 3,
     "solution": false,
     "task": false
    }
   },
   "outputs": [],
   "source": [
    "album"
   ]
  },
  {
   "cell_type": "markdown",
   "metadata": {
    "deletable": false,
    "editable": false,
    "nbgrader": {
     "cell_type": "markdown",
     "checksum": "e7390dd5b29ff2c6df237514282c9af5",
     "grade": false,
     "grade_id": "cell-81082dfacbaa989f",
     "locked": true,
     "schema_version": 3,
     "solution": false,
     "task": false
    }
   },
   "source": [
    "#### Question 3.1\n",
    "We really care about the songs in `time`.\n",
    "Bot for which of the songs do we know the corresponding album?\n",
    "Create a new data frame with all songs from `time` and the information on the corresponding album.\n",
    "This new data frame should contain only the songs with a corresponding album.\n",
    "Store the joined data set in variable `songs_with_album`.\n",
    "\n",
    "```\n",
    "(songs_with_album <- time %>% \n",
    "  FILL_THIS_IN(FILL_THIS_IN, by = c(\"FILL_THIS_IN\", \"FILL_THIS_IN\")))\n",
    "```"
   ]
  },
  {
   "cell_type": "code",
   "execution_count": null,
   "metadata": {
    "deletable": false,
    "lines_to_next_cell": 0,
    "nbgrader": {
     "cell_type": "code",
     "checksum": "56396ca12c58561cd80c87d615f8d9db",
     "grade": false,
     "grade_id": "cell-7d3c34b0dd2dff5c",
     "locked": false,
     "schema_version": 3,
     "solution": true,
     "task": false
    }
   },
   "outputs": [],
   "source": [
    "# your code here\n",
    "fail() # No Answer - remove if you provide an answer"
   ]
  },
  {
   "cell_type": "code",
   "execution_count": null,
   "metadata": {
    "deletable": false,
    "editable": false,
    "nbgrader": {
     "cell_type": "code",
     "checksum": "783c3cd3cc29322c77b54537f6d9577a",
     "grade": true,
     "grade_id": "cell-e851d23c3d11b3bd",
     "locked": true,
     "points": 1,
     "schema_version": 3,
     "solution": false,
     "task": false
    }
   },
   "outputs": [],
   "source": [
    "test_that(\"Question 3.1\", {\n",
    "  expect_known_hash(sort(songs_with_album$song), \"146ff293a74ccc1ad24505a6bc0b6682\")\n",
    "  expect_known_hash(table(songs_with_album$artist_name), \"51f7daeec65e839e5ae6c84ac5a1cb70\")\n",
    "})\n",
    "print(\"Success!\")"
   ]
  },
  {
   "cell_type": "markdown",
   "metadata": {
    "deletable": false,
    "editable": false,
    "nbgrader": {
     "cell_type": "markdown",
     "checksum": "62632823c95d5883a0a048e3d2e4d6af",
     "grade": false,
     "grade_id": "cell-bfbeb7e5c7c5da68",
     "locked": true,
     "schema_version": 3,
     "solution": false,
     "task": false
    }
   },
   "source": [
    "#### Question 3.2\n",
    "Go ahead and add the corresponding albums to the `time` tibble, being sure to preserve rows even if album info is not readily available.\n",
    "Store the joined data set in variable `all_songs`.\n",
    "\n",
    "```\n",
    "(all_songs <- time %>% \n",
    "  FILL_THIS_IN(FILL_THIS_IN, by = c(\"FILL_THIS_IN\", \"FILL_THIS_IN\")))\n",
    "```"
   ]
  },
  {
   "cell_type": "code",
   "execution_count": null,
   "metadata": {
    "deletable": false,
    "lines_to_next_cell": 0,
    "nbgrader": {
     "cell_type": "code",
     "checksum": "549fc58fd4a8a29ca581947d58367ee8",
     "grade": false,
     "grade_id": "cell-05f5f08439831d83",
     "locked": false,
     "schema_version": 3,
     "solution": true,
     "task": false
    }
   },
   "outputs": [],
   "source": [
    "# your code here\n",
    "fail() # No Answer - remove if you provide an answer"
   ]
  },
  {
   "cell_type": "code",
   "execution_count": null,
   "metadata": {
    "deletable": false,
    "editable": false,
    "nbgrader": {
     "cell_type": "code",
     "checksum": "19f230d1b5d3c7f8a602d273efab023f",
     "grade": true,
     "grade_id": "cell-3add15a64f96339a",
     "locked": true,
     "points": 1,
     "schema_version": 3,
     "solution": false,
     "task": false
    }
   },
   "outputs": [],
   "source": [
    "test_that(\"Question 3.2\", {\n",
    "  expect_known_hash(sort(all_songs$song), \"dd1c0b2e14a879cb1a6f07077ed38e97\")\n",
    "  expect_known_hash(all_songs$album[order(all_songs$song)], \"2baea3c1a23797fdac5a9e0dc119073e\")\n",
    "})\n",
    "print(\"Success!\")"
   ]
  },
  {
   "cell_type": "markdown",
   "metadata": {
    "deletable": false,
    "editable": false,
    "nbgrader": {
     "cell_type": "markdown",
     "checksum": "826c5926a0b254b3c56035c05eb331e7",
     "grade": false,
     "grade_id": "cell-eff281d8aeda3161",
     "locked": true,
     "schema_version": 3,
     "solution": false,
     "task": false
    }
   },
   "source": [
    "#### Question 3.3: Joining Rows by Columns\n",
    "Create a new data frame with songs from `time` for which there is no album info.\n",
    "Store the new data set in variable `songs_without_album`.\n",
    "\n",
    "```\n",
    "(songs_without_album <- time %>% \n",
    "  FILL_THIS_IN(FILL_THIS_IN, by = c(\"FILL_THIS_IN\", \"FILL_THIS_IN\")))\n",
    "```"
   ]
  },
  {
   "cell_type": "code",
   "execution_count": null,
   "metadata": {
    "deletable": false,
    "lines_to_next_cell": 0,
    "nbgrader": {
     "cell_type": "code",
     "checksum": "5f2f6a53d184d87a4a0ed985657776f2",
     "grade": false,
     "grade_id": "cell-bd6ca35fe501ec50",
     "locked": false,
     "schema_version": 3,
     "solution": true,
     "task": false
    }
   },
   "outputs": [],
   "source": [
    "# your code here\n",
    "fail() # No Answer - remove if you provide an answer"
   ]
  },
  {
   "cell_type": "code",
   "execution_count": null,
   "metadata": {},
   "outputs": [],
   "source": [
    "test_that(\"Question 3.3\", expect_known_hash(sort(songs_without_album$song), \"146ff293a74ccc1ad24505a6bc0b6682\"))\n",
    "print(\"Success!\")"
   ]
  },
  {
   "cell_type": "markdown",
   "metadata": {},
   "source": [
    "#### Question 3.4\n",
    "Create a new data frame with *all* songs from artists for which there is no album information.\n",
    "Store the new data set in variable `songs_artists_no_album`.\n",
    "\n",
    "```\n",
    "(songs_artists_no_album <- time %>% \n",
    "  FILL_THIS_IN(FILL_THIS_IN, by = \"FILL_THIS_IN\"))\n",
    "```"
   ]
  },
  {
   "cell_type": "code",
   "execution_count": null,
   "metadata": {
    "deletable": false,
    "lines_to_next_cell": 0,
    "nbgrader": {
     "cell_type": "code",
     "checksum": "e69d69c2b9c7785265cfa54e172f40e3",
     "grade": false,
     "grade_id": "cell-129b24ab36ddde03",
     "locked": false,
     "schema_version": 3,
     "solution": true,
     "task": false
    }
   },
   "outputs": [],
   "source": [
    "# your code here\n",
    "fail() # No Answer - remove if you provide an answer"
   ]
  },
  {
   "cell_type": "code",
   "execution_count": null,
   "metadata": {
    "deletable": false,
    "editable": false,
    "nbgrader": {
     "cell_type": "code",
     "checksum": "719e1ae4dbe980d28365d6cf15a231d5",
     "grade": true,
     "grade_id": "cell-3452c71d7eb8391d",
     "locked": true,
     "points": 1,
     "schema_version": 3,
     "solution": false,
     "task": false
    }
   },
   "outputs": [],
   "source": [
    "test_that(\"Question 3.4\", expect_known_hash(table(songs_artists_no_album$artist_name), \"244510c51477c31e6e795cbc0ca0b0d7\"))\n",
    "print(\"Success!\")"
   ]
  },
  {
   "cell_type": "markdown",
   "metadata": {
    "deletable": false,
    "editable": false,
    "nbgrader": {
     "cell_type": "markdown",
     "checksum": "993517c0c1bcb9b8775c608613f02a84",
     "grade": false,
     "grade_id": "cell-7fec11ba9e292ff8",
     "locked": true,
     "schema_version": 3,
     "solution": false,
     "task": false
    }
   },
   "source": [
    "#### Question 3.5\n",
    "Create a new data frame with all the information from both tibbles, regardless of no corresponding information being present in the other tibble.\n",
    "Store the new data set in variable `all_songs_and_albums`.\n",
    "\n",
    "```\n",
    "(all_songs_and_albums <- time %>% \n",
    "  FILL_THIS_IN(FILL_THIS_IN, by = c(\"FILL_THIS_IN\", \"FILL_THIS_IN\")))\n",
    "```"
   ]
  },
  {
   "cell_type": "code",
   "execution_count": null,
   "metadata": {
    "deletable": false,
    "lines_to_next_cell": 0,
    "nbgrader": {
     "cell_type": "code",
     "checksum": "cb9ebc097060f70f102ad30c89225e42",
     "grade": false,
     "grade_id": "cell-17f8124265baf8e0",
     "locked": false,
     "schema_version": 3,
     "solution": true,
     "task": false
    }
   },
   "outputs": [],
   "source": [
    "# your code here\n",
    "fail() # No Answer - remove if you provide an answer"
   ]
  },
  {
   "cell_type": "code",
   "execution_count": null,
   "metadata": {
    "deletable": false,
    "editable": false,
    "nbgrader": {
     "cell_type": "code",
     "checksum": "9191cb862b671320716d8420f6c2b218",
     "grade": true,
     "grade_id": "cell-0bae4a61eb231bdc",
     "locked": true,
     "points": 1,
     "schema_version": 3,
     "solution": false,
     "task": false
    }
   },
   "outputs": [],
   "source": [
    "test_that(\"Question 3.5\", {\n",
    "  expect_known_hash(sort(all_songs_and_albums$song), \"ba2ba3507e50c56d21028893404259a5\")\n",
    "  expect_known_hash(with(all_songs_and_albums, album[order(song)]), \"dbc70af8d3078ea830be9cfb0dee6b9d\")\n",
    "  expect_known_hash(with(all_songs_and_albums, year[order(song)]), \"10669b0750ab4d53b54f0e509430e2d1\")\n",
    "})\n",
    "print(\"Success!\")"
   ]
  },
  {
   "cell_type": "markdown",
   "metadata": {
    "deletable": false,
    "editable": false,
    "nbgrader": {
     "cell_type": "markdown",
     "checksum": "e52b9697f0fcd5c0f6100fe2aad29a8f",
     "grade": false,
     "grade_id": "cell-3bca1c6621e1410f",
     "locked": true,
     "schema_version": 3,
     "solution": false,
     "task": false
    }
   },
   "source": [
    "### Question 4: Concatenating Rows\n",
    "\n",
    "Run the following R code to load the three Lord of the Rings tibbles that we saw a few times already."
   ]
  },
  {
   "cell_type": "code",
   "execution_count": null,
   "metadata": {
    "deletable": false,
    "editable": false,
    "nbgrader": {
     "cell_type": "code",
     "checksum": "8df817056be53e91c4e7819a9eed4529",
     "grade": false,
     "grade_id": "cell-41e97011df27fd1f",
     "locked": true,
     "schema_version": 3,
     "solution": false,
     "task": false
    }
   },
   "outputs": [],
   "source": [
    "suppressMessages({\n",
    "  fell <- read_csv(\"https://raw.githubusercontent.com/jennybc/lotr-tidy/master/data/The_Fellowship_Of_The_Ring.csv\")\n",
    "  ttow <- read_csv(\"https://raw.githubusercontent.com/jennybc/lotr-tidy/master/data/The_Two_Towers.csv\")\n",
    "  retk <- read_csv(\"https://raw.githubusercontent.com/jennybc/lotr-tidy/master/data/The_Return_Of_The_King.csv\")\n",
    "})"
   ]
  },
  {
   "cell_type": "markdown",
   "metadata": {
    "deletable": false,
    "editable": false,
    "lines_to_next_cell": 0,
    "nbgrader": {
     "cell_type": "markdown",
     "checksum": "e3cef488b9867f1881fb1befe951a762",
     "grade": false,
     "grade_id": "cell-00f8853f688a1cac",
     "locked": true,
     "schema_version": 3,
     "solution": false,
     "task": false
    }
   },
   "source": [
    "Run the following R codes to take a look at the 3 tibbles:"
   ]
  },
  {
   "cell_type": "code",
   "execution_count": null,
   "metadata": {
    "deletable": false,
    "editable": false,
    "lines_to_next_cell": 0,
    "nbgrader": {
     "cell_type": "code",
     "checksum": "cf3c8b40799f4e0901e1ba86eed4b994",
     "grade": false,
     "grade_id": "cell-83ad6b3db4ab34cd",
     "locked": true,
     "schema_version": 3,
     "solution": false,
     "task": false
    }
   },
   "outputs": [],
   "source": [
    "fell"
   ]
  },
  {
   "cell_type": "code",
   "execution_count": null,
   "metadata": {
    "deletable": false,
    "editable": false,
    "lines_to_next_cell": 0,
    "nbgrader": {
     "cell_type": "code",
     "checksum": "735e681bd18461f3016d948b43c8787a",
     "grade": false,
     "grade_id": "cell-d6e0b8ca24c1e571",
     "locked": true,
     "schema_version": 3,
     "solution": false,
     "task": false
    }
   },
   "outputs": [],
   "source": [
    "ttow"
   ]
  },
  {
   "cell_type": "code",
   "execution_count": null,
   "metadata": {
    "deletable": false,
    "editable": false,
    "nbgrader": {
     "cell_type": "code",
     "checksum": "5829d1044a023667ebcb840e4e1b02c2",
     "grade": false,
     "grade_id": "cell-35c54be74e77d971",
     "locked": true,
     "schema_version": 3,
     "solution": false,
     "task": false
    }
   },
   "outputs": [],
   "source": [
    "retk"
   ]
  },
  {
   "cell_type": "markdown",
   "metadata": {
    "deletable": false,
    "editable": false,
    "nbgrader": {
     "cell_type": "markdown",
     "checksum": "6367b0ed4962c26f1a0156a701af3aaa",
     "grade": false,
     "grade_id": "cell-dccbf8195a0dae5c",
     "locked": true,
     "schema_version": 3,
     "solution": false,
     "task": false
    }
   },
   "source": [
    "#### Question 4.1\n",
    "\n",
    "Combine the three data sets into a single tibble, storing the new tibble in variable `lotr`.\n",
    "\n",
    "```\n",
    "(lotr <- FILL_THIS_IN(fell, ttow, retk))\n",
    "```"
   ]
  },
  {
   "cell_type": "code",
   "execution_count": null,
   "metadata": {
    "deletable": false,
    "lines_to_next_cell": 0,
    "nbgrader": {
     "cell_type": "code",
     "checksum": "635af25a39374bedefea621e28427156",
     "grade": false,
     "grade_id": "cell-ef7784a633e9d4cb",
     "locked": false,
     "schema_version": 3,
     "solution": true,
     "task": false
    }
   },
   "outputs": [],
   "source": [
    "# your code here\n",
    "fail() # No Answer - remove if you provide an answer"
   ]
  },
  {
   "cell_type": "code",
   "execution_count": null,
   "metadata": {
    "deletable": false,
    "editable": false,
    "nbgrader": {
     "cell_type": "code",
     "checksum": "78b572db762021d4d653f7732c78b82e",
     "grade": true,
     "grade_id": "cell-f900e47761160711",
     "locked": true,
     "points": 1,
     "schema_version": 3,
     "solution": false,
     "task": false
    }
   },
   "outputs": [],
   "source": [
    "test_that(\"Question 4.1\", expect_known_hash(table(lotr$Film), \"41c29122f6c217d447e85a9069f5a92f\"))\n",
    "print(\"Success!\")"
   ]
  },
  {
   "cell_type": "markdown",
   "metadata": {
    "deletable": false,
    "editable": false,
    "nbgrader": {
     "cell_type": "markdown",
     "checksum": "e577573ba045fd3aaaefc2a4fa378a70",
     "grade": false,
     "grade_id": "cell-79cd7306e084b4cc",
     "locked": true,
     "schema_version": 3,
     "solution": false,
     "task": false
    }
   },
   "source": [
    "#### Question 4.2\n",
    "\n",
    "Create a new data set with all races that are present in \"The Fellowship of the Ring\" (`fell`), but not in any of the other ones.\n",
    "Store the new data frame in variable `only_fell`.\n",
    "\n",
    "```\n",
    "(only_fell <- fell %>% \n",
    "  FILL_THIS_IN(ttow, by = \"Race\") %>% \n",
    "  FILL_THIS_IN(retk, by = \"Race\"))\n",
    "```"
   ]
  },
  {
   "cell_type": "code",
   "execution_count": null,
   "metadata": {
    "deletable": false,
    "lines_to_next_cell": 0,
    "nbgrader": {
     "cell_type": "code",
     "checksum": "32673d96e307abadbbe91fcba6f9335b",
     "grade": false,
     "grade_id": "cell-b5fccbeb7ec1ddf5",
     "locked": false,
     "schema_version": 3,
     "solution": true,
     "task": false
    }
   },
   "outputs": [],
   "source": [
    "# your code here\n",
    "fail() # No Answer - remove if you provide an answer"
   ]
  },
  {
   "cell_type": "code",
   "execution_count": null,
   "metadata": {
    "deletable": false,
    "editable": false,
    "nbgrader": {
     "cell_type": "code",
     "checksum": "5186658eb86e3fc944de9d6ecb0c10d7",
     "grade": true,
     "grade_id": "cell-79aa3741b99e2667",
     "locked": true,
     "points": 1,
     "schema_version": 3,
     "solution": false,
     "task": false
    }
   },
   "outputs": [],
   "source": [
    "test_that(\"Question 4.2\", expect_known_hash(dim(only_fell), \"d1e54b618e5808b540dbdfbb7f75026f\"))\n",
    "print(\"Success!\")"
   ]
  },
  {
   "cell_type": "markdown",
   "metadata": {
    "deletable": false,
    "editable": false,
    "lines_to_next_cell": 0,
    "nbgrader": {
     "cell_type": "markdown",
     "checksum": "f8ab9afd6b877e50aad2f2a98fd0c73d",
     "grade": false,
     "grade_id": "cell-d1bd923a8a3c9a16",
     "locked": true,
     "schema_version": 3,
     "solution": false,
     "task": false
    }
   },
   "source": [
    "### Question 5: Set Operations\n",
    "\n",
    "Let's use three set functions: `intersect()`, `union()` and `setdiff()`.\n",
    "They work for data frames with the same column names.\n",
    "\n",
    "We'll work with two toy tibbles named `y` and `z`, similar to the Data Wrangling Cheatsheet.\n",
    "\n",
    "Run the following R codes to create the data."
   ]
  },
  {
   "cell_type": "code",
   "execution_count": null,
   "metadata": {
    "deletable": false,
    "editable": false,
    "nbgrader": {
     "cell_type": "code",
     "checksum": "70773086505cfcc2bf778def8428e9e8",
     "grade": false,
     "grade_id": "cell-baae74bab6546360",
     "locked": true,
     "schema_version": 3,
     "solution": false,
     "task": false
    }
   },
   "outputs": [],
   "source": [
    "(y <-  tibble(x1 = LETTERS[1:3], x2 = 1:3))"
   ]
  },
  {
   "cell_type": "code",
   "execution_count": null,
   "metadata": {
    "deletable": false,
    "editable": false,
    "nbgrader": {
     "cell_type": "code",
     "checksum": "ef560d32a3416dbb9632c4d77c2af662",
     "grade": false,
     "grade_id": "cell-2b7351a73648122a",
     "locked": true,
     "schema_version": 3,
     "solution": false,
     "task": false
    }
   },
   "outputs": [],
   "source": [
    "(z <- tibble(x1 = c(\"B\", \"C\", \"D\"), x2 = 2:4))"
   ]
  },
  {
   "cell_type": "markdown",
   "metadata": {
    "deletable": false,
    "editable": false,
    "nbgrader": {
     "cell_type": "markdown",
     "checksum": "0c74b8de34bb296b716f1297e14b69bc",
     "grade": false,
     "grade_id": "cell-5e730724ecd74680",
     "locked": true,
     "schema_version": 3,
     "solution": false,
     "task": false
    }
   },
   "source": [
    "#### Question 5.1\n",
    "\n",
    "Use one of the three methods mentioned above to create a new data set which contains all rows that appear in both `y` and `z`.\n",
    "Store the new data frame in variable `in_both`\n",
    "\n",
    "```\n",
    "(in_both <- FILL_THIS_IN(y, z))\n",
    "```"
   ]
  },
  {
   "cell_type": "code",
   "execution_count": null,
   "metadata": {
    "deletable": false,
    "lines_to_next_cell": 0,
    "nbgrader": {
     "cell_type": "code",
     "checksum": "b9e1cbe089f80f06772eff5425c29f84",
     "grade": false,
     "grade_id": "cell-e267783b3599e511",
     "locked": false,
     "schema_version": 3,
     "solution": true,
     "task": false
    }
   },
   "outputs": [],
   "source": [
    "# your code here\n",
    "fail() # No Answer - remove if you provide an answer"
   ]
  },
  {
   "cell_type": "code",
   "execution_count": null,
   "metadata": {
    "deletable": false,
    "editable": false,
    "nbgrader": {
     "cell_type": "code",
     "checksum": "3124e090f84ef04d4f26701bb5a98932",
     "grade": true,
     "grade_id": "cell-52d241c8bca32dad",
     "locked": true,
     "points": 1,
     "schema_version": 3,
     "solution": false,
     "task": false
    }
   },
   "outputs": [],
   "source": [
    "test_that(\"Question 5.1\", expect_known_hash(in_both$x1, \"745ec49ab3231655a04484be44a15f98\"))\n",
    "print(\"Success!\")"
   ]
  },
  {
   "cell_type": "markdown",
   "metadata": {
    "deletable": false,
    "editable": false,
    "nbgrader": {
     "cell_type": "markdown",
     "checksum": "1534d0545b25a6ee037e6f9aaffb976e",
     "grade": false,
     "grade_id": "cell-26dd7f2f3531aef8",
     "locked": true,
     "schema_version": 3,
     "solution": false,
     "task": false
    }
   },
   "source": [
    "#### Question 5.2\n",
    "Assume that rows in `y` are from *Day 1* and rows in `z` are from *Day 2*.\n",
    "Create a new data set with all rows from `y` and `z`, as well as an additional column `day` which is *Day 1* for rows from `y` and *Day 2* for rows from `z`.\n",
    "Store the new data set in variable `both_days`.\n",
    "\n",
    "```\n",
    "(both_days <- FILL_THIS_IN(\n",
    "  mutate(y, day = \"Day 1\"),\n",
    "  mutate(z, day = \"Day 2\")\n",
    "))\n",
    "```"
   ]
  },
  {
   "cell_type": "code",
   "execution_count": null,
   "metadata": {
    "deletable": false,
    "lines_to_next_cell": 0,
    "nbgrader": {
     "cell_type": "code",
     "checksum": "4bca9822c6afdd16c2b92277fecf083a",
     "grade": false,
     "grade_id": "cell-cb58ae9785411629",
     "locked": false,
     "schema_version": 3,
     "solution": true,
     "task": false
    }
   },
   "outputs": [],
   "source": [
    "# your code here\n",
    "fail() # No Answer - remove if you provide an answer"
   ]
  },
  {
   "cell_type": "code",
   "execution_count": null,
   "metadata": {
    "deletable": false,
    "editable": false,
    "nbgrader": {
     "cell_type": "code",
     "checksum": "0d6f6a3b65c56f79f84bd9621eb45997",
     "grade": true,
     "grade_id": "cell-50e235b2f53237e1",
     "locked": true,
     "points": 1,
     "schema_version": 3,
     "solution": false,
     "task": false
    }
   },
   "outputs": [],
   "source": [
    "test_that(\"Question 5.2\", expect_known_hash(with(both_days, x1[order(x2, day)]), \"66b9eefd39c2f0b5d130453c139a2051\"))\n",
    "print(\"Success!\")"
   ]
  },
  {
   "cell_type": "markdown",
   "metadata": {
    "deletable": false,
    "editable": false,
    "nbgrader": {
     "cell_type": "markdown",
     "checksum": "85dddba5556822346bd6ad49d5ebbd68",
     "grade": false,
     "grade_id": "cell-199323d324c8580e",
     "locked": true,
     "schema_version": 3,
     "solution": false,
     "task": false
    }
   },
   "source": [
    "#### Question 5.3\n",
    "\n",
    "The rows contained in `z` are bad.\n",
    "Use one of the three methods mentioned above to create a new data set which contains only the rows from `y` which are not in `z`.\n",
    "Store the new data frame in variable `only_y`\n",
    "\n",
    "```\n",
    "(only_y <- FILL_THIS_IN(y, z))\n",
    "```"
   ]
  },
  {
   "cell_type": "code",
   "execution_count": null,
   "metadata": {
    "deletable": false,
    "lines_to_next_cell": 0,
    "nbgrader": {
     "cell_type": "code",
     "checksum": "2d1e0583f6b73b66685a809bc713d83f",
     "grade": false,
     "grade_id": "cell-f23a4f7c749f9a42",
     "locked": false,
     "schema_version": 3,
     "solution": true,
     "task": false
    }
   },
   "outputs": [],
   "source": [
    "# your code here\n",
    "fail() # No Answer - remove if you provide an answer"
   ]
  },
  {
   "cell_type": "code",
   "execution_count": null,
   "metadata": {
    "deletable": false,
    "editable": false,
    "nbgrader": {
     "cell_type": "code",
     "checksum": "d3483e10942db7735a9e820c3b3c6722",
     "grade": true,
     "grade_id": "cell-99b0c66bc2260c3a",
     "locked": true,
     "points": 1,
     "schema_version": 3,
     "solution": false,
     "task": false
    }
   },
   "outputs": [],
   "source": [
    "test_that(\"Question 5.3\", expect_known_hash(only_y$x1, \"75f1160e72554f4270c809f041c7a776\"))\n",
    "print(\"Success!\")"
   ]
  },
  {
   "cell_type": "markdown",
   "metadata": {
    "deletable": false,
    "editable": false,
    "nbgrader": {
     "cell_type": "markdown",
     "checksum": "51982d812b165ea90143d635b5bd0c2f",
     "grade": false,
     "grade_id": "cell-dbacfd6c24590e38",
     "locked": true,
     "schema_version": 3,
     "solution": false,
     "task": false
    }
   },
   "source": [
    "### Question 6- Dates and Tsibble "
   ]
  },
  {
   "cell_type": "markdown",
   "metadata": {
    "deletable": false,
    "editable": false,
    "nbgrader": {
     "cell_type": "markdown",
     "checksum": "a08daa6c40ec723ddf21cf731cf30846",
     "grade": false,
     "grade_id": "cell-c43c897ae13fcab2",
     "locked": true,
     "schema_version": 3,
     "solution": false,
     "task": false
    }
   },
   "source": [
    "We're going to take a look at the Tsibble package and how it works with dates. Let's first load this package. "
   ]
  },
  {
   "cell_type": "markdown",
   "metadata": {
    "deletable": false,
    "editable": false,
    "nbgrader": {
     "cell_type": "markdown",
     "checksum": "e67b91d05727c35425aec1e5ff4fcab7",
     "grade": false,
     "grade_id": "cell-50adaa9f821e21fb",
     "locked": true,
     "schema_version": 3,
     "solution": false,
     "task": false
    }
   },
   "source": [
    "#### Question 6.1"
   ]
  },
  {
   "cell_type": "code",
   "execution_count": null,
   "metadata": {},
   "outputs": [],
   "source": [
    "#install.packages(\"tsibble\")\n",
    "suppressPackageStartupMessages(library(tsibble))"
   ]
  },
  {
   "cell_type": "markdown",
   "metadata": {
    "deletable": false,
    "editable": false,
    "nbgrader": {
     "cell_type": "markdown",
     "checksum": "3f14fb8b459a9e2e13958467d93a8faa",
     "grade": false,
     "grade_id": "cell-9512560549311751",
     "locked": true,
     "schema_version": 3,
     "solution": false,
     "task": false
    }
   },
   "source": [
    "Next let's take a look at the built in presidential dataset that looks at the start and ending terms of US presidents. "
   ]
  },
  {
   "cell_type": "code",
   "execution_count": null,
   "metadata": {
    "deletable": false,
    "editable": false,
    "nbgrader": {
     "cell_type": "code",
     "checksum": "246325f07aae4a0f4815628aac685ca8",
     "grade": false,
     "grade_id": "cell-a37c8810b6e3de5d",
     "locked": true,
     "schema_version": 3,
     "solution": false,
     "task": false
    }
   },
   "outputs": [],
   "source": [
    "presidential"
   ]
  },
  {
   "cell_type": "markdown",
   "metadata": {
    "deletable": false,
    "editable": false,
    "nbgrader": {
     "cell_type": "markdown",
     "checksum": "5e898f3bd8e5392ece174a63c98b7bc5",
     "grade": false,
     "grade_id": "cell-3ec12f8dddc1b136",
     "locked": true,
     "schema_version": 3,
     "solution": false,
     "task": false
    }
   },
   "source": [
    "Using `tsibble` to convert the existing start and end column dates into only year and month. Name this tibble\n",
    "`president_ym`.\n",
    "\n",
    "```\n",
    "(president_ym <- presidential %>%\n",
    " mutate(start=FILL_THIS_IN(start), end=FILL_THIS_IN(end)))\n",
    "```\n"
   ]
  },
  {
   "cell_type": "code",
   "execution_count": null,
   "metadata": {
    "deletable": false,
    "nbgrader": {
     "cell_type": "code",
     "checksum": "7ef4504468da877571e569cc07f67d68",
     "grade": false,
     "grade_id": "cell-1bb9d4544eb25006",
     "locked": false,
     "schema_version": 3,
     "solution": true,
     "task": false
    }
   },
   "outputs": [],
   "source": [
    "# your code here\n",
    "fail() # No Answer - remove if you provide an answer"
   ]
  },
  {
   "cell_type": "code",
   "execution_count": null,
   "metadata": {
    "deletable": false,
    "editable": false,
    "nbgrader": {
     "cell_type": "code",
     "checksum": "67fde07fcba4b2ded96923b795760afb",
     "grade": true,
     "grade_id": "cell-7d4a3a9d3ba31dd4",
     "locked": true,
     "points": 1,
     "schema_version": 3,
     "solution": false,
     "task": false
    }
   },
   "outputs": [],
   "source": [
    "test_that(\"Question 6.1\", expect_known_hash(president_ym[1,], \"8b9ac24bc52a692ab7d1bd83f9e0a19c\"))\n",
    "print(\"Success!\")"
   ]
  }
 ],
 "metadata": {
  "jupytext": {
   "cell_metadata_filter": "-all"
  },
  "kernelspec": {
   "display_name": "R",
   "language": "R",
   "name": "ir"
  },
  "language_info": {
   "codemirror_mode": "r",
   "file_extension": ".r",
   "mimetype": "text/x-r-source",
   "name": "R",
   "pygments_lexer": "r",
   "version": "4.0.2"
  }
 },
 "nbformat": 4,
 "nbformat_minor": 4
}
